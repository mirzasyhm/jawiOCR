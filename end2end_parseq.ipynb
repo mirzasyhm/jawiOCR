{
  "nbformat": 4,
  "nbformat_minor": 0,
  "metadata": {
    "colab": {
      "provenance": [],
      "gpuType": "L4",
      "machine_shape": "hm"
    },
    "kernelspec": {
      "name": "python3",
      "display_name": "Python 3"
    },
    "language_info": {
      "name": "python"
    },
    "accelerator": "GPU"
  },
  "cells": [
    {
      "cell_type": "code",
      "execution_count": null,
      "metadata": {
        "colab": {
          "base_uri": "https://localhost:8080/"
        },
        "id": "ycx1XuthVEom",
        "outputId": "705955ac-7510-42ea-f125-617edea10910"
      },
      "outputs": [
        {
          "output_type": "stream",
          "name": "stdout",
          "text": [
            "/content\n",
            "Cloning into 'jawiOCR'...\n",
            "remote: Enumerating objects: 568, done.\u001b[K\n",
            "remote: Counting objects: 100% (190/190), done.\u001b[K\n",
            "remote: Compressing objects: 100% (141/141), done.\u001b[K\n",
            "remote: Total 568 (delta 110), reused 127 (delta 47), pack-reused 378 (from 1)\u001b[K\n",
            "Receiving objects: 100% (568/568), 102.61 MiB | 17.04 MiB/s, done.\n",
            "Resolving deltas: 100% (231/231), done.\n",
            "/content/jawiOCR\n"
          ]
        }
      ],
      "source": [
        "%cd /content\n",
        "!rm -r jawiOCR\n",
        "!git clone https://github.com/mirzasyhm/jawiOCR.git\n",
        "%cd /content/jawiOCR/"
      ]
    },
    {
      "cell_type": "code",
      "source": [
        "!pip install pip-tools\n",
        "!pip install -r ./jord/requirements.txt\n",
        "!pip install -r ./craft/requirements.txt"
      ],
      "metadata": {
        "colab": {
          "base_uri": "https://localhost:8080/",
          "height": 1000
        },
        "id": "rKnKaIVGdXDi",
        "outputId": "ba96cdc9-e699-46c0-e3e7-369505c6acc6"
      },
      "execution_count": null,
      "outputs": [
        {
          "output_type": "stream",
          "name": "stdout",
          "text": [
            "Requirement already satisfied: pip-tools in /usr/local/lib/python3.11/dist-packages (7.4.1)\n",
            "Requirement already satisfied: build>=1.0.0 in /usr/local/lib/python3.11/dist-packages (from pip-tools) (1.2.2.post1)\n",
            "Requirement already satisfied: click>=8 in /usr/local/lib/python3.11/dist-packages (from pip-tools) (8.2.1)\n",
            "Requirement already satisfied: pip>=22.2 in /usr/local/lib/python3.11/dist-packages (from pip-tools) (24.1.2)\n",
            "Requirement already satisfied: pyproject-hooks in /usr/local/lib/python3.11/dist-packages (from pip-tools) (1.2.0)\n",
            "Requirement already satisfied: setuptools in /usr/local/lib/python3.11/dist-packages (from pip-tools) (80.9.0)\n",
            "Requirement already satisfied: wheel in /usr/local/lib/python3.11/dist-packages (from pip-tools) (0.45.1)\n",
            "Requirement already satisfied: packaging>=19.1 in /usr/local/lib/python3.11/dist-packages (from build>=1.0.0->pip-tools) (23.2)\n",
            "Collecting tensorflow==2.17.0 (from tensorflow[and-cuda]==2.17.0->-r ./jord/requirements.txt (line 1))\n",
            "  Using cached tensorflow-2.17.0-cp311-cp311-manylinux_2_17_x86_64.manylinux2014_x86_64.whl.metadata (4.2 kB)\n",
            "Requirement already satisfied: matplotlib in /usr/local/lib/python3.11/dist-packages (from -r ./jord/requirements.txt (line 2)) (3.10.3)\n",
            "Requirement already satisfied: numpy==1.26.4 in /usr/local/lib/python3.11/dist-packages (from -r ./jord/requirements.txt (line 3)) (1.26.4)\n",
            "Requirement already satisfied: pillow==11.2.1 in /usr/local/lib/python3.11/dist-packages (from -r ./jord/requirements.txt (line 4)) (11.2.1)\n",
            "Requirement already satisfied: jiwer in /usr/local/lib/python3.11/dist-packages (from -r ./jord/requirements.txt (line 5)) (3.1.0)\n",
            "Collecting tf-keras==2.17.0 (from -r ./jord/requirements.txt (line 6))\n",
            "  Using cached tf_keras-2.17.0-py3-none-any.whl.metadata (1.6 kB)\n",
            "Collecting tensorflow-text==2.17.0 (from -r ./jord/requirements.txt (line 7))\n",
            "  Downloading tensorflow_text-2.17.0-cp311-cp311-manylinux_2_17_x86_64.manylinux2014_x86_64.whl.metadata (1.8 kB)\n",
            "Requirement already satisfied: absl-py>=1.0.0 in /usr/local/lib/python3.11/dist-packages (from tensorflow==2.17.0->tensorflow[and-cuda]==2.17.0->-r ./jord/requirements.txt (line 1)) (1.4.0)\n",
            "Requirement already satisfied: astunparse>=1.6.0 in /usr/local/lib/python3.11/dist-packages (from tensorflow==2.17.0->tensorflow[and-cuda]==2.17.0->-r ./jord/requirements.txt (line 1)) (1.6.3)\n",
            "Requirement already satisfied: flatbuffers>=24.3.25 in /usr/local/lib/python3.11/dist-packages (from tensorflow==2.17.0->tensorflow[and-cuda]==2.17.0->-r ./jord/requirements.txt (line 1)) (25.2.10)\n",
            "Requirement already satisfied: gast!=0.5.0,!=0.5.1,!=0.5.2,>=0.2.1 in /usr/local/lib/python3.11/dist-packages (from tensorflow==2.17.0->tensorflow[and-cuda]==2.17.0->-r ./jord/requirements.txt (line 1)) (0.6.0)\n",
            "Requirement already satisfied: google-pasta>=0.1.1 in /usr/local/lib/python3.11/dist-packages (from tensorflow==2.17.0->tensorflow[and-cuda]==2.17.0->-r ./jord/requirements.txt (line 1)) (0.2.0)\n",
            "Requirement already satisfied: h5py>=3.10.0 in /usr/local/lib/python3.11/dist-packages (from tensorflow==2.17.0->tensorflow[and-cuda]==2.17.0->-r ./jord/requirements.txt (line 1)) (3.13.0)\n",
            "Requirement already satisfied: libclang>=13.0.0 in /usr/local/lib/python3.11/dist-packages (from tensorflow==2.17.0->tensorflow[and-cuda]==2.17.0->-r ./jord/requirements.txt (line 1)) (18.1.1)\n",
            "Collecting ml-dtypes<0.5.0,>=0.3.1 (from tensorflow==2.17.0->tensorflow[and-cuda]==2.17.0->-r ./jord/requirements.txt (line 1))\n",
            "  Downloading ml_dtypes-0.4.1-cp311-cp311-manylinux_2_17_x86_64.manylinux2014_x86_64.whl.metadata (20 kB)\n",
            "Requirement already satisfied: opt-einsum>=2.3.2 in /usr/local/lib/python3.11/dist-packages (from tensorflow==2.17.0->tensorflow[and-cuda]==2.17.0->-r ./jord/requirements.txt (line 1)) (3.4.0)\n",
            "Requirement already satisfied: packaging in /usr/local/lib/python3.11/dist-packages (from tensorflow==2.17.0->tensorflow[and-cuda]==2.17.0->-r ./jord/requirements.txt (line 1)) (23.2)\n",
            "Requirement already satisfied: protobuf!=4.21.0,!=4.21.1,!=4.21.2,!=4.21.3,!=4.21.4,!=4.21.5,<5.0.0dev,>=3.20.3 in /usr/local/lib/python3.11/dist-packages (from tensorflow==2.17.0->tensorflow[and-cuda]==2.17.0->-r ./jord/requirements.txt (line 1)) (4.25.8)\n",
            "Requirement already satisfied: requests<3,>=2.21.0 in /usr/local/lib/python3.11/dist-packages (from tensorflow==2.17.0->tensorflow[and-cuda]==2.17.0->-r ./jord/requirements.txt (line 1)) (2.32.3)\n",
            "Requirement already satisfied: setuptools in /usr/local/lib/python3.11/dist-packages (from tensorflow==2.17.0->tensorflow[and-cuda]==2.17.0->-r ./jord/requirements.txt (line 1)) (80.9.0)\n",
            "Requirement already satisfied: six>=1.12.0 in /usr/local/lib/python3.11/dist-packages (from tensorflow==2.17.0->tensorflow[and-cuda]==2.17.0->-r ./jord/requirements.txt (line 1)) (1.17.0)\n",
            "Requirement already satisfied: termcolor>=1.1.0 in /usr/local/lib/python3.11/dist-packages (from tensorflow==2.17.0->tensorflow[and-cuda]==2.17.0->-r ./jord/requirements.txt (line 1)) (3.1.0)\n",
            "Requirement already satisfied: typing-extensions>=3.6.6 in /usr/local/lib/python3.11/dist-packages (from tensorflow==2.17.0->tensorflow[and-cuda]==2.17.0->-r ./jord/requirements.txt (line 1)) (4.13.2)\n",
            "Requirement already satisfied: wrapt>=1.11.0 in /usr/local/lib/python3.11/dist-packages (from tensorflow==2.17.0->tensorflow[and-cuda]==2.17.0->-r ./jord/requirements.txt (line 1)) (1.14.1)\n",
            "Requirement already satisfied: grpcio<2.0,>=1.24.3 in /usr/local/lib/python3.11/dist-packages (from tensorflow==2.17.0->tensorflow[and-cuda]==2.17.0->-r ./jord/requirements.txt (line 1)) (1.71.0)\n",
            "Collecting tensorboard<2.18,>=2.17 (from tensorflow==2.17.0->tensorflow[and-cuda]==2.17.0->-r ./jord/requirements.txt (line 1))\n",
            "  Downloading tensorboard-2.17.1-py3-none-any.whl.metadata (1.6 kB)\n",
            "Collecting keras>=3.2.0 (from tensorflow==2.17.0->tensorflow[and-cuda]==2.17.0->-r ./jord/requirements.txt (line 1))\n",
            "  Downloading keras-3.10.0-py3-none-any.whl.metadata (6.0 kB)\n",
            "Requirement already satisfied: tensorflow-io-gcs-filesystem>=0.23.1 in /usr/local/lib/python3.11/dist-packages (from tensorflow==2.17.0->tensorflow[and-cuda]==2.17.0->-r ./jord/requirements.txt (line 1)) (0.37.1)\n",
            "Collecting nvidia-cublas-cu12==12.3.4.1 (from tensorflow[and-cuda]==2.17.0->-r ./jord/requirements.txt (line 1))\n",
            "  Downloading nvidia_cublas_cu12-12.3.4.1-py3-none-manylinux1_x86_64.whl.metadata (1.5 kB)\n",
            "Collecting nvidia-cuda-cupti-cu12==12.3.101 (from tensorflow[and-cuda]==2.17.0->-r ./jord/requirements.txt (line 1))\n",
            "  Downloading nvidia_cuda_cupti_cu12-12.3.101-py3-none-manylinux1_x86_64.whl.metadata (1.6 kB)\n",
            "Collecting nvidia-cuda-nvcc-cu12==12.3.107 (from tensorflow[and-cuda]==2.17.0->-r ./jord/requirements.txt (line 1))\n",
            "  Downloading nvidia_cuda_nvcc_cu12-12.3.107-py3-none-manylinux1_x86_64.whl.metadata (1.5 kB)\n",
            "Collecting nvidia-cuda-nvrtc-cu12==12.3.107 (from tensorflow[and-cuda]==2.17.0->-r ./jord/requirements.txt (line 1))\n",
            "  Downloading nvidia_cuda_nvrtc_cu12-12.3.107-py3-none-manylinux1_x86_64.whl.metadata (1.5 kB)\n",
            "Collecting nvidia-cuda-runtime-cu12==12.3.101 (from tensorflow[and-cuda]==2.17.0->-r ./jord/requirements.txt (line 1))\n",
            "  Downloading nvidia_cuda_runtime_cu12-12.3.101-py3-none-manylinux1_x86_64.whl.metadata (1.5 kB)\n",
            "Collecting nvidia-cudnn-cu12==8.9.7.29 (from tensorflow[and-cuda]==2.17.0->-r ./jord/requirements.txt (line 1))\n",
            "  Downloading nvidia_cudnn_cu12-8.9.7.29-py3-none-manylinux1_x86_64.whl.metadata (1.6 kB)\n",
            "Collecting nvidia-cufft-cu12==11.0.12.1 (from tensorflow[and-cuda]==2.17.0->-r ./jord/requirements.txt (line 1))\n",
            "  Downloading nvidia_cufft_cu12-11.0.12.1-py3-none-manylinux1_x86_64.whl.metadata (1.5 kB)\n",
            "Collecting nvidia-curand-cu12==10.3.4.107 (from tensorflow[and-cuda]==2.17.0->-r ./jord/requirements.txt (line 1))\n",
            "  Downloading nvidia_curand_cu12-10.3.4.107-py3-none-manylinux1_x86_64.whl.metadata (1.5 kB)\n",
            "Collecting nvidia-cusolver-cu12==11.5.4.101 (from tensorflow[and-cuda]==2.17.0->-r ./jord/requirements.txt (line 1))\n",
            "  Downloading nvidia_cusolver_cu12-11.5.4.101-py3-none-manylinux1_x86_64.whl.metadata (1.6 kB)\n",
            "Collecting nvidia-cusparse-cu12==12.2.0.103 (from tensorflow[and-cuda]==2.17.0->-r ./jord/requirements.txt (line 1))\n",
            "  Downloading nvidia_cusparse_cu12-12.2.0.103-py3-none-manylinux1_x86_64.whl.metadata (1.6 kB)\n",
            "Collecting nvidia-nccl-cu12==2.19.3 (from tensorflow[and-cuda]==2.17.0->-r ./jord/requirements.txt (line 1))\n",
            "  Downloading nvidia_nccl_cu12-2.19.3-py3-none-manylinux1_x86_64.whl.metadata (1.8 kB)\n",
            "Collecting nvidia-nvjitlink-cu12==12.3.101 (from tensorflow[and-cuda]==2.17.0->-r ./jord/requirements.txt (line 1))\n",
            "  Downloading nvidia_nvjitlink_cu12-12.3.101-py3-none-manylinux1_x86_64.whl.metadata (1.5 kB)\n",
            "Requirement already satisfied: contourpy>=1.0.1 in /usr/local/lib/python3.11/dist-packages (from matplotlib->-r ./jord/requirements.txt (line 2)) (1.3.2)\n",
            "Requirement already satisfied: cycler>=0.10 in /usr/local/lib/python3.11/dist-packages (from matplotlib->-r ./jord/requirements.txt (line 2)) (0.12.1)\n",
            "Requirement already satisfied: fonttools>=4.22.0 in /usr/local/lib/python3.11/dist-packages (from matplotlib->-r ./jord/requirements.txt (line 2)) (4.58.1)\n",
            "Requirement already satisfied: kiwisolver>=1.3.1 in /usr/local/lib/python3.11/dist-packages (from matplotlib->-r ./jord/requirements.txt (line 2)) (1.4.8)\n",
            "Requirement already satisfied: pyparsing>=2.3.1 in /usr/local/lib/python3.11/dist-packages (from matplotlib->-r ./jord/requirements.txt (line 2)) (3.2.3)\n",
            "Requirement already satisfied: python-dateutil>=2.7 in /usr/local/lib/python3.11/dist-packages (from matplotlib->-r ./jord/requirements.txt (line 2)) (2.9.0.post0)\n",
            "Requirement already satisfied: click>=8.1.8 in /usr/local/lib/python3.11/dist-packages (from jiwer->-r ./jord/requirements.txt (line 5)) (8.2.1)\n",
            "Requirement already satisfied: rapidfuzz>=3.9.7 in /usr/local/lib/python3.11/dist-packages (from jiwer->-r ./jord/requirements.txt (line 5)) (3.13.0)\n",
            "Requirement already satisfied: wheel<1.0,>=0.23.0 in /usr/local/lib/python3.11/dist-packages (from astunparse>=1.6.0->tensorflow==2.17.0->tensorflow[and-cuda]==2.17.0->-r ./jord/requirements.txt (line 1)) (0.45.1)\n",
            "Requirement already satisfied: rich in /usr/local/lib/python3.11/dist-packages (from keras>=3.2.0->tensorflow==2.17.0->tensorflow[and-cuda]==2.17.0->-r ./jord/requirements.txt (line 1)) (13.9.4)\n",
            "Requirement already satisfied: namex in /usr/local/lib/python3.11/dist-packages (from keras>=3.2.0->tensorflow==2.17.0->tensorflow[and-cuda]==2.17.0->-r ./jord/requirements.txt (line 1)) (0.0.9)\n",
            "Requirement already satisfied: optree in /usr/local/lib/python3.11/dist-packages (from keras>=3.2.0->tensorflow==2.17.0->tensorflow[and-cuda]==2.17.0->-r ./jord/requirements.txt (line 1)) (0.15.0)\n",
            "Requirement already satisfied: charset-normalizer<4,>=2 in /usr/local/lib/python3.11/dist-packages (from requests<3,>=2.21.0->tensorflow==2.17.0->tensorflow[and-cuda]==2.17.0->-r ./jord/requirements.txt (line 1)) (3.4.2)\n",
            "Requirement already satisfied: idna<4,>=2.5 in /usr/local/lib/python3.11/dist-packages (from requests<3,>=2.21.0->tensorflow==2.17.0->tensorflow[and-cuda]==2.17.0->-r ./jord/requirements.txt (line 1)) (3.10)\n",
            "Requirement already satisfied: urllib3<3,>=1.21.1 in /usr/local/lib/python3.11/dist-packages (from requests<3,>=2.21.0->tensorflow==2.17.0->tensorflow[and-cuda]==2.17.0->-r ./jord/requirements.txt (line 1)) (2.4.0)\n",
            "Requirement already satisfied: certifi>=2017.4.17 in /usr/local/lib/python3.11/dist-packages (from requests<3,>=2.21.0->tensorflow==2.17.0->tensorflow[and-cuda]==2.17.0->-r ./jord/requirements.txt (line 1)) (2025.4.26)\n",
            "Requirement already satisfied: markdown>=2.6.8 in /usr/local/lib/python3.11/dist-packages (from tensorboard<2.18,>=2.17->tensorflow==2.17.0->tensorflow[and-cuda]==2.17.0->-r ./jord/requirements.txt (line 1)) (3.8)\n",
            "Requirement already satisfied: tensorboard-data-server<0.8.0,>=0.7.0 in /usr/local/lib/python3.11/dist-packages (from tensorboard<2.18,>=2.17->tensorflow==2.17.0->tensorflow[and-cuda]==2.17.0->-r ./jord/requirements.txt (line 1)) (0.7.2)\n",
            "Requirement already satisfied: werkzeug>=1.0.1 in /usr/local/lib/python3.11/dist-packages (from tensorboard<2.18,>=2.17->tensorflow==2.17.0->tensorflow[and-cuda]==2.17.0->-r ./jord/requirements.txt (line 1)) (3.1.3)\n",
            "Requirement already satisfied: MarkupSafe>=2.1.1 in /usr/local/lib/python3.11/dist-packages (from werkzeug>=1.0.1->tensorboard<2.18,>=2.17->tensorflow==2.17.0->tensorflow[and-cuda]==2.17.0->-r ./jord/requirements.txt (line 1)) (3.0.2)\n",
            "Requirement already satisfied: markdown-it-py>=2.2.0 in /usr/local/lib/python3.11/dist-packages (from rich->keras>=3.2.0->tensorflow==2.17.0->tensorflow[and-cuda]==2.17.0->-r ./jord/requirements.txt (line 1)) (3.0.0)\n",
            "Requirement already satisfied: pygments<3.0.0,>=2.13.0 in /usr/local/lib/python3.11/dist-packages (from rich->keras>=3.2.0->tensorflow==2.17.0->tensorflow[and-cuda]==2.17.0->-r ./jord/requirements.txt (line 1)) (2.19.1)\n",
            "Requirement already satisfied: mdurl~=0.1 in /usr/local/lib/python3.11/dist-packages (from markdown-it-py>=2.2.0->rich->keras>=3.2.0->tensorflow==2.17.0->tensorflow[and-cuda]==2.17.0->-r ./jord/requirements.txt (line 1)) (0.1.2)\n",
            "Downloading tensorflow-2.17.0-cp311-cp311-manylinux_2_17_x86_64.manylinux2014_x86_64.whl (601.3 MB)\n",
            "\u001b[2K   \u001b[90m━━━━━━━━━━━━━━━━━━━━━━━━━━━━━━━━━━━━━━━━\u001b[0m \u001b[32m601.3/601.3 MB\u001b[0m \u001b[31m3.0 MB/s\u001b[0m eta \u001b[36m0:00:00\u001b[0m\n",
            "\u001b[?25hDownloading tf_keras-2.17.0-py3-none-any.whl (1.7 MB)\n",
            "\u001b[2K   \u001b[90m━━━━━━━━━━━━━━━━━━━━━━━━━━━━━━━━━━━━━━━━\u001b[0m \u001b[32m1.7/1.7 MB\u001b[0m \u001b[31m78.6 MB/s\u001b[0m eta \u001b[36m0:00:00\u001b[0m\n",
            "\u001b[?25hDownloading tensorflow_text-2.17.0-cp311-cp311-manylinux_2_17_x86_64.manylinux2014_x86_64.whl (5.2 MB)\n",
            "\u001b[2K   \u001b[90m━━━━━━━━━━━━━━━━━━━━━━━━━━━━━━━━━━━━━━━━\u001b[0m \u001b[32m5.2/5.2 MB\u001b[0m \u001b[31m97.0 MB/s\u001b[0m eta \u001b[36m0:00:00\u001b[0m\n",
            "\u001b[?25hDownloading nvidia_cublas_cu12-12.3.4.1-py3-none-manylinux1_x86_64.whl (412.6 MB)\n",
            "\u001b[2K   \u001b[90m━━━━━━━━━━━━━━━━━━━━━━━━━━━━━━━━━━━━━━━━\u001b[0m \u001b[32m412.6/412.6 MB\u001b[0m \u001b[31m2.9 MB/s\u001b[0m eta \u001b[36m0:00:00\u001b[0m\n",
            "\u001b[?25hDownloading nvidia_cuda_cupti_cu12-12.3.101-py3-none-manylinux1_x86_64.whl (14.0 MB)\n",
            "\u001b[2K   \u001b[90m━━━━━━━━━━━━━━━━━━━━━━━━━━━━━━━━━━━━━━━━\u001b[0m \u001b[32m14.0/14.0 MB\u001b[0m \u001b[31m115.2 MB/s\u001b[0m eta \u001b[36m0:00:00\u001b[0m\n",
            "\u001b[?25hDownloading nvidia_cuda_nvcc_cu12-12.3.107-py3-none-manylinux1_x86_64.whl (22.0 MB)\n",
            "\u001b[2K   \u001b[90m━━━━━━━━━━━━━━━━━━━━━━━━━━━━━━━━━━━━━━━━\u001b[0m \u001b[32m22.0/22.0 MB\u001b[0m \u001b[31m82.4 MB/s\u001b[0m eta \u001b[36m0:00:00\u001b[0m\n",
            "\u001b[?25hDownloading nvidia_cuda_nvrtc_cu12-12.3.107-py3-none-manylinux1_x86_64.whl (24.9 MB)\n",
            "\u001b[2K   \u001b[90m━━━━━━━━━━━━━━━━━━━━━━━━━━━━━━━━━━━━━━━━\u001b[0m \u001b[32m24.9/24.9 MB\u001b[0m \u001b[31m80.3 MB/s\u001b[0m eta \u001b[36m0:00:00\u001b[0m\n",
            "\u001b[?25hDownloading nvidia_cuda_runtime_cu12-12.3.101-py3-none-manylinux1_x86_64.whl (867 kB)\n",
            "\u001b[2K   \u001b[90m━━━━━━━━━━━━━━━━━━━━━━━━━━━━━━━━━━━━━━━━\u001b[0m \u001b[32m867.7/867.7 kB\u001b[0m \u001b[31m56.5 MB/s\u001b[0m eta \u001b[36m0:00:00\u001b[0m\n",
            "\u001b[?25hDownloading nvidia_cudnn_cu12-8.9.7.29-py3-none-manylinux1_x86_64.whl (704.7 MB)\n",
            "\u001b[2K   \u001b[90m━━━━━━━━━━━━━━━━━━━━━━━━━━━━━━━━━━━━━━━━\u001b[0m \u001b[32m704.7/704.7 MB\u001b[0m \u001b[31m2.2 MB/s\u001b[0m eta \u001b[36m0:00:00\u001b[0m\n",
            "\u001b[?25hDownloading nvidia_cufft_cu12-11.0.12.1-py3-none-manylinux1_x86_64.whl (98.8 MB)\n",
            "\u001b[2K   \u001b[90m━━━━━━━━━━━━━━━━━━━━━━━━━━━━━━━━━━━━━━━━\u001b[0m \u001b[32m98.8/98.8 MB\u001b[0m \u001b[31m24.0 MB/s\u001b[0m eta \u001b[36m0:00:00\u001b[0m\n",
            "\u001b[?25hDownloading nvidia_curand_cu12-10.3.4.107-py3-none-manylinux1_x86_64.whl (56.3 MB)\n",
            "\u001b[2K   \u001b[90m━━━━━━━━━━━━━━━━━━━━━━━━━━━━━━━━━━━━━━━━\u001b[0m \u001b[32m56.3/56.3 MB\u001b[0m \u001b[31m42.1 MB/s\u001b[0m eta \u001b[36m0:00:00\u001b[0m\n",
            "\u001b[?25hDownloading nvidia_cusolver_cu12-11.5.4.101-py3-none-manylinux1_x86_64.whl (125.2 MB)\n",
            "\u001b[2K   \u001b[90m━━━━━━━━━━━━━━━━━━━━━━━━━━━━━━━━━━━━━━━━\u001b[0m \u001b[32m125.2/125.2 MB\u001b[0m \u001b[31m7.6 MB/s\u001b[0m eta \u001b[36m0:00:00\u001b[0m\n",
            "\u001b[?25hDownloading nvidia_cusparse_cu12-12.2.0.103-py3-none-manylinux1_x86_64.whl (197.5 MB)\n",
            "\u001b[2K   \u001b[90m━━━━━━━━━━━━━━━━━━━━━━━━━━━━━━━━━━━━━━━━\u001b[0m \u001b[32m197.5/197.5 MB\u001b[0m \u001b[31m4.6 MB/s\u001b[0m eta \u001b[36m0:00:00\u001b[0m\n",
            "\u001b[?25hDownloading nvidia_nccl_cu12-2.19.3-py3-none-manylinux1_x86_64.whl (166.0 MB)\n",
            "\u001b[2K   \u001b[90m━━━━━━━━━━━━━━━━━━━━━━━━━━━━━━━━━━━━━━━━\u001b[0m \u001b[32m166.0/166.0 MB\u001b[0m \u001b[31m15.6 MB/s\u001b[0m eta \u001b[36m0:00:00\u001b[0m\n",
            "\u001b[?25hDownloading nvidia_nvjitlink_cu12-12.3.101-py3-none-manylinux1_x86_64.whl (20.5 MB)\n",
            "\u001b[2K   \u001b[90m━━━━━━━━━━━━━━━━━━━━━━━━━━━━━━━━━━━━━━━━\u001b[0m \u001b[32m20.5/20.5 MB\u001b[0m \u001b[31m108.7 MB/s\u001b[0m eta \u001b[36m0:00:00\u001b[0m\n",
            "\u001b[?25hDownloading keras-3.10.0-py3-none-any.whl (1.4 MB)\n",
            "\u001b[2K   \u001b[90m━━━━━━━━━━━━━━━━━━━━━━━━━━━━━━━━━━━━━━━━\u001b[0m \u001b[32m1.4/1.4 MB\u001b[0m \u001b[31m76.6 MB/s\u001b[0m eta \u001b[36m0:00:00\u001b[0m\n",
            "\u001b[?25hDownloading ml_dtypes-0.4.1-cp311-cp311-manylinux_2_17_x86_64.manylinux2014_x86_64.whl (2.2 MB)\n",
            "\u001b[2K   \u001b[90m━━━━━━━━━━━━━━━━━━━━━━━━━━━━━━━━━━━━━━━━\u001b[0m \u001b[32m2.2/2.2 MB\u001b[0m \u001b[31m94.3 MB/s\u001b[0m eta \u001b[36m0:00:00\u001b[0m\n",
            "\u001b[?25hDownloading tensorboard-2.17.1-py3-none-any.whl (5.5 MB)\n",
            "\u001b[2K   \u001b[90m━━━━━━━━━━━━━━━━━━━━━━━━━━━━━━━━━━━━━━━━\u001b[0m \u001b[32m5.5/5.5 MB\u001b[0m \u001b[31m102.8 MB/s\u001b[0m eta \u001b[36m0:00:00\u001b[0m\n",
            "\u001b[?25hInstalling collected packages: nvidia-nvjitlink-cu12, nvidia-nccl-cu12, nvidia-curand-cu12, nvidia-cufft-cu12, nvidia-cuda-runtime-cu12, nvidia-cuda-nvrtc-cu12, nvidia-cuda-nvcc-cu12, nvidia-cuda-cupti-cu12, nvidia-cublas-cu12, ml-dtypes, tensorboard, nvidia-cusparse-cu12, nvidia-cudnn-cu12, nvidia-cusolver-cu12, keras, tensorflow, tf-keras, tensorflow-text\n",
            "  Attempting uninstall: nvidia-nvjitlink-cu12\n",
            "    Found existing installation: nvidia-nvjitlink-cu12 12.4.127\n",
            "    Uninstalling nvidia-nvjitlink-cu12-12.4.127:\n",
            "      Successfully uninstalled nvidia-nvjitlink-cu12-12.4.127\n",
            "  Attempting uninstall: nvidia-nccl-cu12\n",
            "    Found existing installation: nvidia-nccl-cu12 2.21.5\n",
            "    Uninstalling nvidia-nccl-cu12-2.21.5:\n",
            "      Successfully uninstalled nvidia-nccl-cu12-2.21.5\n",
            "  Attempting uninstall: nvidia-curand-cu12\n",
            "    Found existing installation: nvidia-curand-cu12 10.3.2.106\n",
            "    Uninstalling nvidia-curand-cu12-10.3.2.106:\n",
            "      Successfully uninstalled nvidia-curand-cu12-10.3.2.106\n",
            "  Attempting uninstall: nvidia-cufft-cu12\n",
            "    Found existing installation: nvidia-cufft-cu12 11.0.2.54\n",
            "    Uninstalling nvidia-cufft-cu12-11.0.2.54:\n",
            "      Successfully uninstalled nvidia-cufft-cu12-11.0.2.54\n",
            "  Attempting uninstall: nvidia-cuda-runtime-cu12\n",
            "    Found existing installation: nvidia-cuda-runtime-cu12 12.1.105\n",
            "    Uninstalling nvidia-cuda-runtime-cu12-12.1.105:\n",
            "      Successfully uninstalled nvidia-cuda-runtime-cu12-12.1.105\n",
            "  Attempting uninstall: nvidia-cuda-nvrtc-cu12\n",
            "    Found existing installation: nvidia-cuda-nvrtc-cu12 12.1.105\n",
            "    Uninstalling nvidia-cuda-nvrtc-cu12-12.1.105:\n",
            "      Successfully uninstalled nvidia-cuda-nvrtc-cu12-12.1.105\n",
            "  Attempting uninstall: nvidia-cuda-nvcc-cu12\n",
            "    Found existing installation: nvidia-cuda-nvcc-cu12 12.5.82\n",
            "    Uninstalling nvidia-cuda-nvcc-cu12-12.5.82:\n",
            "      Successfully uninstalled nvidia-cuda-nvcc-cu12-12.5.82\n",
            "  Attempting uninstall: nvidia-cuda-cupti-cu12\n",
            "    Found existing installation: nvidia-cuda-cupti-cu12 12.1.105\n",
            "    Uninstalling nvidia-cuda-cupti-cu12-12.1.105:\n",
            "      Successfully uninstalled nvidia-cuda-cupti-cu12-12.1.105\n",
            "  Attempting uninstall: nvidia-cublas-cu12\n",
            "    Found existing installation: nvidia-cublas-cu12 12.1.3.1\n",
            "    Uninstalling nvidia-cublas-cu12-12.1.3.1:\n",
            "      Successfully uninstalled nvidia-cublas-cu12-12.1.3.1\n",
            "  Attempting uninstall: ml-dtypes\n",
            "    Found existing installation: ml-dtypes 0.2.0\n",
            "    Uninstalling ml-dtypes-0.2.0:\n",
            "      Successfully uninstalled ml-dtypes-0.2.0\n",
            "  Attempting uninstall: tensorboard\n",
            "    Found existing installation: tensorboard 2.15.2\n",
            "    Uninstalling tensorboard-2.15.2:\n",
            "      Successfully uninstalled tensorboard-2.15.2\n",
            "  Attempting uninstall: nvidia-cusparse-cu12\n",
            "    Found existing installation: nvidia-cusparse-cu12 12.1.0.106\n",
            "    Uninstalling nvidia-cusparse-cu12-12.1.0.106:\n",
            "      Successfully uninstalled nvidia-cusparse-cu12-12.1.0.106\n",
            "  Attempting uninstall: nvidia-cudnn-cu12\n",
            "    Found existing installation: nvidia-cudnn-cu12 9.1.0.70\n",
            "    Uninstalling nvidia-cudnn-cu12-9.1.0.70:\n",
            "      Successfully uninstalled nvidia-cudnn-cu12-9.1.0.70\n",
            "  Attempting uninstall: nvidia-cusolver-cu12\n",
            "    Found existing installation: nvidia-cusolver-cu12 11.4.5.107\n",
            "    Uninstalling nvidia-cusolver-cu12-11.4.5.107:\n",
            "      Successfully uninstalled nvidia-cusolver-cu12-11.4.5.107\n",
            "  Attempting uninstall: keras\n",
            "    Found existing installation: keras 2.15.0\n",
            "    Uninstalling keras-2.15.0:\n",
            "      Successfully uninstalled keras-2.15.0\n",
            "  Attempting uninstall: tensorflow\n",
            "    Found existing installation: tensorflow 2.15.0\n",
            "    Uninstalling tensorflow-2.15.0:\n",
            "      Successfully uninstalled tensorflow-2.15.0\n",
            "  Attempting uninstall: tf-keras\n",
            "    Found existing installation: tf_keras 2.18.0\n",
            "    Uninstalling tf_keras-2.18.0:\n",
            "      Successfully uninstalled tf_keras-2.18.0\n",
            "  Attempting uninstall: tensorflow-text\n",
            "    Found existing installation: tensorflow-text 2.18.1\n",
            "    Uninstalling tensorflow-text-2.18.1:\n",
            "      Successfully uninstalled tensorflow-text-2.18.1\n",
            "\u001b[31mERROR: pip's dependency resolver does not currently take into account all the packages that are installed. This behaviour is the source of the following dependency conflicts.\n",
            "torch 2.5.1+cu121 requires nvidia-cublas-cu12==12.1.3.1; platform_system == \"Linux\" and platform_machine == \"x86_64\", but you have nvidia-cublas-cu12 12.3.4.1 which is incompatible.\n",
            "torch 2.5.1+cu121 requires nvidia-cuda-cupti-cu12==12.1.105; platform_system == \"Linux\" and platform_machine == \"x86_64\", but you have nvidia-cuda-cupti-cu12 12.3.101 which is incompatible.\n",
            "torch 2.5.1+cu121 requires nvidia-cuda-nvrtc-cu12==12.1.105; platform_system == \"Linux\" and platform_machine == \"x86_64\", but you have nvidia-cuda-nvrtc-cu12 12.3.107 which is incompatible.\n",
            "torch 2.5.1+cu121 requires nvidia-cuda-runtime-cu12==12.1.105; platform_system == \"Linux\" and platform_machine == \"x86_64\", but you have nvidia-cuda-runtime-cu12 12.3.101 which is incompatible.\n",
            "torch 2.5.1+cu121 requires nvidia-cudnn-cu12==9.1.0.70; platform_system == \"Linux\" and platform_machine == \"x86_64\", but you have nvidia-cudnn-cu12 8.9.7.29 which is incompatible.\n",
            "torch 2.5.1+cu121 requires nvidia-cufft-cu12==11.0.2.54; platform_system == \"Linux\" and platform_machine == \"x86_64\", but you have nvidia-cufft-cu12 11.0.12.1 which is incompatible.\n",
            "torch 2.5.1+cu121 requires nvidia-curand-cu12==10.3.2.106; platform_system == \"Linux\" and platform_machine == \"x86_64\", but you have nvidia-curand-cu12 10.3.4.107 which is incompatible.\n",
            "torch 2.5.1+cu121 requires nvidia-cusolver-cu12==11.4.5.107; platform_system == \"Linux\" and platform_machine == \"x86_64\", but you have nvidia-cusolver-cu12 11.5.4.101 which is incompatible.\n",
            "torch 2.5.1+cu121 requires nvidia-cusparse-cu12==12.1.0.106; platform_system == \"Linux\" and platform_machine == \"x86_64\", but you have nvidia-cusparse-cu12 12.2.0.103 which is incompatible.\n",
            "torch 2.5.1+cu121 requires nvidia-nccl-cu12==2.21.5; platform_system == \"Linux\" and platform_machine == \"x86_64\", but you have nvidia-nccl-cu12 2.19.3 which is incompatible.\n",
            "torchaudio 2.6.0+cu124 requires torch==2.6.0, but you have torch 2.5.1+cu121 which is incompatible.\n",
            "tensorflow-decision-forests 1.11.0 requires tensorflow==2.18.0, but you have tensorflow 2.17.0 which is incompatible.\n",
            "dopamine-rl 4.1.2 requires tf-keras>=2.18.0, but you have tf-keras 2.17.0 which is incompatible.\u001b[0m\u001b[31m\n",
            "\u001b[0mSuccessfully installed keras-3.10.0 ml-dtypes-0.4.1 nvidia-cublas-cu12-12.3.4.1 nvidia-cuda-cupti-cu12-12.3.101 nvidia-cuda-nvcc-cu12-12.3.107 nvidia-cuda-nvrtc-cu12-12.3.107 nvidia-cuda-runtime-cu12-12.3.101 nvidia-cudnn-cu12-8.9.7.29 nvidia-cufft-cu12-11.0.12.1 nvidia-curand-cu12-10.3.4.107 nvidia-cusolver-cu12-11.5.4.101 nvidia-cusparse-cu12-12.2.0.103 nvidia-nccl-cu12-2.19.3 nvidia-nvjitlink-cu12-12.3.101 tensorboard-2.17.1 tensorflow-2.17.0 tensorflow-text-2.17.0 tf-keras-2.17.0\n"
          ]
        },
        {
          "output_type": "display_data",
          "data": {
            "application/vnd.colab-display-data+json": {
              "pip_warning": {
                "packages": [
                  "keras",
                  "ml_dtypes",
                  "nvidia",
                  "tensorboard",
                  "tensorflow"
                ]
              },
              "id": "d7012e512d8644738d7dbc1d6d60eafe"
            }
          },
          "metadata": {}
        },
        {
          "output_type": "stream",
          "name": "stdout",
          "text": [
            "Requirement already satisfied: opencv-python==4.9.0.80 in /usr/local/lib/python3.11/dist-packages (from -r ./craft/requirements.txt (line 1)) (4.9.0.80)\n",
            "Requirement already satisfied: pillow==11.2.1 in /usr/local/lib/python3.11/dist-packages (from -r ./craft/requirements.txt (line 2)) (11.2.1)\n",
            "Requirement already satisfied: PyYAML==6.0.2 in /usr/local/lib/python3.11/dist-packages (from -r ./craft/requirements.txt (line 3)) (6.0.2)\n",
            "Requirement already satisfied: scikit-image==0.22.0 in /usr/local/lib/python3.11/dist-packages (from -r ./craft/requirements.txt (line 4)) (0.22.0)\n",
            "Requirement already satisfied: Shapely==2.1.1 in /usr/local/lib/python3.11/dist-packages (from -r ./craft/requirements.txt (line 5)) (2.1.1)\n",
            "Requirement already satisfied: torch==2.5.1 in /usr/local/lib/python3.11/dist-packages (from -r ./craft/requirements.txt (line 6)) (2.5.1+cu121)\n",
            "Requirement already satisfied: torchvision==0.20.1 in /usr/local/lib/python3.11/dist-packages (from -r ./craft/requirements.txt (line 7)) (0.20.1+cu121)\n",
            "Requirement already satisfied: wandb==0.19.11 in /usr/local/lib/python3.11/dist-packages (from -r ./craft/requirements.txt (line 8)) (0.19.11)\n",
            "Requirement already satisfied: packaging==23.2 in /usr/local/lib/python3.11/dist-packages (from -r ./craft/requirements.txt (line 9)) (23.2)\n",
            "Requirement already satisfied: numpy>=1.21.2 in /usr/local/lib/python3.11/dist-packages (from opencv-python==4.9.0.80->-r ./craft/requirements.txt (line 1)) (1.26.4)\n",
            "Requirement already satisfied: scipy>=1.8 in /usr/local/lib/python3.11/dist-packages (from scikit-image==0.22.0->-r ./craft/requirements.txt (line 4)) (1.15.3)\n",
            "Requirement already satisfied: networkx>=2.8 in /usr/local/lib/python3.11/dist-packages (from scikit-image==0.22.0->-r ./craft/requirements.txt (line 4)) (3.5)\n",
            "Requirement already satisfied: imageio>=2.27 in /usr/local/lib/python3.11/dist-packages (from scikit-image==0.22.0->-r ./craft/requirements.txt (line 4)) (2.37.0)\n",
            "Requirement already satisfied: tifffile>=2022.8.12 in /usr/local/lib/python3.11/dist-packages (from scikit-image==0.22.0->-r ./craft/requirements.txt (line 4)) (2025.5.26)\n",
            "Requirement already satisfied: lazy_loader>=0.3 in /usr/local/lib/python3.11/dist-packages (from scikit-image==0.22.0->-r ./craft/requirements.txt (line 4)) (0.4)\n",
            "Requirement already satisfied: filelock in /usr/local/lib/python3.11/dist-packages (from torch==2.5.1->-r ./craft/requirements.txt (line 6)) (3.18.0)\n",
            "Requirement already satisfied: typing-extensions>=4.8.0 in /usr/local/lib/python3.11/dist-packages (from torch==2.5.1->-r ./craft/requirements.txt (line 6)) (4.13.2)\n",
            "Requirement already satisfied: jinja2 in /usr/local/lib/python3.11/dist-packages (from torch==2.5.1->-r ./craft/requirements.txt (line 6)) (3.1.6)\n",
            "Requirement already satisfied: fsspec in /usr/local/lib/python3.11/dist-packages (from torch==2.5.1->-r ./craft/requirements.txt (line 6)) (2025.5.1)\n",
            "Collecting nvidia-cuda-nvrtc-cu12==12.1.105 (from torch==2.5.1->-r ./craft/requirements.txt (line 6))\n",
            "  Downloading nvidia_cuda_nvrtc_cu12-12.1.105-py3-none-manylinux1_x86_64.whl.metadata (1.5 kB)\n",
            "Collecting nvidia-cuda-runtime-cu12==12.1.105 (from torch==2.5.1->-r ./craft/requirements.txt (line 6))\n",
            "  Downloading nvidia_cuda_runtime_cu12-12.1.105-py3-none-manylinux1_x86_64.whl.metadata (1.5 kB)\n",
            "Collecting nvidia-cuda-cupti-cu12==12.1.105 (from torch==2.5.1->-r ./craft/requirements.txt (line 6))\n",
            "  Downloading nvidia_cuda_cupti_cu12-12.1.105-py3-none-manylinux1_x86_64.whl.metadata (1.6 kB)\n",
            "Collecting nvidia-cudnn-cu12==9.1.0.70 (from torch==2.5.1->-r ./craft/requirements.txt (line 6))\n",
            "  Using cached nvidia_cudnn_cu12-9.1.0.70-py3-none-manylinux2014_x86_64.whl.metadata (1.6 kB)\n",
            "Collecting nvidia-cublas-cu12==12.1.3.1 (from torch==2.5.1->-r ./craft/requirements.txt (line 6))\n",
            "  Downloading nvidia_cublas_cu12-12.1.3.1-py3-none-manylinux1_x86_64.whl.metadata (1.5 kB)\n",
            "Collecting nvidia-cufft-cu12==11.0.2.54 (from torch==2.5.1->-r ./craft/requirements.txt (line 6))\n",
            "  Downloading nvidia_cufft_cu12-11.0.2.54-py3-none-manylinux1_x86_64.whl.metadata (1.5 kB)\n",
            "Collecting nvidia-curand-cu12==10.3.2.106 (from torch==2.5.1->-r ./craft/requirements.txt (line 6))\n",
            "  Downloading nvidia_curand_cu12-10.3.2.106-py3-none-manylinux1_x86_64.whl.metadata (1.5 kB)\n",
            "Collecting nvidia-cusolver-cu12==11.4.5.107 (from torch==2.5.1->-r ./craft/requirements.txt (line 6))\n",
            "  Downloading nvidia_cusolver_cu12-11.4.5.107-py3-none-manylinux1_x86_64.whl.metadata (1.6 kB)\n",
            "Collecting nvidia-cusparse-cu12==12.1.0.106 (from torch==2.5.1->-r ./craft/requirements.txt (line 6))\n",
            "  Downloading nvidia_cusparse_cu12-12.1.0.106-py3-none-manylinux1_x86_64.whl.metadata (1.6 kB)\n",
            "Collecting nvidia-nccl-cu12==2.21.5 (from torch==2.5.1->-r ./craft/requirements.txt (line 6))\n",
            "  Downloading nvidia_nccl_cu12-2.21.5-py3-none-manylinux2014_x86_64.whl.metadata (1.8 kB)\n",
            "Requirement already satisfied: nvidia-nvtx-cu12==12.1.105 in /usr/local/lib/python3.11/dist-packages (from torch==2.5.1->-r ./craft/requirements.txt (line 6)) (12.1.105)\n",
            "Requirement already satisfied: triton==3.1.0 in /usr/local/lib/python3.11/dist-packages (from torch==2.5.1->-r ./craft/requirements.txt (line 6)) (3.1.0)\n",
            "Requirement already satisfied: sympy==1.13.1 in /usr/local/lib/python3.11/dist-packages (from torch==2.5.1->-r ./craft/requirements.txt (line 6)) (1.13.1)\n",
            "Requirement already satisfied: click!=8.0.0,>=7.1 in /usr/local/lib/python3.11/dist-packages (from wandb==0.19.11->-r ./craft/requirements.txt (line 8)) (8.2.1)\n",
            "Requirement already satisfied: docker-pycreds>=0.4.0 in /usr/local/lib/python3.11/dist-packages (from wandb==0.19.11->-r ./craft/requirements.txt (line 8)) (0.4.0)\n",
            "Requirement already satisfied: gitpython!=3.1.29,>=1.0.0 in /usr/local/lib/python3.11/dist-packages (from wandb==0.19.11->-r ./craft/requirements.txt (line 8)) (3.1.44)\n",
            "Requirement already satisfied: platformdirs in /usr/local/lib/python3.11/dist-packages (from wandb==0.19.11->-r ./craft/requirements.txt (line 8)) (4.3.8)\n",
            "Requirement already satisfied: protobuf!=4.21.0,!=5.28.0,<7,>=3.19.0 in /usr/local/lib/python3.11/dist-packages (from wandb==0.19.11->-r ./craft/requirements.txt (line 8)) (4.25.8)\n",
            "Requirement already satisfied: psutil>=5.0.0 in /usr/local/lib/python3.11/dist-packages (from wandb==0.19.11->-r ./craft/requirements.txt (line 8)) (5.9.5)\n",
            "Requirement already satisfied: pydantic<3 in /usr/local/lib/python3.11/dist-packages (from wandb==0.19.11->-r ./craft/requirements.txt (line 8)) (2.11.4)\n",
            "Requirement already satisfied: requests<3,>=2.0.0 in /usr/local/lib/python3.11/dist-packages (from wandb==0.19.11->-r ./craft/requirements.txt (line 8)) (2.32.3)\n",
            "Requirement already satisfied: sentry-sdk>=2.0.0 in /usr/local/lib/python3.11/dist-packages (from wandb==0.19.11->-r ./craft/requirements.txt (line 8)) (2.29.1)\n",
            "Requirement already satisfied: setproctitle in /usr/local/lib/python3.11/dist-packages (from wandb==0.19.11->-r ./craft/requirements.txt (line 8)) (1.3.6)\n",
            "Requirement already satisfied: setuptools in /usr/local/lib/python3.11/dist-packages (from wandb==0.19.11->-r ./craft/requirements.txt (line 8)) (80.9.0)\n",
            "Requirement already satisfied: nvidia-nvjitlink-cu12 in /usr/local/lib/python3.11/dist-packages (from nvidia-cusolver-cu12==11.4.5.107->torch==2.5.1->-r ./craft/requirements.txt (line 6)) (12.3.101)\n",
            "Requirement already satisfied: mpmath<1.4,>=1.1.0 in /usr/local/lib/python3.11/dist-packages (from sympy==1.13.1->torch==2.5.1->-r ./craft/requirements.txt (line 6)) (1.3.0)\n",
            "Requirement already satisfied: six>=1.4.0 in /usr/local/lib/python3.11/dist-packages (from docker-pycreds>=0.4.0->wandb==0.19.11->-r ./craft/requirements.txt (line 8)) (1.17.0)\n",
            "Requirement already satisfied: gitdb<5,>=4.0.1 in /usr/local/lib/python3.11/dist-packages (from gitpython!=3.1.29,>=1.0.0->wandb==0.19.11->-r ./craft/requirements.txt (line 8)) (4.0.12)\n",
            "Requirement already satisfied: annotated-types>=0.6.0 in /usr/local/lib/python3.11/dist-packages (from pydantic<3->wandb==0.19.11->-r ./craft/requirements.txt (line 8)) (0.7.0)\n",
            "Requirement already satisfied: pydantic-core==2.33.2 in /usr/local/lib/python3.11/dist-packages (from pydantic<3->wandb==0.19.11->-r ./craft/requirements.txt (line 8)) (2.33.2)\n",
            "Requirement already satisfied: typing-inspection>=0.4.0 in /usr/local/lib/python3.11/dist-packages (from pydantic<3->wandb==0.19.11->-r ./craft/requirements.txt (line 8)) (0.4.1)\n",
            "Requirement already satisfied: charset-normalizer<4,>=2 in /usr/local/lib/python3.11/dist-packages (from requests<3,>=2.0.0->wandb==0.19.11->-r ./craft/requirements.txt (line 8)) (3.4.2)\n",
            "Requirement already satisfied: idna<4,>=2.5 in /usr/local/lib/python3.11/dist-packages (from requests<3,>=2.0.0->wandb==0.19.11->-r ./craft/requirements.txt (line 8)) (3.10)\n",
            "Requirement already satisfied: urllib3<3,>=1.21.1 in /usr/local/lib/python3.11/dist-packages (from requests<3,>=2.0.0->wandb==0.19.11->-r ./craft/requirements.txt (line 8)) (2.4.0)\n",
            "Requirement already satisfied: certifi>=2017.4.17 in /usr/local/lib/python3.11/dist-packages (from requests<3,>=2.0.0->wandb==0.19.11->-r ./craft/requirements.txt (line 8)) (2025.4.26)\n",
            "Requirement already satisfied: MarkupSafe>=2.0 in /usr/local/lib/python3.11/dist-packages (from jinja2->torch==2.5.1->-r ./craft/requirements.txt (line 6)) (3.0.2)\n",
            "Requirement already satisfied: smmap<6,>=3.0.1 in /usr/local/lib/python3.11/dist-packages (from gitdb<5,>=4.0.1->gitpython!=3.1.29,>=1.0.0->wandb==0.19.11->-r ./craft/requirements.txt (line 8)) (5.0.2)\n",
            "Downloading nvidia_cublas_cu12-12.1.3.1-py3-none-manylinux1_x86_64.whl (410.6 MB)\n",
            "\u001b[2K   \u001b[91m━━━━━━━━━━━━━━━━━━━━━━━━━━━━━━━━━━━━━━\u001b[0m\u001b[91m╸\u001b[0m \u001b[32m410.6/410.6 MB\u001b[0m \u001b[31m211.1 MB/s\u001b[0m eta \u001b[36m0:00:01\u001b[0m^C\n"
          ]
        }
      ]
    },
    {
      "cell_type": "code",
      "source": [
        "%cd /content/jawiOCR/parseq_jawi/\n",
        "!make clean-reqs reqs"
      ],
      "metadata": {
        "colab": {
          "base_uri": "https://localhost:8080/"
        },
        "id": "g34WBzKEYnaj",
        "outputId": "4446aaa0-2190-414b-f627-e5ca8f9c4a22"
      },
      "execution_count": null,
      "outputs": [
        {
          "output_type": "stream",
          "name": "stdout",
          "text": [
            "/content/jawiOCR/parseq_jawi\n",
            "rm -f requirements/constraints.txt requirements/core.*.txt requirements/bench.txt requirements/core.txt requirements/dev.txt requirements/test.txt requirements/train.txt requirements/tune.txt\n",
            "CONSTRAINTS=/dev/null pip-compile --quiet --no-header --allow-unsafe --resolver=backtracking --strip-extras --output-file requirements/constraints.txt requirements/bench.in requirements/core.in requirements/dev.in requirements/test.in requirements/train.in requirements/tune.in --extra-index-url https://download.pytorch.org/whl/cpu\n",
            "    Preparing metadata (setup.py) ... \u001b[?25l\u001b[?25hdone\n",
            "\u001b[33m  WARNING: Retrying (Retry(total=4, connect=None, read=None, redirect=None, status=None)) after connection broken by 'ProtocolError('Connection aborted.', RemoteDisconnected('Remote end closed connection without response'))': /simple/tensorboardx/\u001b[0m\u001b[33m\n",
            "\u001b[0m    Preparing metadata (setup.py) ... \u001b[?25l\u001b[?25hdone\n",
            "    Preparing metadata (setup.py) ... \u001b[?25l\u001b[?25hdone\n",
            "CONSTRAINTS=constraints.txt pip-compile --quiet --no-header --allow-unsafe --resolver=backtracking --strip-extras --no-annotate --output-file requirements/bench.txt requirements/bench.in\n",
            "    Preparing metadata (setup.py) ... \u001b[?25l\u001b[?25hdone\n",
            "    Preparing metadata (setup.py) ... \u001b[?25l\u001b[?25hdone\n",
            "    Preparing metadata (setup.py) ... \u001b[?25l\u001b[?25hdone\n",
            "CONSTRAINTS=constraints.txt pip-compile --quiet --no-header --allow-unsafe --resolver=backtracking --strip-extras --no-annotate --output-file requirements/core.txt requirements/core.in\n",
            "CONSTRAINTS=constraints.txt pip-compile --quiet --no-header --allow-unsafe --resolver=backtracking --strip-extras --no-annotate --output-file requirements/dev.txt requirements/dev.in\n",
            "CONSTRAINTS=constraints.txt pip-compile --quiet --no-header --allow-unsafe --resolver=backtracking --strip-extras --no-annotate --output-file requirements/test.txt requirements/test.in\n",
            "CONSTRAINTS=constraints.txt pip-compile --quiet --no-header --allow-unsafe --resolver=backtracking --strip-extras --no-annotate --output-file requirements/train.txt requirements/train.in\n",
            "    Preparing metadata (setup.py) ... \u001b[?25l\u001b[?25hdone\n",
            "CONSTRAINTS=constraints.txt pip-compile --quiet --no-header --allow-unsafe --resolver=backtracking --strip-extras --no-annotate --output-file requirements/tune.txt requirements/tune.in\n",
            "    Preparing metadata (setup.py) ... \u001b[?25l\u001b[?25hdone\n"
          ]
        }
      ]
    },
    {
      "cell_type": "code",
      "source": [
        "platform = \"cu121\"\n",
        "\n",
        "!make torch-{platform}\n",
        "!pip install -r requirements/core.{platform}.txt -e .[train,test]\n",
        "%cd .."
      ],
      "metadata": {
        "colab": {
          "base_uri": "https://localhost:8080/"
        },
        "id": "s3_MIUZMYy3X",
        "outputId": "cdc2115e-68f4-4895-d3db-b298175a76bd"
      },
      "execution_count": null,
      "outputs": [
        {
          "output_type": "stream",
          "name": "stdout",
          "text": [
            "Generating requirements/core.cu121.txt\n",
            "Looking in indexes: https://pypi.org/simple, https://download.pytorch.org/whl/cu121\n",
            "Obtaining file:///content/jawiOCR/parseq_jawi\n",
            "  Installing build dependencies ... \u001b[?25l\u001b[?25hdone\n",
            "  Checking if build backend supports build_editable ... \u001b[?25l\u001b[?25hdone\n",
            "  Getting requirements to build editable ... \u001b[?25l\u001b[?25hdone\n",
            "  Preparing editable metadata (pyproject.toml) ... \u001b[?25l\u001b[?25hdone\n",
            "Requirement already satisfied: aiohappyeyeballs==2.6.1 in /usr/local/lib/python3.11/dist-packages (from -r requirements/core.cu121.txt (line 3)) (2.6.1)\n",
            "Requirement already satisfied: aiohttp==3.12.6 in /usr/local/lib/python3.11/dist-packages (from -r requirements/core.cu121.txt (line 4)) (3.12.6)\n",
            "Requirement already satisfied: aiosignal==1.3.2 in /usr/local/lib/python3.11/dist-packages (from -r requirements/core.cu121.txt (line 5)) (1.3.2)\n",
            "Requirement already satisfied: attrs==25.3.0 in /usr/local/lib/python3.11/dist-packages (from -r requirements/core.cu121.txt (line 6)) (25.3.0)\n",
            "Requirement already satisfied: certifi==2025.4.26 in /usr/local/lib/python3.11/dist-packages (from -r requirements/core.cu121.txt (line 7)) (2025.4.26)\n",
            "Requirement already satisfied: charset-normalizer==3.4.2 in /usr/local/lib/python3.11/dist-packages (from -r requirements/core.cu121.txt (line 8)) (3.4.2)\n",
            "Requirement already satisfied: click==8.2.1 in /usr/local/lib/python3.11/dist-packages (from -r requirements/core.cu121.txt (line 9)) (8.2.1)\n",
            "Requirement already satisfied: filelock==3.18.0 in /usr/local/lib/python3.11/dist-packages (from -r requirements/core.cu121.txt (line 10)) (3.18.0)\n",
            "Requirement already satisfied: frozenlist==1.6.0 in /usr/local/lib/python3.11/dist-packages (from -r requirements/core.cu121.txt (line 11)) (1.6.0)\n",
            "Requirement already satisfied: fsspec==2025.5.1 in /usr/local/lib/python3.11/dist-packages (from -r requirements/core.cu121.txt (line 12)) (2025.5.1)\n",
            "Requirement already satisfied: hf-xet==1.1.2 in /usr/local/lib/python3.11/dist-packages (from -r requirements/core.cu121.txt (line 13)) (1.1.2)\n",
            "Requirement already satisfied: huggingface-hub==0.32.3 in /usr/local/lib/python3.11/dist-packages (from -r requirements/core.cu121.txt (line 14)) (0.32.3)\n",
            "Requirement already satisfied: idna==3.10 in /usr/local/lib/python3.11/dist-packages (from -r requirements/core.cu121.txt (line 15)) (3.10)\n",
            "Requirement already satisfied: jinja2==3.1.6 in /usr/local/lib/python3.11/dist-packages (from -r requirements/core.cu121.txt (line 16)) (3.1.6)\n",
            "Requirement already satisfied: joblib==1.5.1 in /usr/local/lib/python3.11/dist-packages (from -r requirements/core.cu121.txt (line 17)) (1.5.1)\n",
            "Requirement already satisfied: lightning-utilities==0.14.3 in /usr/local/lib/python3.11/dist-packages (from -r requirements/core.cu121.txt (line 18)) (0.14.3)\n",
            "Requirement already satisfied: markupsafe==3.0.2 in /usr/local/lib/python3.11/dist-packages (from -r requirements/core.cu121.txt (line 19)) (3.0.2)\n",
            "Requirement already satisfied: mpmath==1.3.0 in /usr/local/lib/python3.11/dist-packages (from -r requirements/core.cu121.txt (line 20)) (1.3.0)\n",
            "Requirement already satisfied: multidict==6.4.4 in /usr/local/lib/python3.11/dist-packages (from -r requirements/core.cu121.txt (line 21)) (6.4.4)\n",
            "Requirement already satisfied: networkx==3.5 in /usr/local/lib/python3.11/dist-packages (from -r requirements/core.cu121.txt (line 22)) (3.5)\n",
            "Requirement already satisfied: nltk==3.9.1 in /usr/local/lib/python3.11/dist-packages (from -r requirements/core.cu121.txt (line 23)) (3.9.1)\n",
            "Requirement already satisfied: numpy==1.26.4 in /usr/local/lib/python3.11/dist-packages (from -r requirements/core.cu121.txt (line 24)) (1.26.4)\n",
            "Collecting packaging==25.0 (from -r requirements/core.cu121.txt (line 25))\n",
            "  Using cached packaging-25.0-py3-none-any.whl.metadata (3.3 kB)\n",
            "Requirement already satisfied: pillow==11.2.1 in /usr/local/lib/python3.11/dist-packages (from -r requirements/core.cu121.txt (line 26)) (11.2.1)\n",
            "Requirement already satisfied: propcache==0.3.1 in /usr/local/lib/python3.11/dist-packages (from -r requirements/core.cu121.txt (line 27)) (0.3.1)\n",
            "Collecting protobuf==5.29.4 (from -r requirements/core.cu121.txt (line 28))\n",
            "  Using cached protobuf-5.29.4-cp38-abi3-manylinux2014_x86_64.whl.metadata (592 bytes)\n",
            "Requirement already satisfied: pytorch-lightning==2.5.1.post0 in /usr/local/lib/python3.11/dist-packages (from -r requirements/core.cu121.txt (line 29)) (2.5.1.post0)\n",
            "Requirement already satisfied: pyyaml==6.0.2 in /usr/local/lib/python3.11/dist-packages (from -r requirements/core.cu121.txt (line 30)) (6.0.2)\n",
            "Requirement already satisfied: regex==2024.11.6 in /usr/local/lib/python3.11/dist-packages (from -r requirements/core.cu121.txt (line 31)) (2024.11.6)\n",
            "Requirement already satisfied: requests==2.32.3 in /usr/local/lib/python3.11/dist-packages (from -r requirements/core.cu121.txt (line 32)) (2.32.3)\n",
            "Requirement already satisfied: safetensors==0.5.3 in /usr/local/lib/python3.11/dist-packages (from -r requirements/core.cu121.txt (line 33)) (0.5.3)\n",
            "Requirement already satisfied: sympy==1.13.1 in /usr/local/lib/python3.11/dist-packages (from -r requirements/core.cu121.txt (line 34)) (1.13.1)\n",
            "Requirement already satisfied: timm==1.0.15 in /usr/local/lib/python3.11/dist-packages (from -r requirements/core.cu121.txt (line 35)) (1.0.15)\n",
            "Requirement already satisfied: torch==2.5.1+cu121 in /usr/local/lib/python3.11/dist-packages (from -r requirements/core.cu121.txt (line 36)) (2.5.1+cu121)\n",
            "Requirement already satisfied: torchmetrics==1.7.2 in /usr/local/lib/python3.11/dist-packages (from -r requirements/core.cu121.txt (line 37)) (1.7.2)\n",
            "Requirement already satisfied: torchvision==0.20.1+cu121 in /usr/local/lib/python3.11/dist-packages (from -r requirements/core.cu121.txt (line 38)) (0.20.1+cu121)\n",
            "Requirement already satisfied: tqdm==4.67.1 in /usr/local/lib/python3.11/dist-packages (from -r requirements/core.cu121.txt (line 39)) (4.67.1)\n",
            "Requirement already satisfied: typing-extensions==4.13.2 in /usr/local/lib/python3.11/dist-packages (from -r requirements/core.cu121.txt (line 40)) (4.13.2)\n",
            "Requirement already satisfied: urllib3==2.4.0 in /usr/local/lib/python3.11/dist-packages (from -r requirements/core.cu121.txt (line 41)) (2.4.0)\n",
            "Requirement already satisfied: yarl==1.20.0 in /usr/local/lib/python3.11/dist-packages (from -r requirements/core.cu121.txt (line 42)) (1.20.0)\n",
            "Requirement already satisfied: setuptools==80.9.0 in /usr/local/lib/python3.11/dist-packages (from -r requirements/core.cu121.txt (line 45)) (80.9.0)\n",
            "Requirement already satisfied: nvidia-cuda-nvrtc-cu12==12.1.105 in /usr/local/lib/python3.11/dist-packages (from torch==2.5.1+cu121->-r requirements/core.cu121.txt (line 36)) (12.1.105)\n",
            "Requirement already satisfied: nvidia-cuda-runtime-cu12==12.1.105 in /usr/local/lib/python3.11/dist-packages (from torch==2.5.1+cu121->-r requirements/core.cu121.txt (line 36)) (12.1.105)\n",
            "Requirement already satisfied: nvidia-cuda-cupti-cu12==12.1.105 in /usr/local/lib/python3.11/dist-packages (from torch==2.5.1+cu121->-r requirements/core.cu121.txt (line 36)) (12.1.105)\n",
            "Requirement already satisfied: nvidia-cudnn-cu12==9.1.0.70 in /usr/local/lib/python3.11/dist-packages (from torch==2.5.1+cu121->-r requirements/core.cu121.txt (line 36)) (9.1.0.70)\n",
            "Requirement already satisfied: nvidia-cublas-cu12==12.1.3.1 in /usr/local/lib/python3.11/dist-packages (from torch==2.5.1+cu121->-r requirements/core.cu121.txt (line 36)) (12.1.3.1)\n",
            "Requirement already satisfied: nvidia-cufft-cu12==11.0.2.54 in /usr/local/lib/python3.11/dist-packages (from torch==2.5.1+cu121->-r requirements/core.cu121.txt (line 36)) (11.0.2.54)\n",
            "Requirement already satisfied: nvidia-curand-cu12==10.3.2.106 in /usr/local/lib/python3.11/dist-packages (from torch==2.5.1+cu121->-r requirements/core.cu121.txt (line 36)) (10.3.2.106)\n",
            "Requirement already satisfied: nvidia-cusolver-cu12==11.4.5.107 in /usr/local/lib/python3.11/dist-packages (from torch==2.5.1+cu121->-r requirements/core.cu121.txt (line 36)) (11.4.5.107)\n",
            "Requirement already satisfied: nvidia-cusparse-cu12==12.1.0.106 in /usr/local/lib/python3.11/dist-packages (from torch==2.5.1+cu121->-r requirements/core.cu121.txt (line 36)) (12.1.0.106)\n",
            "Requirement already satisfied: nvidia-nccl-cu12==2.21.5 in /usr/local/lib/python3.11/dist-packages (from torch==2.5.1+cu121->-r requirements/core.cu121.txt (line 36)) (2.21.5)\n",
            "Requirement already satisfied: nvidia-nvtx-cu12==12.1.105 in /usr/local/lib/python3.11/dist-packages (from torch==2.5.1+cu121->-r requirements/core.cu121.txt (line 36)) (12.1.105)\n",
            "Requirement already satisfied: triton==3.1.0 in /usr/local/lib/python3.11/dist-packages (from torch==2.5.1+cu121->-r requirements/core.cu121.txt (line 36)) (3.1.0)\n",
            "Requirement already satisfied: nvidia-nvjitlink-cu12 in /usr/local/lib/python3.11/dist-packages (from nvidia-cusolver-cu12==11.4.5.107->torch==2.5.1+cu121->-r requirements/core.cu121.txt (line 36)) (12.4.127)\n",
            "Requirement already satisfied: antlr4-python3-runtime==4.9.3 in /usr/local/lib/python3.11/dist-packages (from strhub==1.2.0) (4.9.3)\n",
            "Requirement already satisfied: contourpy==1.3.2 in /usr/local/lib/python3.11/dist-packages (from strhub==1.2.0) (1.3.2)\n",
            "Requirement already satisfied: cycler==0.12.1 in /usr/local/lib/python3.11/dist-packages (from strhub==1.2.0) (0.12.1)\n",
            "Requirement already satisfied: fonttools==4.58.1 in /usr/local/lib/python3.11/dist-packages (from strhub==1.2.0) (4.58.1)\n",
            "Requirement already satisfied: hydra-core==1.3.2 in /usr/local/lib/python3.11/dist-packages (from strhub==1.2.0) (1.3.2)\n",
            "Requirement already satisfied: imageio==2.37.0 in /usr/local/lib/python3.11/dist-packages (from strhub==1.2.0) (2.37.0)\n",
            "Requirement already satisfied: imgaug==0.4.0 in /usr/local/lib/python3.11/dist-packages (from strhub==1.2.0) (0.4.0)\n",
            "Requirement already satisfied: kiwisolver==1.4.8 in /usr/local/lib/python3.11/dist-packages (from strhub==1.2.0) (1.4.8)\n",
            "Requirement already satisfied: lazy-loader==0.4 in /usr/local/lib/python3.11/dist-packages (from strhub==1.2.0) (0.4)\n",
            "Requirement already satisfied: lmdb==1.6.2 in /usr/local/lib/python3.11/dist-packages (from strhub==1.2.0) (1.6.2)\n",
            "Requirement already satisfied: matplotlib==3.10.3 in /usr/local/lib/python3.11/dist-packages (from strhub==1.2.0) (3.10.3)\n",
            "Requirement already satisfied: omegaconf==2.3.0 in /usr/local/lib/python3.11/dist-packages (from strhub==1.2.0) (2.3.0)\n",
            "Collecting opencv-python==4.11.0.86 (from strhub==1.2.0)\n",
            "  Using cached opencv_python-4.11.0.86-cp37-abi3-manylinux_2_17_x86_64.manylinux2014_x86_64.whl.metadata (20 kB)\n",
            "Requirement already satisfied: pyparsing==3.2.3 in /usr/local/lib/python3.11/dist-packages (from strhub==1.2.0) (3.2.3)\n",
            "Requirement already satisfied: python-dateutil==2.9.0.post0 in /usr/local/lib/python3.11/dist-packages (from strhub==1.2.0) (2.9.0.post0)\n",
            "Collecting scikit-image==0.25.2 (from strhub==1.2.0)\n",
            "  Using cached scikit_image-0.25.2-cp311-cp311-manylinux_2_17_x86_64.manylinux2014_x86_64.whl.metadata (14 kB)\n",
            "Requirement already satisfied: scipy==1.15.3 in /usr/local/lib/python3.11/dist-packages (from strhub==1.2.0) (1.15.3)\n",
            "Requirement already satisfied: shapely==2.1.1 in /usr/local/lib/python3.11/dist-packages (from strhub==1.2.0) (2.1.1)\n",
            "Requirement already satisfied: six==1.17.0 in /usr/local/lib/python3.11/dist-packages (from strhub==1.2.0) (1.17.0)\n",
            "Requirement already satisfied: tensorboardx==2.6.2.2 in /usr/local/lib/python3.11/dist-packages (from strhub==1.2.0) (2.6.2.2)\n",
            "Requirement already satisfied: tifffile==2025.5.26 in /usr/local/lib/python3.11/dist-packages (from strhub==1.2.0) (2025.5.26)\n",
            "Using cached packaging-25.0-py3-none-any.whl (66 kB)\n",
            "Using cached protobuf-5.29.4-cp38-abi3-manylinux2014_x86_64.whl (319 kB)\n",
            "Using cached opencv_python-4.11.0.86-cp37-abi3-manylinux_2_17_x86_64.manylinux2014_x86_64.whl (63.0 MB)\n",
            "Using cached scikit_image-0.25.2-cp311-cp311-manylinux_2_17_x86_64.manylinux2014_x86_64.whl (14.8 MB)\n",
            "Building wheels for collected packages: strhub\n",
            "  Building editable for strhub (pyproject.toml) ... \u001b[?25l\u001b[?25hdone\n",
            "  Created wheel for strhub: filename=strhub-1.2.0-0.editable-py3-none-any.whl size=17051 sha256=3a556484c2e5469edb987bc14fe59234da6eb9653033fa75af7e1f858a0398f7\n",
            "  Stored in directory: /tmp/pip-ephem-wheel-cache-3es7zx7d/wheels/b8/fc/79/177eca182221e0f95b57302acb3216e4e056e2bf919c89a610\n",
            "Successfully built strhub\n",
            "Installing collected packages: strhub, protobuf, packaging, opencv-python, scikit-image\n",
            "  Attempting uninstall: strhub\n",
            "    Found existing installation: strhub 1.2.0\n",
            "    Uninstalling strhub-1.2.0:\n",
            "      Successfully uninstalled strhub-1.2.0\n",
            "  Attempting uninstall: protobuf\n",
            "    Found existing installation: protobuf 4.25.8\n",
            "    Uninstalling protobuf-4.25.8:\n",
            "      Successfully uninstalled protobuf-4.25.8\n",
            "  Attempting uninstall: packaging\n",
            "    Found existing installation: packaging 23.2\n",
            "    Uninstalling packaging-23.2:\n",
            "      Successfully uninstalled packaging-23.2\n",
            "  Attempting uninstall: opencv-python\n",
            "    Found existing installation: opencv-python 4.9.0.80\n",
            "    Uninstalling opencv-python-4.9.0.80:\n",
            "      Successfully uninstalled opencv-python-4.9.0.80\n",
            "  Attempting uninstall: scikit-image\n",
            "    Found existing installation: scikit-image 0.22.0\n",
            "    Uninstalling scikit-image-0.22.0:\n",
            "      Successfully uninstalled scikit-image-0.22.0\n",
            "\u001b[31mERROR: pip's dependency resolver does not currently take into account all the packages that are installed. This behaviour is the source of the following dependency conflicts.\n",
            "tensorflow 2.15.0 requires protobuf!=4.21.0,!=4.21.1,!=4.21.2,!=4.21.3,!=4.21.4,!=4.21.5,<5.0.0dev,>=3.20.3, but you have protobuf 5.29.4 which is incompatible.\n",
            "tensorflow-decision-forests 1.11.0 requires tensorflow==2.18.0, but you have tensorflow 2.15.0 which is incompatible.\n",
            "thinc 8.3.6 requires numpy<3.0.0,>=2.0.0, but you have numpy 1.26.4 which is incompatible.\n",
            "langchain-core 0.3.60 requires packaging<25,>=23.2, but you have packaging 25.0 which is incompatible.\n",
            "tensorflow-text 2.18.1 requires tensorflow<2.19,>=2.18.0, but you have tensorflow 2.15.0 which is incompatible.\n",
            "tf-keras 2.18.0 requires tensorflow<2.19,>=2.18, but you have tensorflow 2.15.0 which is incompatible.\u001b[0m\u001b[31m\n",
            "\u001b[0mSuccessfully installed opencv-python-4.11.0.86 packaging-25.0 protobuf-5.29.4 scikit-image-0.25.2 strhub-1.2.0\n",
            "/content/jawiOCR\n"
          ]
        }
      ]
    },
    {
      "cell_type": "code",
      "source": [
        "import os\n",
        "%cd /content/jawiOCR/parseq_jawi/\n",
        "\n",
        "# Create a folder to unzip into\n",
        "os.makedirs(\"outputs\", exist_ok=True)\n",
        "\n",
        "# Download\n",
        "!wget -O outputs.zip https://huggingface.co/datasets/mirzasyhm/checkpoint_jawi/resolve/main/outputs_color.zip\n",
        "\n",
        "# Unzip into that folder\n",
        "!unzip -q outputs.zip -d outputs\n",
        "\n",
        "# Clean up\n",
        "!rm outputs.zip\n",
        "\n",
        "%cd .."
      ],
      "metadata": {
        "colab": {
          "base_uri": "https://localhost:8080/"
        },
        "id": "DejJwFvJVOOK",
        "outputId": "b29d08c1-f42d-493c-c1f0-9d0015712f06"
      },
      "execution_count": null,
      "outputs": [
        {
          "output_type": "stream",
          "name": "stdout",
          "text": [
            "/content/jawiOCR/parseq_jawi\n",
            "--2025-06-01 16:17:02--  https://huggingface.co/datasets/mirzasyhm/checkpoint_jawi/resolve/main/outputs_color.zip\n",
            "Resolving huggingface.co (huggingface.co)... 13.35.202.34, 13.35.202.40, 13.35.202.97, ...\n",
            "Connecting to huggingface.co (huggingface.co)|13.35.202.34|:443... connected.\n",
            "HTTP request sent, awaiting response... 302 Found\n",
            "Location: https://cdn-lfs-us-1.hf.co/repos/a4/0e/a40edb5fee9aa56b081d76cebeb85749da8b1935a5194f415623e5924b1f8594/51ed8f3c2622c67b6b1135afb9b73ce7c65727cf6f70bd9ef1a6ddf9bebf208c?response-content-disposition=inline%3B+filename*%3DUTF-8%27%27outputs_color.zip%3B+filename%3D%22outputs_color.zip%22%3B&response-content-type=application%2Fzip&Expires=1748798222&Policy=eyJTdGF0ZW1lbnQiOlt7IkNvbmRpdGlvbiI6eyJEYXRlTGVzc1RoYW4iOnsiQVdTOkVwb2NoVGltZSI6MTc0ODc5ODIyMn19LCJSZXNvdXJjZSI6Imh0dHBzOi8vY2RuLWxmcy11cy0xLmhmLmNvL3JlcG9zL2E0LzBlL2E0MGVkYjVmZWU5YWE1NmIwODFkNzZjZWJlYjg1NzQ5ZGE4YjE5MzVhNTE5NGY0MTU2MjNlNTkyNGIxZjg1OTQvNTFlZDhmM2MyNjIyYzY3YjZiMTEzNWFmYjliNzNjZTdjNjU3MjdjZjZmNzBiZDllZjFhNmRkZjliZWJmMjA4Yz9yZXNwb25zZS1jb250ZW50LWRpc3Bvc2l0aW9uPSomcmVzcG9uc2UtY29udGVudC10eXBlPSoifV19&Signature=dCIj8uqaGx0rURSsn95QbdxX5m-Xa5SCulKKwV3pJQT5Y5UdOIw09yWcSkKrQPmKTNmtPNhnpjUqaVi1VtnzM2Fz%7EFDQ7xVLgJe5xj8JzB31wcwmHZudnuhxWuWCzxjtZ-GBj8YIYjB2qIOAzNI5Q4pn5tnOlH8ERYgGzGj4T%7EFK4GBVrI-pcn1DIHby3Kuh2tF0VUi6B-hw-rCaTcgDLpuSZaajzoLdMqOOtmiQJr4zC-dC9NIT6qTcz6rOG24GF6tt6VtWdFMb8PgfmC278soy-gBRxlN%7EzeSHJ2SUQdvRV-VexTgo-NDoVCafhvW9eGRIURK4ST0RYY%7ErNfVh4w__&Key-Pair-Id=K24J24Z295AEI9 [following]\n",
            "--2025-06-01 16:17:02--  https://cdn-lfs-us-1.hf.co/repos/a4/0e/a40edb5fee9aa56b081d76cebeb85749da8b1935a5194f415623e5924b1f8594/51ed8f3c2622c67b6b1135afb9b73ce7c65727cf6f70bd9ef1a6ddf9bebf208c?response-content-disposition=inline%3B+filename*%3DUTF-8%27%27outputs_color.zip%3B+filename%3D%22outputs_color.zip%22%3B&response-content-type=application%2Fzip&Expires=1748798222&Policy=eyJTdGF0ZW1lbnQiOlt7IkNvbmRpdGlvbiI6eyJEYXRlTGVzc1RoYW4iOnsiQVdTOkVwb2NoVGltZSI6MTc0ODc5ODIyMn19LCJSZXNvdXJjZSI6Imh0dHBzOi8vY2RuLWxmcy11cy0xLmhmLmNvL3JlcG9zL2E0LzBlL2E0MGVkYjVmZWU5YWE1NmIwODFkNzZjZWJlYjg1NzQ5ZGE4YjE5MzVhNTE5NGY0MTU2MjNlNTkyNGIxZjg1OTQvNTFlZDhmM2MyNjIyYzY3YjZiMTEzNWFmYjliNzNjZTdjNjU3MjdjZjZmNzBiZDllZjFhNmRkZjliZWJmMjA4Yz9yZXNwb25zZS1jb250ZW50LWRpc3Bvc2l0aW9uPSomcmVzcG9uc2UtY29udGVudC10eXBlPSoifV19&Signature=dCIj8uqaGx0rURSsn95QbdxX5m-Xa5SCulKKwV3pJQT5Y5UdOIw09yWcSkKrQPmKTNmtPNhnpjUqaVi1VtnzM2Fz%7EFDQ7xVLgJe5xj8JzB31wcwmHZudnuhxWuWCzxjtZ-GBj8YIYjB2qIOAzNI5Q4pn5tnOlH8ERYgGzGj4T%7EFK4GBVrI-pcn1DIHby3Kuh2tF0VUi6B-hw-rCaTcgDLpuSZaajzoLdMqOOtmiQJr4zC-dC9NIT6qTcz6rOG24GF6tt6VtWdFMb8PgfmC278soy-gBRxlN%7EzeSHJ2SUQdvRV-VexTgo-NDoVCafhvW9eGRIURK4ST0RYY%7ErNfVh4w__&Key-Pair-Id=K24J24Z295AEI9\n",
            "Resolving cdn-lfs-us-1.hf.co (cdn-lfs-us-1.hf.co)... 18.155.68.103, 18.155.68.69, 18.155.68.65, ...\n",
            "Connecting to cdn-lfs-us-1.hf.co (cdn-lfs-us-1.hf.co)|18.155.68.103|:443... connected.\n",
            "HTTP request sent, awaiting response... 200 OK\n",
            "Length: 352553622 (336M) [application/zip]\n",
            "Saving to: ‘outputs.zip’\n",
            "\n",
            "outputs.zip         100%[===================>] 336.22M   200MB/s    in 1.7s    \n",
            "\n",
            "2025-06-01 16:17:04 (200 MB/s) - ‘outputs.zip’ saved [352553622/352553622]\n",
            "\n",
            "/content/jawiOCR\n"
          ]
        }
      ]
    },
    {
      "cell_type": "code",
      "source": [
        "import os\n",
        "%cd /content/jawiOCR/craft/exp/\n",
        "\n",
        "# Download\n",
        "!wget -O CRAFT_clr_amp_12000.pth https://huggingface.co/datasets/mirzasyhm/checkpoint_jawi/resolve/main/CRAFT_clr_amp_12000.pth\n",
        "\n",
        "%cd /content/jawiOCR/"
      ],
      "metadata": {
        "colab": {
          "base_uri": "https://localhost:8080/"
        },
        "id": "PJq4f8pdYFiV",
        "outputId": "42a5e121-18e7-4c17-a343-4bce0a4e0acc"
      },
      "execution_count": null,
      "outputs": [
        {
          "output_type": "stream",
          "name": "stdout",
          "text": [
            "/content/jawiOCR/craft/exp\n",
            "--2025-06-01 16:17:08--  https://huggingface.co/datasets/mirzasyhm/checkpoint_jawi/resolve/main/CRAFT_clr_amp_12000.pth\n",
            "Resolving huggingface.co (huggingface.co)... 13.35.202.121, 13.35.202.40, 13.35.202.34, ...\n",
            "Connecting to huggingface.co (huggingface.co)|13.35.202.121|:443... connected.\n",
            "HTTP request sent, awaiting response... 302 Found\n",
            "Location: https://cdn-lfs-us-1.hf.co/repos/a4/0e/a40edb5fee9aa56b081d76cebeb85749da8b1935a5194f415623e5924b1f8594/d4a890d8272c45581195e9fe07f9f722b3f4023d1a16bd8b94f780796c2ed067?response-content-disposition=inline%3B+filename*%3DUTF-8%27%27CRAFT_clr_amp_12000.pth%3B+filename%3D%22CRAFT_clr_amp_12000.pth%22%3B&Expires=1748798228&Policy=eyJTdGF0ZW1lbnQiOlt7IkNvbmRpdGlvbiI6eyJEYXRlTGVzc1RoYW4iOnsiQVdTOkVwb2NoVGltZSI6MTc0ODc5ODIyOH19LCJSZXNvdXJjZSI6Imh0dHBzOi8vY2RuLWxmcy11cy0xLmhmLmNvL3JlcG9zL2E0LzBlL2E0MGVkYjVmZWU5YWE1NmIwODFkNzZjZWJlYjg1NzQ5ZGE4YjE5MzVhNTE5NGY0MTU2MjNlNTkyNGIxZjg1OTQvZDRhODkwZDgyNzJjNDU1ODExOTVlOWZlMDdmOWY3MjJiM2Y0MDIzZDFhMTZiZDhiOTRmNzgwNzk2YzJlZDA2Nz9yZXNwb25zZS1jb250ZW50LWRpc3Bvc2l0aW9uPSoifV19&Signature=FN3MXfg7%7EE0RjpBfTo5ikJNrUocaAD77d7ONo0yofyj%7Esaal9wbVXvxXpakKgua7c5No32n6UJ9lAIhcDKGCSY%7EolNLRnJFf7RCMYmEh2jF-jjlHPlzN5EeaeJbEg7m6xSvARcX65IUE7KbNiEfWtoJw9z2j4M23cnTO5KYMWS4roGybPEKhjSebTBVb5vQy3PkAjf21WJd-QLd6o9r5blP3pNY86RQmhkJ1ZKk%7ElNB2wdfSo83hJwgwopm-ZG0BA9Y3qcoTHnxxzuVTftIf1sMLiuHWYAqP2PU5qkQr69EydN2oFLekDQzMuxznJkxBUFMsq9ifd2W6cOUXiT2icw__&Key-Pair-Id=K24J24Z295AEI9 [following]\n",
            "--2025-06-01 16:17:08--  https://cdn-lfs-us-1.hf.co/repos/a4/0e/a40edb5fee9aa56b081d76cebeb85749da8b1935a5194f415623e5924b1f8594/d4a890d8272c45581195e9fe07f9f722b3f4023d1a16bd8b94f780796c2ed067?response-content-disposition=inline%3B+filename*%3DUTF-8%27%27CRAFT_clr_amp_12000.pth%3B+filename%3D%22CRAFT_clr_amp_12000.pth%22%3B&Expires=1748798228&Policy=eyJTdGF0ZW1lbnQiOlt7IkNvbmRpdGlvbiI6eyJEYXRlTGVzc1RoYW4iOnsiQVdTOkVwb2NoVGltZSI6MTc0ODc5ODIyOH19LCJSZXNvdXJjZSI6Imh0dHBzOi8vY2RuLWxmcy11cy0xLmhmLmNvL3JlcG9zL2E0LzBlL2E0MGVkYjVmZWU5YWE1NmIwODFkNzZjZWJlYjg1NzQ5ZGE4YjE5MzVhNTE5NGY0MTU2MjNlNTkyNGIxZjg1OTQvZDRhODkwZDgyNzJjNDU1ODExOTVlOWZlMDdmOWY3MjJiM2Y0MDIzZDFhMTZiZDhiOTRmNzgwNzk2YzJlZDA2Nz9yZXNwb25zZS1jb250ZW50LWRpc3Bvc2l0aW9uPSoifV19&Signature=FN3MXfg7%7EE0RjpBfTo5ikJNrUocaAD77d7ONo0yofyj%7Esaal9wbVXvxXpakKgua7c5No32n6UJ9lAIhcDKGCSY%7EolNLRnJFf7RCMYmEh2jF-jjlHPlzN5EeaeJbEg7m6xSvARcX65IUE7KbNiEfWtoJw9z2j4M23cnTO5KYMWS4roGybPEKhjSebTBVb5vQy3PkAjf21WJd-QLd6o9r5blP3pNY86RQmhkJ1ZKk%7ElNB2wdfSo83hJwgwopm-ZG0BA9Y3qcoTHnxxzuVTftIf1sMLiuHWYAqP2PU5qkQr69EydN2oFLekDQzMuxznJkxBUFMsq9ifd2W6cOUXiT2icw__&Key-Pair-Id=K24J24Z295AEI9\n",
            "Resolving cdn-lfs-us-1.hf.co (cdn-lfs-us-1.hf.co)... 18.155.68.103, 18.155.68.69, 18.155.68.65, ...\n",
            "Connecting to cdn-lfs-us-1.hf.co (cdn-lfs-us-1.hf.co)|18.155.68.103|:443... connected.\n",
            "HTTP request sent, awaiting response... 200 OK\n",
            "Length: 249425258 (238M) [binary/octet-stream]\n",
            "Saving to: ‘CRAFT_clr_amp_12000.pth’\n",
            "\n",
            "CRAFT_clr_amp_12000 100%[===================>] 237.87M   232MB/s    in 1.0s    \n",
            "\n",
            "2025-06-01 16:17:09 (232 MB/s) - ‘CRAFT_clr_amp_12000.pth’ saved [249425258/249425258]\n",
            "\n",
            "/content/jawiOCR\n"
          ]
        }
      ]
    },
    {
      "cell_type": "code",
      "source": [
        "!wget \"https://huggingface.co/datasets/mirzasyhm/checkpoint_jawi/resolve/main/best_jawi_orientation_resnet50.keras\""
      ],
      "metadata": {
        "colab": {
          "base_uri": "https://localhost:8080/"
        },
        "id": "9LvTEb3WdyeX",
        "outputId": "e9256f3a-9f6c-4246-d366-472ed9b617dd"
      },
      "execution_count": null,
      "outputs": [
        {
          "output_type": "stream",
          "name": "stdout",
          "text": [
            "--2025-06-01 16:17:09--  https://huggingface.co/datasets/mirzasyhm/checkpoint_jawi/resolve/main/best_jawi_orientation_resnet50.keras\n",
            "Resolving huggingface.co (huggingface.co)... 13.35.202.121, 13.35.202.40, 13.35.202.34, ...\n",
            "Connecting to huggingface.co (huggingface.co)|13.35.202.121|:443... connected.\n",
            "HTTP request sent, awaiting response... 302 Found\n",
            "Location: https://cdn-lfs-us-1.hf.co/repos/a4/0e/a40edb5fee9aa56b081d76cebeb85749da8b1935a5194f415623e5924b1f8594/aff874538ba2a9cd11c53bffc4659ea1b1ade75d231b6f3dea595da0a07dcd44?response-content-disposition=inline%3B+filename*%3DUTF-8%27%27best_jawi_orientation_resnet50.keras%3B+filename%3D%22best_jawi_orientation_resnet50.keras%22%3B&Expires=1748798229&Policy=eyJTdGF0ZW1lbnQiOlt7IkNvbmRpdGlvbiI6eyJEYXRlTGVzc1RoYW4iOnsiQVdTOkVwb2NoVGltZSI6MTc0ODc5ODIyOX19LCJSZXNvdXJjZSI6Imh0dHBzOi8vY2RuLWxmcy11cy0xLmhmLmNvL3JlcG9zL2E0LzBlL2E0MGVkYjVmZWU5YWE1NmIwODFkNzZjZWJlYjg1NzQ5ZGE4YjE5MzVhNTE5NGY0MTU2MjNlNTkyNGIxZjg1OTQvYWZmODc0NTM4YmEyYTljZDExYzUzYmZmYzQ2NTllYTFiMWFkZTc1ZDIzMWI2ZjNkZWE1OTVkYTBhMDdkY2Q0ND9yZXNwb25zZS1jb250ZW50LWRpc3Bvc2l0aW9uPSoifV19&Signature=lgLeLp1XDwmwNBmm5TPYebC3MErDFUN4GTl0dIA2RWKMmRx4fP6wrA1mXdCtqrIno3Hadc4jZj%7EdXNXy6pijz2l5QTZqDi3TQL8JP2RQPx9JjZq%7EY%7EbcExuSJaEXDFT1LdIg1-OuWWdf4JzBVKeBNIH%7Ez7hQ6JDr0YCB80OBxhaAHr5PkKjtOkVt3nvgpgL3pIL0-ZNzV23P4O2eQsml1MPXCPF8ZsKKg1WhtVqffquq2ndeXUNQ5z5KTRkOnsTHSq-9MKr7TYAY-IcdURGMSBbUc1yci89CJJp3rIMBwi%7Ej7B2H2nsm4OiehrFEUYmvAO6bt9ZKdVp9NsODLryk%7Eg__&Key-Pair-Id=K24J24Z295AEI9 [following]\n",
            "--2025-06-01 16:17:09--  https://cdn-lfs-us-1.hf.co/repos/a4/0e/a40edb5fee9aa56b081d76cebeb85749da8b1935a5194f415623e5924b1f8594/aff874538ba2a9cd11c53bffc4659ea1b1ade75d231b6f3dea595da0a07dcd44?response-content-disposition=inline%3B+filename*%3DUTF-8%27%27best_jawi_orientation_resnet50.keras%3B+filename%3D%22best_jawi_orientation_resnet50.keras%22%3B&Expires=1748798229&Policy=eyJTdGF0ZW1lbnQiOlt7IkNvbmRpdGlvbiI6eyJEYXRlTGVzc1RoYW4iOnsiQVdTOkVwb2NoVGltZSI6MTc0ODc5ODIyOX19LCJSZXNvdXJjZSI6Imh0dHBzOi8vY2RuLWxmcy11cy0xLmhmLmNvL3JlcG9zL2E0LzBlL2E0MGVkYjVmZWU5YWE1NmIwODFkNzZjZWJlYjg1NzQ5ZGE4YjE5MzVhNTE5NGY0MTU2MjNlNTkyNGIxZjg1OTQvYWZmODc0NTM4YmEyYTljZDExYzUzYmZmYzQ2NTllYTFiMWFkZTc1ZDIzMWI2ZjNkZWE1OTVkYTBhMDdkY2Q0ND9yZXNwb25zZS1jb250ZW50LWRpc3Bvc2l0aW9uPSoifV19&Signature=lgLeLp1XDwmwNBmm5TPYebC3MErDFUN4GTl0dIA2RWKMmRx4fP6wrA1mXdCtqrIno3Hadc4jZj%7EdXNXy6pijz2l5QTZqDi3TQL8JP2RQPx9JjZq%7EY%7EbcExuSJaEXDFT1LdIg1-OuWWdf4JzBVKeBNIH%7Ez7hQ6JDr0YCB80OBxhaAHr5PkKjtOkVt3nvgpgL3pIL0-ZNzV23P4O2eQsml1MPXCPF8ZsKKg1WhtVqffquq2ndeXUNQ5z5KTRkOnsTHSq-9MKr7TYAY-IcdURGMSBbUc1yci89CJJp3rIMBwi%7Ej7B2H2nsm4OiehrFEUYmvAO6bt9ZKdVp9NsODLryk%7Eg__&Key-Pair-Id=K24J24Z295AEI9\n",
            "Resolving cdn-lfs-us-1.hf.co (cdn-lfs-us-1.hf.co)... 18.155.68.103, 18.155.68.69, 18.155.68.65, ...\n",
            "Connecting to cdn-lfs-us-1.hf.co (cdn-lfs-us-1.hf.co)|18.155.68.103|:443... connected.\n",
            "HTTP request sent, awaiting response... 200 OK\n",
            "Length: 248272187 (237M) [binary/octet-stream]\n",
            "Saving to: ‘best_jawi_orientation_resnet50.keras’\n",
            "\n",
            "best_jawi_orientati 100%[===================>] 236.77M   176MB/s    in 1.3s    \n",
            "\n",
            "2025-06-01 16:17:11 (176 MB/s) - ‘best_jawi_orientation_resnet50.keras’ saved [248272187/248272187]\n",
            "\n"
          ]
        }
      ]
    },
    {
      "cell_type": "code",
      "source": [
        "!python jawiocr.py \\\n",
        "    --image_path ./jord/demo/180_3.jpg \\\n",
        "    --craft_model_path ./craft/exp/CRAFT_clr_amp_12000.pth \\\n",
        "    --parseq_model_path ./parseq_jawi/outputs/parseq/2025-05-12_10-45-42/checkpoints/last.ckpt \\\n",
        "    --output_dir ./my_jawi_results/ \\\n",
        "    --save_debug_crops \\\n",
        "    --custom_orientation_model_path best_jawi_orientation_resnet50.keras \\\n",
        "    --orientation_class_names \"0_degrees,180_degrees,270_degrees,90_degrees\" \\\n",
        "    --orientation_confidence_threshold 50.0 \\\n",
        "    --rerun_180_threshold 90.0 \\\n",
        "    --save_debug_crops\n",
        "    #--use_simple_orientation \\\n",
        "\n"
      ],
      "metadata": {
        "colab": {
          "base_uri": "https://localhost:8080/"
        },
        "id": "dCI5_Q7edfkn",
        "outputId": "dfc95ee9-8c5c-41f8-e466-4527afa96052"
      },
      "execution_count": null,
      "outputs": [
        {
          "output_type": "stream",
          "name": "stdout",
          "text": [
            "2025-06-01 16:17:14.142312: E external/local_xla/xla/stream_executor/cuda/cuda_fft.cc:485] Unable to register cuFFT factory: Attempting to register factory for plugin cuFFT when one has already been registered\n",
            "2025-06-01 16:17:14.163963: E external/local_xla/xla/stream_executor/cuda/cuda_dnn.cc:8454] Unable to register cuDNN factory: Attempting to register factory for plugin cuDNN when one has already been registered\n",
            "2025-06-01 16:17:14.170334: E external/local_xla/xla/stream_executor/cuda/cuda_blas.cc:1452] Unable to register cuBLAS factory: Attempting to register factory for plugin cuBLAS when one has already been registered\n",
            "2025-06-01 16:17:15.334531: W tensorflow/compiler/tf2tensorrt/utils/py_utils.cc:38] TF-TRT Warning: Could not find TensorRT\n",
            "Adjusted sys.path. Current sys.path[0:3]: ['/content/jawiOCR/parseq_jawi', '/content/jawiOCR/craft', '/content/jawiOCR']\n",
            "TensorFlow version: 2.17.0\n",
            "TensorFlow Found GPUs: [PhysicalDevice(name='/physical_device:GPU:0', device_type='GPU')]\n",
            "Using PyTorch device: cuda\n",
            "Created debug crops directory: ./my_jawi_results/debug_crops\n",
            "Loading Keras orientation model from best_jawi_orientation_resnet50.keras...\n",
            "2025-06-01 16:17:19.429911: W tensorflow/core/common_runtime/gpu/gpu_bfc_allocator.cc:47] Overriding orig_value setting because the TF_FORCE_GPU_ALLOW_GROWTH environment variable is set. Original config value was 0.\n",
            "/usr/local/lib/python3.11/dist-packages/keras/src/saving/saving_lib.py:802: UserWarning: Skipping variable loading for optimizer 'adam', because it has 38 variables whereas the saved optimizer has 42 variables. \n",
            "  saveable.load_own_variables(weights_store.get(inner_path))\n",
            "Keras orientation model loaded successfully.\n",
            "Processing image: ./jord/demo/180_3.jpg\n",
            "WARNING: All log messages before absl::InitializeLog() is called are written to STDERR\n",
            "I0000 00:00:1748794643.949835   11560 service.cc:146] XLA service 0x7b189c002d40 initialized for platform CUDA (this does not guarantee that XLA will be used). Devices:\n",
            "I0000 00:00:1748794643.949867   11560 service.cc:154]   StreamExecutor device (0): NVIDIA L4, Compute Capability 8.9\n",
            "I0000 00:00:1748794646.838460   11560 device_compiler.h:188] Compiled cluster using XLA!  This line is logged at most once for the lifetime of the process.\n",
            "\u001b[1m1/1\u001b[0m \u001b[32m━━━━━━━━━━━━━━━━━━━━\u001b[0m\u001b[37m\u001b[0m \u001b[1m5s\u001b[0m 5s/step\n",
            "Global Page Orientation Prediction by Keras Model: 180_degrees (Conf: 0.99)\n",
            "Loading CRAFT w: ./craft/exp/CRAFT_clr_amp_12000.pth\n",
            "Loading Parseq model from: ./parseq_jawi/outputs/parseq/2025-05-12_10-45-42/checkpoints/last.ckpt\n",
            "/usr/local/lib/python3.11/dist-packages/timm/models/helpers.py:7: FutureWarning: Importing from timm.models.helpers is deprecated, please import via timm.models\n",
            "  warnings.warn(f\"Importing from {__name__} is deprecated, please import via timm.models\", FutureWarning)\n",
            "Parseq model loaded successfully.\n",
            "Parseq tokenizer found. Type: <class 'strhub.data.utils.Tokenizer'>\n",
            "\n",
            "--- Starting OCR Pass: Pass1 (Input page globally rotated by 0 deg CW if applicable) ---\n",
            "Pass1 - CRAFT detected 11 regions.\n",
            "Pass1 - Regions sorted R-L: 11 regions.\n",
            "Pass1 SRegion 1(X:1240, SimpleOrient:not_applied):Txt='ساک٢',Conf=0.8306\n",
            "Pass1 SRegion 2(X:1114, SimpleOrient:not_applied):Txt='کسيسيسيسي٢',Conf=0.8115\n",
            "Pass1 SRegion 3(X:953, SimpleOrient:not_applied):Txt='کرکوساسي',Conf=0.6813\n",
            "Pass1 SRegion 4(X:826, SimpleOrient:not_applied):Txt='اکام٢',Conf=0.8331\n",
            "Pass1 SRegion 5(X:719, SimpleOrient:not_applied):Txt='اکر٢کو',Conf=0.9123\n",
            "Pass1 SRegion 6(X:618, SimpleOrient:not_applied):Txt='مميمبم-کمبم',Conf=0.8269\n",
            "Pass1 SRegion 7(X:529, SimpleOrient:not_applied):Txt='اک٢',Conf=0.7701\n",
            "Pass1 SRegion 8(X:439, SimpleOrient:not_applied):Txt='جيمکاکا',Conf=0.7144\n",
            "Pass1 SRegion 9(X:324, SimpleOrient:not_applied):Txt='کوسم٢',Conf=0.6058\n",
            "Pass1 SRegion 10(X:205, SimpleOrient:not_applied):Txt='چهمبم',Conf=0.4638\n",
            "Pass1 SRegion 11(X:106, SimpleOrient:not_applied):Txt='مرسسڠ',Conf=0.4904\n",
            "Pass1 - Avg Confidence: 0.7218, Combined Text: ساک٢ کسيسيسيسي٢ کرکوساسي اکام٢ اکر٢کو مميمبم-کمبم اک٢ جيمکاکا کوسم٢ چهمبم مرسسڠ\n",
            "\n",
            "Pass 1 conf (72.18%) < threshold (90.0%). Re-running with 180-deg rotation.\n",
            "\n",
            "--- Starting OCR Pass: Pass2_180_Rot (Input page globally rotated by 180 deg CW if applicable) ---\n",
            "Pass2_180_Rot - CRAFT detected 11 regions.\n",
            "Pass2_180_Rot - Regions sorted R-L: 11 regions.\n",
            "Pass2_180_Rot SRegion 1(X:1235, SimpleOrient:not_applied):Txt='ليچيڠ',Conf=0.9731\n",
            "Pass2_180_Rot SRegion 2(X:1135, SimpleOrient:not_applied):Txt='سڠيچا',Conf=0.7804\n",
            "Pass2_180_Rot SRegion 3(X:1018, SimpleOrient:not_applied):Txt='دڤستبکن',Conf=0.9422\n",
            "Pass2_180_Rot SRegion 4(X:904, SimpleOrient:not_applied):Txt='اݢڠ‌س',Conf=0.9507\n",
            "Pass2_180_Rot SRegion 5(X:812, SimpleOrient:not_applied):Txt='اوندي',Conf=0.9062\n",
            "Pass2_180_Rot SRegion 6(X:722, SimpleOrient:not_applied):Txt='ڤرنممڤسا',Conf=0.8748\n",
            "Pass2_180_Rot SRegion 7(X:624, SimpleOrient:not_applied):Txt='ݢرݢسݢ',Conf=0.9234\n",
            "Pass2_180_Rot SRegion 8(X:516, SimpleOrient:not_applied):Txt='مليارکن',Conf=0.9181\n",
            "Pass2_180_Rot SRegion 9(X:390, SimpleOrient:not_applied):Txt='سڤوڠݢ',Conf=0.8792\n",
            "Pass2_180_Rot SRegion 10(X:229, SimpleOrient:not_applied):Txt='ايڤسليڤسي',Conf=0.9879\n",
            "Pass2_180_Rot SRegion 11(X:101, SimpleOrient:not_applied):Txt='نسأل',Conf=0.9174\n",
            "Pass2_180_Rot - Avg Confidence: 0.9139, Combined Text: ليچيڠ سڠيچا دڤستبکن اݢڠ‌س اوندي ڤرنممڤسا ݢرݢسݢ مليارکن سڤوڠݢ ايڤسليڤسي نسأل\n",
            "Pass 2 (180-deg rotated) > Pass 1. Using Pass 2 results.\n",
            "\n",
            "--- Final Chosen Result (from Pass2_180_Rot) ---\n",
            "Initial Global Page Orientation by Keras Model: 180_degrees (Conf: 0.99)\n",
            "Global Page Rotation Applied for Chosen Pass: 180 deg CW\n",
            "Final Combined Right-to-Left Text: ليچيڠ سڠيچا دڤستبکن اݢڠ‌س اوندي ڤرنممڤسا ݢرݢسݢ مليارکن سڤوڠݢ ايڤسليڤسي نسأل\n",
            "\n",
            "Final viz saved to: ./my_jawi_results/res_ocr_180_3_final.jpg\n",
            "Final text results saved to: ./my_jawi_results/res_ocr_180_3_final.txt\n",
            "OCR pipeline finished.\n"
          ]
        }
      ]
    },
    {
      "cell_type": "code",
      "source": [
        "from IPython.display import Image, display# Display image from Google Drive\n",
        "display(Image('./my_jawi_results/res_ocr_180_3_final.jpg'))# Display image from local file systemdisplay(Image('/content/image.png', width=200, height=100))\n"
      ],
      "metadata": {
        "colab": {
          "base_uri": "https://localhost:8080/",
          "height": 1000
        },
        "id": "WeKFs13OlAry",
        "outputId": "16362507-9be4-4f3e-e55c-bd9c9175439d"
      },
      "execution_count": null,
      "outputs": [
        {
          "output_type": "display_data",
          "data": {
            "image/jpeg": "[encoded data removed]",
            "text/plain": [
              "<IPython.core.display.Image object>"
            ]
          },
          "metadata": {}
        }
      ]
    },
    {
      "cell_type": "code",
      "source": [
        "from IPython.display import Image, display# Display image from Google Drive\n",
        "display(Image('./my_jawi_results/debug_crops/90_1_pass_Pass2_180_Rot_sregion_4_crop.png'))# Display image from local file systemdisplay(Image('/content/image.png', width=200, height=100))"
      ],
      "metadata": {
        "colab": {
          "base_uri": "https://localhost:8080/",
          "height": 84
        },
        "id": "KFfvj2i0QIuZ",
        "outputId": "96aacb11-48e8-419a-84da-da7d53a0f979"
      },
      "execution_count": null,
      "outputs": [
        {
          "output_type": "display_data",
          "data": {
            "image/png": "[encoded data removed]",
            "text/plain": [
              "<IPython.core.display.Image object>"
            ]
          },
          "metadata": {}
        }
      ]
    },
    {
      "cell_type": "code",
      "source": [
        "!ls ./my_jawi_results/debug_crops/"
      ],
      "metadata": {
        "colab": {
          "base_uri": "https://localhost:8080/"
        },
        "id": "_6CHkEdIKgJC",
        "outputId": "793879de-61f7-46ba-bd71-da99ae94d097"
      },
      "execution_count": null,
      "outputs": [
        {
          "output_type": "stream",
          "name": "stdout",
          "text": [
            "90_1_page_for_pass2_180rot.png\n",
            "90_1_pass_Pass1_sregion_1_crop.png\n",
            "90_1_pass_Pass1_sregion_2_crop.png\n",
            "90_1_pass_Pass1_sregion_3_crop.png\n",
            "90_1_pass_Pass1_sregion_4_crop.png\n",
            "90_1_pass_Pass1_sregion_5_crop.png\n",
            "90_1_pass_Pass1_sregion_6_crop.png\n",
            "90_1_pass_Pass2_180_Rot_sregion_1_crop.png\n",
            "90_1_pass_Pass2_180_Rot_sregion_2_crop.png\n",
            "90_1_pass_Pass2_180_Rot_sregion_3_crop.png\n",
            "90_1_pass_Pass2_180_Rot_sregion_4_crop.png\n",
            "90_1_pass_Pass2_180_Rot_sregion_5_crop.png\n",
            "90_1_pass_Pass2_180_Rot_sregion_6_crop.png\n",
            "90_2_page_custom_oriented_270deg.png\n",
            "90_2_page_for_pass2_180rot.png\n",
            "90_2_pass_Pass1_sregion_10_crop.png\n",
            "90_2_pass_Pass1_sregion_11_crop.png\n",
            "90_2_pass_Pass1_sregion_12_crop.png\n",
            "90_2_pass_Pass1_sregion_1_crop.png\n",
            "90_2_pass_Pass1_sregion_2_crop.png\n",
            "90_2_pass_Pass1_sregion_3_crop.png\n",
            "90_2_pass_Pass1_sregion_4_crop.png\n",
            "90_2_pass_Pass1_sregion_5_crop.png\n",
            "90_2_pass_Pass1_sregion_6_crop.png\n",
            "90_2_pass_Pass1_sregion_7_crop.png\n",
            "90_2_pass_Pass1_sregion_8_crop.png\n",
            "90_2_pass_Pass1_sregion_9_crop.png\n",
            "90_2_pass_Pass2_180_Rot_sregion_10_crop.png\n",
            "90_2_pass_Pass2_180_Rot_sregion_11_crop.png\n",
            "90_2_pass_Pass2_180_Rot_sregion_12_crop.png\n",
            "90_2_pass_Pass2_180_Rot_sregion_1_crop.png\n",
            "90_2_pass_Pass2_180_Rot_sregion_2_crop.png\n",
            "90_2_pass_Pass2_180_Rot_sregion_3_crop.png\n",
            "90_2_pass_Pass2_180_Rot_sregion_4_crop.png\n",
            "90_2_pass_Pass2_180_Rot_sregion_5_crop.png\n",
            "90_2_pass_Pass2_180_Rot_sregion_6_crop.png\n",
            "90_2_pass_Pass2_180_Rot_sregion_7_crop.png\n",
            "90_2_pass_Pass2_180_Rot_sregion_8_crop.png\n",
            "90_2_pass_Pass2_180_Rot_sregion_9_crop.png\n"
          ]
        }
      ]
    },
    {
      "cell_type": "code",
      "source": [
        "!python parseq_jawi/read.py ./parseq_jawi/outputs/parseq/2025-05-12_10-45-42/checkpoints/last.ckpt --images ./parseq_jawi/demo_images/*"
      ],
      "metadata": {
        "colab": {
          "base_uri": "https://localhost:8080/"
        },
        "id": "U7cJ1hOy7ZWG",
        "outputId": "f1bff543-a822-4d20-a835-a253bd60b52d"
      },
      "execution_count": null,
      "outputs": [
        {
          "output_type": "stream",
          "name": "stdout",
          "text": [
            "Additional keyword arguments: {}\n",
            "/usr/local/lib/python3.11/dist-packages/timm/models/helpers.py:7: FutureWarning: Importing from timm.models.helpers is deprecated, please import via timm.models\n",
            "  warnings.warn(f\"Importing from {__name__} is deprecated, please import via timm.models\", FutureWarning)\n",
            "./parseq_jawi/demo_images/Image160967.jpg: ڤروجودن\n",
            "./parseq_jawi/demo_images/Image161005.jpg: يأجوجومأجوج\n",
            "./parseq_jawi/demo_images/Image161078.jpg: يتيم\n",
            "./parseq_jawi/demo_images/Image161571.jpg: زوفيت\n",
            "./parseq_jawi/demo_images/Image161653.jpg: کلابقکن\n",
            "./parseq_jawi/demo_images/Image168083.jpg: ملنتيڠ-لنتيڠ\n",
            "./parseq_jawi/demo_images/Image168799.jpg: برلتوق-لتوق\n",
            "./parseq_jawi/demo_images/Image182474.jpg: چوکايڽ\n",
            "./parseq_jawi/demo_images/Image183203.jpg: دڤرݢوناکنڽ\n"
          ]
        }
      ]
    },
    {
      "cell_type": "code",
      "source": [
        "from google.colab import files\n",
        "\n",
        "\n",
        "files.download('./my_jawi_results/res_ocr_demo_1.txt')\n",
        "files.download('./my_jawi_results/res_ocr_demo_1.jpg')"
      ],
      "metadata": {
        "colab": {
          "base_uri": "https://localhost:8080/",
          "height": 17
        },
        "id": "8mMrCDNkelP5",
        "outputId": "fcbde9be-87ec-44b6-a7d4-b692509e846a"
      },
      "execution_count": null,
      "outputs": [
        {
          "output_type": "display_data",
          "data": {
            "text/plain": [
              "<IPython.core.display.Javascript object>"
            ],
            "application/javascript": [
              "\n",
              "    async function download(id, filename, size) {\n",
              "      if (!google.colab.kernel.accessAllowed) {\n",
              "        return;\n",
              "      }\n",
              "      const div = document.createElement('div');\n",
              "      const label = document.createElement('label');\n",
              "      label.textContent = `Downloading \"${filename}\": `;\n",
              "      div.appendChild(label);\n",
              "      const progress = document.createElement('progress');\n",
              "      progress.max = size;\n",
              "      div.appendChild(progress);\n",
              "      document.body.appendChild(div);\n",
              "\n",
              "      const buffers = [];\n",
              "      let downloaded = 0;\n",
              "\n",
              "      const channel = await google.colab.kernel.comms.open(id);\n",
              "      // Send a message to notify the kernel that we're ready.\n",
              "      channel.send({})\n",
              "\n",
              "      for await (const message of channel.messages) {\n",
              "        // Send a message to notify the kernel that we're ready.\n",
              "        channel.send({})\n",
              "        if (message.buffers) {\n",
              "          for (const buffer of message.buffers) {\n",
              "            buffers.push(buffer);\n",
              "            downloaded += buffer.byteLength;\n",
              "            progress.value = downloaded;\n",
              "          }\n",
              "        }\n",
              "      }\n",
              "      const blob = new Blob(buffers, {type: 'application/binary'});\n",
              "      const a = document.createElement('a');\n",
              "      a.href = window.URL.createObjectURL(blob);\n",
              "      a.download = filename;\n",
              "      div.appendChild(a);\n",
              "      a.click();\n",
              "      div.remove();\n",
              "    }\n",
              "  "
            ]
          },
          "metadata": {}
        },
        {
          "output_type": "display_data",
          "data": {
            "text/plain": [
              "<IPython.core.display.Javascript object>"
            ],
            "application/javascript": [
              "download(\"download_40175e94-04c0-4895-adec-f425612ab32a\", \"res_ocr_demo_1.txt\", 716)"
            ]
          },
          "metadata": {}
        },
        {
          "output_type": "display_data",
          "data": {
            "text/plain": [
              "<IPython.core.display.Javascript object>"
            ],
            "application/javascript": [
              "\n",
              "    async function download(id, filename, size) {\n",
              "      if (!google.colab.kernel.accessAllowed) {\n",
              "        return;\n",
              "      }\n",
              "      const div = document.createElement('div');\n",
              "      const label = document.createElement('label');\n",
              "      label.textContent = `Downloading \"${filename}\": `;\n",
              "      div.appendChild(label);\n",
              "      const progress = document.createElement('progress');\n",
              "      progress.max = size;\n",
              "      div.appendChild(progress);\n",
              "      document.body.appendChild(div);\n",
              "\n",
              "      const buffers = [];\n",
              "      let downloaded = 0;\n",
              "\n",
              "      const channel = await google.colab.kernel.comms.open(id);\n",
              "      // Send a message to notify the kernel that we're ready.\n",
              "      channel.send({})\n",
              "\n",
              "      for await (const message of channel.messages) {\n",
              "        // Send a message to notify the kernel that we're ready.\n",
              "        channel.send({})\n",
              "        if (message.buffers) {\n",
              "          for (const buffer of message.buffers) {\n",
              "            buffers.push(buffer);\n",
              "            downloaded += buffer.byteLength;\n",
              "            progress.value = downloaded;\n",
              "          }\n",
              "        }\n",
              "      }\n",
              "      const blob = new Blob(buffers, {type: 'application/binary'});\n",
              "      const a = document.createElement('a');\n",
              "      a.href = window.URL.createObjectURL(blob);\n",
              "      a.download = filename;\n",
              "      div.appendChild(a);\n",
              "      a.click();\n",
              "      div.remove();\n",
              "    }\n",
              "  "
            ]
          },
          "metadata": {}
        },
        {
          "output_type": "display_data",
          "data": {
            "text/plain": [
              "<IPython.core.display.Javascript object>"
            ],
            "application/javascript": [
              "download(\"download_cf645109-3981-4783-99b4-bf827396d8f8\", \"res_ocr_demo_1.jpg\", 42676)"
            ]
          },
          "metadata": {}
        }
      ]
    },
    {
      "cell_type": "code",
      "source": [
        "!git pull"
      ],
      "metadata": {
        "colab": {
          "base_uri": "https://localhost:8080/"
        },
        "id": "oVimvJ3ZebCo",
        "outputId": "76564409-e514-4b54-ba73-aea976d67b98"
      },
      "execution_count": null,
      "outputs": [
        {
          "output_type": "stream",
          "name": "stdout",
          "text": [
            "remote: Enumerating objects: 58, done.\u001b[K\n",
            "remote: Counting objects:   1% (1/58)\u001b[K\rremote: Counting objects:   3% (2/58)\u001b[K\rremote: Counting objects:   5% (3/58)\u001b[K\rremote: Counting objects:   6% (4/58)\u001b[K\rremote: Counting objects:   8% (5/58)\u001b[K\rremote: Counting objects:  10% (6/58)\u001b[K\rremote: Counting objects:  12% (7/58)\u001b[K\rremote: Counting objects:  13% (8/58)\u001b[K\rremote: Counting objects:  15% (9/58)\u001b[K\rremote: Counting objects:  17% (10/58)\u001b[K\rremote: Counting objects:  18% (11/58)\u001b[K\rremote: Counting objects:  20% (12/58)\u001b[K\rremote: Counting objects:  22% (13/58)\u001b[K\rremote: Counting objects:  24% (14/58)\u001b[K\rremote: Counting objects:  25% (15/58)\u001b[K\rremote: Counting objects:  27% (16/58)\u001b[K\rremote: Counting objects:  29% (17/58)\u001b[K\rremote: Counting objects:  31% (18/58)\u001b[K\rremote: Counting objects:  32% (19/58)\u001b[K\rremote: Counting objects:  34% (20/58)\u001b[K\rremote: Counting objects:  36% (21/58)\u001b[K\rremote: Counting objects:  37% (22/58)\u001b[K\rremote: Counting objects:  39% (23/58)\u001b[K\rremote: Counting objects:  41% (24/58)\u001b[K\rremote: Counting objects:  43% (25/58)\u001b[K\rremote: Counting objects:  44% (26/58)\u001b[K\rremote: Counting objects:  46% (27/58)\u001b[K\rremote: Counting objects:  48% (28/58)\u001b[K\rremote: Counting objects:  50% (29/58)\u001b[K\rremote: Counting objects:  51% (30/58)\u001b[K\rremote: Counting objects:  53% (31/58)\u001b[K\rremote: Counting objects:  55% (32/58)\u001b[K\rremote: Counting objects:  56% (33/58)\u001b[K\rremote: Counting objects:  58% (34/58)\u001b[K\rremote: Counting objects:  60% (35/58)\u001b[K\rremote: Counting objects:  62% (36/58)\u001b[K\rremote: Counting objects:  63% (37/58)\u001b[K\rremote: Counting objects:  65% (38/58)\u001b[K\rremote: Counting objects:  67% (39/58)\u001b[K\rremote: Counting objects:  68% (40/58)\u001b[K\rremote: Counting objects:  70% (41/58)\u001b[K\rremote: Counting objects:  72% (42/58)\u001b[K\rremote: Counting objects:  74% (43/58)\u001b[K\rremote: Counting objects:  75% (44/58)\u001b[K\rremote: Counting objects:  77% (45/58)\u001b[K\rremote: Counting objects:  79% (46/58)\u001b[K\rremote: Counting objects:  81% (47/58)\u001b[K\rremote: Counting objects:  82% (48/58)\u001b[K\rremote: Counting objects:  84% (49/58)\u001b[K\rremote: Counting objects:  86% (50/58)\u001b[K\rremote: Counting objects:  87% (51/58)\u001b[K\rremote: Counting objects:  89% (52/58)\u001b[K\rremote: Counting objects:  91% (53/58)\u001b[K\rremote: Counting objects:  93% (54/58)\u001b[K\rremote: Counting objects:  94% (55/58)\u001b[K\rremote: Counting objects:  96% (56/58)\u001b[K\rremote: Counting objects:  98% (57/58)\u001b[K\rremote: Counting objects: 100% (58/58)\u001b[K\rremote: Counting objects: 100% (58/58), done.\u001b[K\n",
            "remote: Compressing objects: 100% (34/34), done.\u001b[K\n",
            "remote: Total 51 (delta 29), reused 38 (delta 17), pack-reused 0 (from 0)\u001b[K\n",
            "Unpacking objects: 100% (51/51), 40.98 KiB | 182.00 KiB/s, done.\n",
            "From https://github.com/mirzasyhm/jawiOCR\n",
            "   e659685..2486038  main       -> origin/main\n",
            "Updating e659685..2486038\n",
            "Fast-forward\n",
            " craft/utils/util.py                     |   2 \u001b[32m+\u001b[m\u001b[31m-\u001b[m\n",
            " crnn/README.md                          |  16 \u001b[32m+\u001b[m\n",
            " crnn/build_alphabet.py                  |  96 \u001b[32m+++++\u001b[m\n",
            " crnn/dataset.py                         | 147 \u001b[32m+++++++\u001b[m\n",
            " crnn/download_dataset.py                |  49 \u001b[32m+++\u001b[m\n",
            " crnn/evaluation.py                      | 165 \u001b[32m++++++++\u001b[m\n",
            " crnn/model.py                           |  72 \u001b[32m++++\u001b[m\n",
            " crnn/requirements.txt                   |   9 \u001b[32m+\u001b[m\n",
            " crnn/train.py                           | 185 \u001b[32m+++++++++\u001b[m\n",
            " crnn/utils.py                           |  20 \u001b[32m+\u001b[m\n",
            " parseq_jawi/tools/test_abinet_lm_acc.py |   2 \u001b[32m+\u001b[m\u001b[31m-\u001b[m\n",
            " test_crnn.py                            | 707 \u001b[32m++++++++++++++++++++++++++++++++\u001b[m\n",
            " test.py => test_parseq.py               |  32 \u001b[32m+\u001b[m\u001b[31m-\u001b[m\n",
            " 13 files changed, 1489 insertions(+), 13 deletions(-)\n",
            " create mode 100644 crnn/README.md\n",
            " create mode 100644 crnn/build_alphabet.py\n",
            " create mode 100644 crnn/dataset.py\n",
            " create mode 100644 crnn/download_dataset.py\n",
            " create mode 100644 crnn/evaluation.py\n",
            " create mode 100644 crnn/model.py\n",
            " create mode 100644 crnn/requirements.txt\n",
            " create mode 100644 crnn/train.py\n",
            " create mode 100644 crnn/utils.py\n",
            " create mode 100644 test_crnn.py\n",
            " rename test.py => test_parseq.py (96%)\n"
          ]
        }
      ]
    },
    {
      "cell_type": "code",
      "source": [
        "!wget https://huggingface.co/datasets/mirzasyhm/synthetic_jawi_images/resolve/main/dataset_sentence_test.tar -O jawi.tar\n",
        "\n",
        "!tar -xf jawi.tar"
      ],
      "metadata": {
        "colab": {
          "base_uri": "https://localhost:8080/"
        },
        "id": "YtxAnIIJHIbC",
        "outputId": "d474eb00-180c-40bb-d6c3-ef00e2049811"
      },
      "execution_count": null,
      "outputs": [
        {
          "output_type": "stream",
          "name": "stdout",
          "text": [
            "--2025-06-01 16:18:07--  https://huggingface.co/datasets/mirzasyhm/synthetic_jawi_images/resolve/main/dataset_sentence_test.tar\n",
            "Resolving huggingface.co (huggingface.co)... 13.35.202.121, 13.35.202.34, 13.35.202.97, ...\n",
            "Connecting to huggingface.co (huggingface.co)|13.35.202.121|:443... connected.\n",
            "HTTP request sent, awaiting response... 302 Found\n",
            "Location: https://cdn-lfs-us-1.hf.co/repos/f9/16/f916668cb9026f1a501d38e183f8b89b65d2f31a4159ab1330ade73ab5a5fc1e/69c625d4c9074dff5f0bed84502b27a284a2229fd0bcf28a3fd750988cd942e2?response-content-disposition=inline%3B+filename*%3DUTF-8%27%27dataset_sentence_test.tar%3B+filename%3D%22dataset_sentence_test.tar%22%3B&response-content-type=application%2Fx-tar&Expires=1748798288&Policy=eyJTdGF0ZW1lbnQiOlt7IkNvbmRpdGlvbiI6eyJEYXRlTGVzc1RoYW4iOnsiQVdTOkVwb2NoVGltZSI6MTc0ODc5ODI4OH19LCJSZXNvdXJjZSI6Imh0dHBzOi8vY2RuLWxmcy11cy0xLmhmLmNvL3JlcG9zL2Y5LzE2L2Y5MTY2NjhjYjkwMjZmMWE1MDFkMzhlMTgzZjhiODliNjVkMmYzMWE0MTU5YWIxMzMwYWRlNzNhYjVhNWZjMWUvNjljNjI1ZDRjOTA3NGRmZjVmMGJlZDg0NTAyYjI3YTI4NGEyMjI5ZmQwYmNmMjhhM2ZkNzUwOTg4Y2Q5NDJlMj9yZXNwb25zZS1jb250ZW50LWRpc3Bvc2l0aW9uPSomcmVzcG9uc2UtY29udGVudC10eXBlPSoifV19&Signature=XoCxU3dCDALOf2kG%7EidyKM%7EpeiD-UFGHnrptqSv-Cjq7p2aAY7DB%7EUNktvahOR%7ED4Zjuhzhv4Yf11XfbupgtR1Ewd-sFvsHJtzNTF%7EiW7z-7IDNJlEMbP8OHfMOklfeP3r6iDcHc5VjxFIxT%7E1Wi-Vf-9ne41Os5SKltJOE0JGZIonBgzKJOkNAEdftwS3eaptnMyg7vNjbtdatg%7EEcCtBaoc1znPRViGVW9z7UbxEl7cfSd3B1YjZsmgL8rtWHlnGfiHhEBsQwOgJl26Q5rFvuKNeGZwrWUKSHD6C2G8mQ56P-MNj0oBvLqGTuj-McogxnXdT18B401DLv-%7EKo6-g__&Key-Pair-Id=K24J24Z295AEI9 [following]\n",
            "--2025-06-01 16:18:08--  https://cdn-lfs-us-1.hf.co/repos/f9/16/f916668cb9026f1a501d38e183f8b89b65d2f31a4159ab1330ade73ab5a5fc1e/69c625d4c9074dff5f0bed84502b27a284a2229fd0bcf28a3fd750988cd942e2?response-content-disposition=inline%3B+filename*%3DUTF-8%27%27dataset_sentence_test.tar%3B+filename%3D%22dataset_sentence_test.tar%22%3B&response-content-type=application%2Fx-tar&Expires=1748798288&Policy=eyJTdGF0ZW1lbnQiOlt7IkNvbmRpdGlvbiI6eyJEYXRlTGVzc1RoYW4iOnsiQVdTOkVwb2NoVGltZSI6MTc0ODc5ODI4OH19LCJSZXNvdXJjZSI6Imh0dHBzOi8vY2RuLWxmcy11cy0xLmhmLmNvL3JlcG9zL2Y5LzE2L2Y5MTY2NjhjYjkwMjZmMWE1MDFkMzhlMTgzZjhiODliNjVkMmYzMWE0MTU5YWIxMzMwYWRlNzNhYjVhNWZjMWUvNjljNjI1ZDRjOTA3NGRmZjVmMGJlZDg0NTAyYjI3YTI4NGEyMjI5ZmQwYmNmMjhhM2ZkNzUwOTg4Y2Q5NDJlMj9yZXNwb25zZS1jb250ZW50LWRpc3Bvc2l0aW9uPSomcmVzcG9uc2UtY29udGVudC10eXBlPSoifV19&Signature=XoCxU3dCDALOf2kG%7EidyKM%7EpeiD-UFGHnrptqSv-Cjq7p2aAY7DB%7EUNktvahOR%7ED4Zjuhzhv4Yf11XfbupgtR1Ewd-sFvsHJtzNTF%7EiW7z-7IDNJlEMbP8OHfMOklfeP3r6iDcHc5VjxFIxT%7E1Wi-Vf-9ne41Os5SKltJOE0JGZIonBgzKJOkNAEdftwS3eaptnMyg7vNjbtdatg%7EEcCtBaoc1znPRViGVW9z7UbxEl7cfSd3B1YjZsmgL8rtWHlnGfiHhEBsQwOgJl26Q5rFvuKNeGZwrWUKSHD6C2G8mQ56P-MNj0oBvLqGTuj-McogxnXdT18B401DLv-%7EKo6-g__&Key-Pair-Id=K24J24Z295AEI9\n",
            "Resolving cdn-lfs-us-1.hf.co (cdn-lfs-us-1.hf.co)... 18.155.68.50, 18.155.68.103, 18.155.68.65, ...\n",
            "Connecting to cdn-lfs-us-1.hf.co (cdn-lfs-us-1.hf.co)|18.155.68.50|:443... connected.\n",
            "HTTP request sent, awaiting response... 200 OK\n",
            "Length: 777717760 (742M) [application/x-tar]\n",
            "Saving to: ‘jawi.tar’\n",
            "\n",
            "jawi.tar            100%[===================>] 741.69M   261MB/s    in 2.8s    \n",
            "\n",
            "2025-06-01 16:18:11 (261 MB/s) - ‘jawi.tar’ saved [777717760/777717760]\n",
            "\n"
          ]
        }
      ]
    },
    {
      "cell_type": "code",
      "source": [
        "# 1. Mount your Google Drive\n",
        "from google.colab import drive\n",
        "drive.mount('/content/drive')"
      ],
      "metadata": {
        "colab": {
          "base_uri": "https://localhost:8080/"
        },
        "id": "T3gH9RghtjpZ",
        "outputId": "9ea416e9-4ed3-4464-f8f7-38a0566d892e"
      },
      "execution_count": null,
      "outputs": [
        {
          "output_type": "stream",
          "name": "stdout",
          "text": [
            "Mounted at /content/drive\n"
          ]
        }
      ]
    },
    {
      "cell_type": "code",
      "source": [
        "!python test_parseq.py \\\n",
        "    --dataset_dir ./dataset_sentence_test/ \\\n",
        "    --craft_model_path ./craft/exp/CRAFT_clr_amp_12000.pth \\\n",
        "    --parseq_model_path ./parseq_jawi/outputs/parseq/2025-05-12_10-45-42/checkpoints/last.ckpt \\\n",
        "    --results_output_dir  ./test_results/ \\\n",
        "    --limit_test_to_n_images 0 \\\n",
        "    --custom_orientation_model_path best_jawi_orientation_resnet50.keras \\\n",
        "    --orientation_class_names \"0_degrees,180_degrees,270_degrees,90_degrees\" \\\n",
        "    --orientation_confidence_threshold 50.0 \\\n",
        "    --rerun_180_threshold 90.0\n"
      ],
      "metadata": {
        "colab": {
          "base_uri": "https://localhost:8080/"
        },
        "id": "k612Rz4qH-0E",
        "outputId": "85f62102-e530-486e-cc9d-6bc98dc7d5fc"
      },
      "execution_count": null,
      "outputs": [
        {
          "output_type": "stream",
          "name": "stdout",
          "text": [
            "2025-06-01 18:17:48.923760: E external/local_xla/xla/stream_executor/cuda/cuda_fft.cc:485] Unable to register cuFFT factory: Attempting to register factory for plugin cuFFT when one has already been registered\n",
            "2025-06-01 18:17:48.945213: E external/local_xla/xla/stream_executor/cuda/cuda_dnn.cc:8454] Unable to register cuDNN factory: Attempting to register factory for plugin cuDNN when one has already been registered\n",
            "2025-06-01 18:17:48.951689: E external/local_xla/xla/stream_executor/cuda/cuda_blas.cc:1452] Unable to register cuBLAS factory: Attempting to register factory for plugin cuBLAS when one has already been registered\n",
            "2025-06-01 18:17:50.150325: W tensorflow/compiler/tf2tensorrt/utils/py_utils.cc:38] TF-TRT Warning: Could not find TensorRT\n",
            "TensorFlow version: 2.17.0\n",
            "TensorFlow Found GPUs: [PhysicalDevice(name='/physical_device:GPU:0', device_type='GPU')]\n",
            "Initializing JawiOCR Engine...\n",
            "JawiOCREngine: Using PyTorch device: cuda\n",
            "Loading CRAFT weights from: ./craft/exp/CRAFT_clr_amp_12000.pth\n",
            "CRAFT model loaded successfully.\n",
            "Loading Parseq model from: ./parseq_jawi/outputs/parseq/2025-05-12_10-45-42/checkpoints/last.ckpt\n",
            "/usr/local/lib/python3.11/dist-packages/timm/models/helpers.py:7: FutureWarning: Importing from timm.models.helpers is deprecated, please import via timm.models\n",
            "  warnings.warn(f\"Importing from {__name__} is deprecated, please import via timm.models\", FutureWarning)\n",
            "Parseq model loaded successfully.\n",
            "Loading Keras orientation model from best_jawi_orientation_resnet50.keras...\n",
            "2025-06-01 18:17:58.169542: W tensorflow/core/common_runtime/gpu/gpu_bfc_allocator.cc:47] Overriding orig_value setting because the TF_FORCE_GPU_ALLOW_GROWTH environment variable is set. Original config value was 0.\n",
            "/usr/local/lib/python3.11/dist-packages/keras/src/saving/saving_lib.py:802: UserWarning: Skipping variable loading for optimizer 'adam', because it has 38 variables whereas the saved optimizer has 42 variables. \n",
            "  saveable.load_own_variables(weights_store.get(inner_path))\n",
            "Keras orientation model loaded successfully.\n",
            "JawiOCR Engine initialized.\n",
            "\n",
            "Processing 12000 images from ./dataset_sentence_test/...\n",
            "Evaluating Images:   0% 0/12000 [00:00<?, ?it/s]WARNING: All log messages before absl::InitializeLog() is called are written to STDERR\n",
            "I0000 00:00:1748801882.599052  381555 service.cc:146] XLA service 0x7c1bd8003110 initialized for platform CUDA (this does not guarantee that XLA will be used). Devices:\n",
            "I0000 00:00:1748801882.599086  381555 service.cc:154]   StreamExecutor device (0): NVIDIA L4, Compute Capability 8.9\n",
            "I0000 00:00:1748801885.477455  381555 device_compiler.h:188] Compiled cluster using XLA!  This line is logged at most once for the lifetime of the process.\n",
            "Evaluating Images: 100% 12000/12000 [1:38:05<00:00,  2.04it/s]\n",
            "\n",
            "--- Evaluation Results ---\n",
            "Sentence Recognition Accuracy: 0.00% (0/12000)\n",
            "Word Error Rate (WER): 86.16%\n",
            "Character Error Rate (CER): 37.56%\n",
            "Word Recognition Accuracy (100 - WER): 13.84%\n",
            "\n",
            "--- First 10 Predictions vs Ground Truths ---\n",
            "Image 1 (img_1.jpg):\n",
            "  GT  : 'ڤمبنترس کونتول بليݢو ڤݢاري ڤرلاونن ترتيب لوتيک۔'\n",
            "  Pred: 'ڤمبستر٢ڽ ݢونتول بليݢو ڤݢاري ڤرلاونن ڤوتيمب لوتيݢ'\n",
            "--------------------\n",
            "Image 2 (img_2.jpg):\n",
            "  GT  : 'ڤمبنترس کونتول بليݢو ڤݢاري ڤرلاونن ترتيب لوتيک۔'\n",
            "  Pred: 'ڤمبنتر‌س ݢونتول بلڽݢمو ڤݢاري ڤرلاونن ڤوڤوسيسا لوتيک'\n",
            "--------------------\n",
            "Image 3 (img_3.jpg):\n",
            "  GT  : 'ڤمبنترس کونتول بليݢو ڤݢاري ڤرلاونن ترتيب لوتيک۔'\n",
            "  Pred: 'ڤمبنتر‌س ݢونتول بلڽݢو ڤݢاري ڤرلاونن ترتيمب لوتيݢ'\n",
            "--------------------\n",
            "Image 4 (img_4.jpg):\n",
            "  GT  : 'ڤمبنترس کونتول بليݢو ڤݢاري ڤرلاونن ترتيب لوتيک۔'\n",
            "  Pred: 'ڤمبسرس ݢونتول بليݢو ڤݢاري ڤرلاونن ڤوليمب لوتيک'\n",
            "--------------------\n",
            "Image 5 (img_5.jpg):\n",
            "  GT  : 'ڤمبنترس کونتول بليݢو ڤݢاري ڤرلاونن ترتيب لوتيک۔'\n",
            "  Pred: 'ڤمبسترس ݢونتول بليݢو ڤݢاري ڤرلاونن مرتمب لوتيک'\n",
            "--------------------\n",
            "Image 6 (img_6.jpg):\n",
            "  GT  : 'ڤمبنترس کونتول بليݢو ڤݢاري ڤرلاونن ترتيب لوتيک۔'\n",
            "  Pred: 'ڤمبسر‌س کونتول بليݢو ڤݢاري ڤرلاونن لموݢوسڽا لوݢياݢ'\n",
            "--------------------\n",
            "Image 7 (img_7.jpg):\n",
            "  GT  : 'ڤمبنترس کونتول بليݢو ڤݢاري ڤرلاونن ترتيب لوتيک۔'\n",
            "  Pred: 'ݢمبنتر‌س کونتول ڽلڽݢݢ ڤݢاري ڤرلاونن ڤرڽمب ڤولڽڤ'\n",
            "--------------------\n",
            "Image 8 (img_8.jpg):\n",
            "  GT  : 'ڤمبنترس کونتول بليݢو ڤݢاري ڤرلاونن ترتيب لوتيک۔'\n",
            "  Pred: 'ݢمسترن‌س ݢونسول بليݢݢو ڤݢاري ڤرلاونن ڤرڽممب لتوليک'\n",
            "--------------------\n",
            "Image 9 (img_9.jpg):\n",
            "  GT  : 'ڤمبنترس کونتول بليݢو ڤݢاري ڤرلاونن ترتيب لوتيک۔'\n",
            "  Pred: 'ڤڠݢسل الللن ݢوݢسول ڽلڽݢݢوڠ ڤݢارݢ ڤرلاوونل ڤرلچل لوݢيݢ'\n",
            "--------------------\n",
            "Image 10 (img_10.jpg):\n",
            "  GT  : 'ڤمبنترس کونتول بليݢو ڤݢاري ڤرلاونن ترتيب لوتيک۔'\n",
            "  Pred: 'ڤمبلترنن ݢونتول بليݢڠ ڤݢاري ڤرلارونن ڤرلڽل لوليݢ'\n",
            "--------------------\n",
            "\n",
            "Detailed results saved to: ./test_results/e2e_test_results.csv\n",
            "Summary saved to: ./test_results/e2e_test_summary.txt\n"
          ]
        }
      ]
    },
    {
      "cell_type": "code",
      "source": [
        "from google.colab import drive\n",
        "local_path = './test_results/e2e_test_summary.txt'               # path to the file in Colab VM\n",
        "drive_path = '/content/drive/MyDrive/'  # target path in your Drive\n",
        "\n",
        "# 3. Copy the file into Drive\n",
        "import shutil\n",
        "shutil.copy(local_path, drive_path)\n",
        "\n",
        "print(f\"Saved {local_path} to {drive_path}\")"
      ],
      "metadata": {
        "colab": {
          "base_uri": "https://localhost:8080/"
        },
        "id": "OYRc6n7ltDSA",
        "outputId": "d91a2cc0-5a15-4871-b595-e2fc81c74839"
      },
      "execution_count": null,
      "outputs": [
        {
          "output_type": "stream",
          "name": "stdout",
          "text": [
            "Saved ./test_results/e2e_test_summary.txt to /content/drive/MyDrive/\n"
          ]
        }
      ]
    },
    {
      "cell_type": "code",
      "source": [
        "from google.colab import files\n",
        "files.download('./test_results/e2e_test_summary.txt')"
      ],
      "metadata": {
        "colab": {
          "base_uri": "https://localhost:8080/",
          "height": 17
        },
        "id": "gPW2zIJ2tNVy",
        "outputId": "93cb780c-e86f-49ff-8ef6-65aecfc31bf2"
      },
      "execution_count": null,
      "outputs": [
        {
          "output_type": "display_data",
          "data": {
            "text/plain": [
              "<IPython.core.display.Javascript object>"
            ],
            "application/javascript": [
              "\n",
              "    async function download(id, filename, size) {\n",
              "      if (!google.colab.kernel.accessAllowed) {\n",
              "        return;\n",
              "      }\n",
              "      const div = document.createElement('div');\n",
              "      const label = document.createElement('label');\n",
              "      label.textContent = `Downloading \"${filename}\": `;\n",
              "      div.appendChild(label);\n",
              "      const progress = document.createElement('progress');\n",
              "      progress.max = size;\n",
              "      div.appendChild(progress);\n",
              "      document.body.appendChild(div);\n",
              "\n",
              "      const buffers = [];\n",
              "      let downloaded = 0;\n",
              "\n",
              "      const channel = await google.colab.kernel.comms.open(id);\n",
              "      // Send a message to notify the kernel that we're ready.\n",
              "      channel.send({})\n",
              "\n",
              "      for await (const message of channel.messages) {\n",
              "        // Send a message to notify the kernel that we're ready.\n",
              "        channel.send({})\n",
              "        if (message.buffers) {\n",
              "          for (const buffer of message.buffers) {\n",
              "            buffers.push(buffer);\n",
              "            downloaded += buffer.byteLength;\n",
              "            progress.value = downloaded;\n",
              "          }\n",
              "        }\n",
              "      }\n",
              "      const blob = new Blob(buffers, {type: 'application/binary'});\n",
              "      const a = document.createElement('a');\n",
              "      a.href = window.URL.createObjectURL(blob);\n",
              "      a.download = filename;\n",
              "      div.appendChild(a);\n",
              "      a.click();\n",
              "      div.remove();\n",
              "    }\n",
              "  "
            ]
          },
          "metadata": {}
        },
        {
          "output_type": "display_data",
          "data": {
            "text/plain": [
              "<IPython.core.display.Javascript object>"
            ],
            "application/javascript": [
              "download(\"download_e258f6b0-c5dc-4264-b346-ed1169969ab2\", \"e2e_test_summary.txt\", 265)"
            ]
          },
          "metadata": {}
        }
      ]
    }
  ]
}