{
  "nbformat": 4,
  "nbformat_minor": 0,
  "metadata": {
    "colab": {
      "provenance": [],
      "machine_shape": "hm",
      "gpuType": "L4"
    },
    "kernelspec": {
      "name": "python3",
      "display_name": "Python 3"
    },
    "language_info": {
      "name": "python"
    },
    "accelerator": "GPU"
  },
  "cells": [
    {
      "cell_type": "code",
      "execution_count": null,
      "metadata": {
        "colab": {
          "base_uri": "https://localhost:8080/"
        },
        "id": "TyZrMMm3s7r9",
        "outputId": "11c034a0-a443-42ef-e9e1-dbfa2b5cd636"
      },
      "outputs": [
        {
          "output_type": "stream",
          "name": "stdout",
          "text": [
            "/content\n",
            "rm: cannot remove 'jawiOCR': No such file or directory\n",
            "Cloning into 'jawiOCR'...\n",
            "remote: Enumerating objects: 619, done.\u001b[K\n",
            "remote: Counting objects: 100% (241/241), done.\u001b[K\n",
            "remote: Compressing objects: 100% (181/181), done.\u001b[K\n",
            "remote: Total 619 (delta 135), reused 158 (delta 58), pack-reused 378 (from 1)\u001b[K\n",
            "Receiving objects: 100% (619/619), 102.65 MiB | 16.98 MiB/s, done.\n",
            "Resolving deltas: 100% (256/256), done.\n",
            "/content/jawiOCR\n"
          ]
        }
      ],
      "source": [
        "%cd /content\n",
        "!rm -r jawiOCR\n",
        "!git clone https://github.com/mirzasyhm/jawiOCR.git\n",
        "%cd /content/jawiOCR/"
      ]
    },
    {
      "cell_type": "code",
      "source": [
        "!pip install pip-tools\n",
        "!pip install -r ./craft/requirements.txt\n",
        "!pip install -r ./crnn/requirements.txt\n",
        "!pip install -r ./jord/requirements.txt"
      ],
      "metadata": {
        "colab": {
          "base_uri": "https://localhost:8080/"
        },
        "id": "2D3JzqS8ufK5",
        "outputId": "7f40725f-08ed-4646-e891-1ec718586cbf"
      },
      "execution_count": null,
      "outputs": [
        {
          "output_type": "stream",
          "name": "stdout",
          "text": [
            "Requirement already satisfied: pip-tools in /usr/local/lib/python3.11/dist-packages (7.4.1)\n",
            "Requirement already satisfied: build>=1.0.0 in /usr/local/lib/python3.11/dist-packages (from pip-tools) (1.2.2.post1)\n",
            "Requirement already satisfied: click>=8 in /usr/local/lib/python3.11/dist-packages (from pip-tools) (8.2.1)\n",
            "Requirement already satisfied: pip>=22.2 in /usr/local/lib/python3.11/dist-packages (from pip-tools) (24.1.2)\n",
            "Requirement already satisfied: pyproject-hooks in /usr/local/lib/python3.11/dist-packages (from pip-tools) (1.2.0)\n",
            "Requirement already satisfied: setuptools in /usr/local/lib/python3.11/dist-packages (from pip-tools) (75.2.0)\n",
            "Requirement already satisfied: wheel in /usr/local/lib/python3.11/dist-packages (from pip-tools) (0.45.1)\n",
            "Requirement already satisfied: packaging>=19.1 in /usr/local/lib/python3.11/dist-packages (from build>=1.0.0->pip-tools) (23.2)\n",
            "Requirement already satisfied: opencv-python==4.9.0.80 in /usr/local/lib/python3.11/dist-packages (from -r ./craft/requirements.txt (line 1)) (4.9.0.80)\n",
            "Requirement already satisfied: pillow==11.2.1 in /usr/local/lib/python3.11/dist-packages (from -r ./craft/requirements.txt (line 2)) (11.2.1)\n",
            "Requirement already satisfied: PyYAML==6.0.2 in /usr/local/lib/python3.11/dist-packages (from -r ./craft/requirements.txt (line 3)) (6.0.2)\n",
            "Requirement already satisfied: scikit-image==0.22.0 in /usr/local/lib/python3.11/dist-packages (from -r ./craft/requirements.txt (line 4)) (0.22.0)\n",
            "Requirement already satisfied: Shapely==2.1.1 in /usr/local/lib/python3.11/dist-packages (from -r ./craft/requirements.txt (line 5)) (2.1.1)\n",
            "Requirement already satisfied: torch==2.5.1 in /usr/local/lib/python3.11/dist-packages (from -r ./craft/requirements.txt (line 6)) (2.5.1)\n",
            "Requirement already satisfied: torchvision==0.20.1 in /usr/local/lib/python3.11/dist-packages (from -r ./craft/requirements.txt (line 7)) (0.20.1)\n",
            "Requirement already satisfied: wandb==0.19.11 in /usr/local/lib/python3.11/dist-packages (from -r ./craft/requirements.txt (line 8)) (0.19.11)\n",
            "Requirement already satisfied: packaging==23.2 in /usr/local/lib/python3.11/dist-packages (from -r ./craft/requirements.txt (line 9)) (23.2)\n",
            "Requirement already satisfied: numpy>=1.21.2 in /usr/local/lib/python3.11/dist-packages (from opencv-python==4.9.0.80->-r ./craft/requirements.txt (line 1)) (1.26.4)\n",
            "Requirement already satisfied: scipy>=1.8 in /usr/local/lib/python3.11/dist-packages (from scikit-image==0.22.0->-r ./craft/requirements.txt (line 4)) (1.15.3)\n",
            "Requirement already satisfied: networkx>=2.8 in /usr/local/lib/python3.11/dist-packages (from scikit-image==0.22.0->-r ./craft/requirements.txt (line 4)) (3.4.2)\n",
            "Requirement already satisfied: imageio>=2.27 in /usr/local/lib/python3.11/dist-packages (from scikit-image==0.22.0->-r ./craft/requirements.txt (line 4)) (2.37.0)\n",
            "Requirement already satisfied: tifffile>=2022.8.12 in /usr/local/lib/python3.11/dist-packages (from scikit-image==0.22.0->-r ./craft/requirements.txt (line 4)) (2025.5.21)\n",
            "Requirement already satisfied: lazy_loader>=0.3 in /usr/local/lib/python3.11/dist-packages (from scikit-image==0.22.0->-r ./craft/requirements.txt (line 4)) (0.4)\n",
            "Requirement already satisfied: filelock in /usr/local/lib/python3.11/dist-packages (from torch==2.5.1->-r ./craft/requirements.txt (line 6)) (3.18.0)\n",
            "Requirement already satisfied: typing-extensions>=4.8.0 in /usr/local/lib/python3.11/dist-packages (from torch==2.5.1->-r ./craft/requirements.txt (line 6)) (4.13.2)\n",
            "Requirement already satisfied: jinja2 in /usr/local/lib/python3.11/dist-packages (from torch==2.5.1->-r ./craft/requirements.txt (line 6)) (3.1.6)\n",
            "Requirement already satisfied: fsspec in /usr/local/lib/python3.11/dist-packages (from torch==2.5.1->-r ./craft/requirements.txt (line 6)) (2025.3.2)\n",
            "Requirement already satisfied: nvidia-cuda-nvrtc-cu12==12.4.127 in /usr/local/lib/python3.11/dist-packages (from torch==2.5.1->-r ./craft/requirements.txt (line 6)) (12.4.127)\n",
            "Requirement already satisfied: nvidia-cuda-runtime-cu12==12.4.127 in /usr/local/lib/python3.11/dist-packages (from torch==2.5.1->-r ./craft/requirements.txt (line 6)) (12.4.127)\n",
            "Requirement already satisfied: nvidia-cuda-cupti-cu12==12.4.127 in /usr/local/lib/python3.11/dist-packages (from torch==2.5.1->-r ./craft/requirements.txt (line 6)) (12.4.127)\n",
            "Requirement already satisfied: nvidia-cudnn-cu12==9.1.0.70 in /usr/local/lib/python3.11/dist-packages (from torch==2.5.1->-r ./craft/requirements.txt (line 6)) (9.1.0.70)\n",
            "Requirement already satisfied: nvidia-cublas-cu12==12.4.5.8 in /usr/local/lib/python3.11/dist-packages (from torch==2.5.1->-r ./craft/requirements.txt (line 6)) (12.4.5.8)\n",
            "Requirement already satisfied: nvidia-cufft-cu12==11.2.1.3 in /usr/local/lib/python3.11/dist-packages (from torch==2.5.1->-r ./craft/requirements.txt (line 6)) (11.2.1.3)\n",
            "Requirement already satisfied: nvidia-curand-cu12==10.3.5.147 in /usr/local/lib/python3.11/dist-packages (from torch==2.5.1->-r ./craft/requirements.txt (line 6)) (10.3.5.147)\n",
            "Requirement already satisfied: nvidia-cusolver-cu12==11.6.1.9 in /usr/local/lib/python3.11/dist-packages (from torch==2.5.1->-r ./craft/requirements.txt (line 6)) (11.6.1.9)\n",
            "Requirement already satisfied: nvidia-cusparse-cu12==12.3.1.170 in /usr/local/lib/python3.11/dist-packages (from torch==2.5.1->-r ./craft/requirements.txt (line 6)) (12.3.1.170)\n",
            "Requirement already satisfied: nvidia-nccl-cu12==2.21.5 in /usr/local/lib/python3.11/dist-packages (from torch==2.5.1->-r ./craft/requirements.txt (line 6)) (2.21.5)\n",
            "Requirement already satisfied: nvidia-nvtx-cu12==12.4.127 in /usr/local/lib/python3.11/dist-packages (from torch==2.5.1->-r ./craft/requirements.txt (line 6)) (12.4.127)\n",
            "Requirement already satisfied: nvidia-nvjitlink-cu12==12.4.127 in /usr/local/lib/python3.11/dist-packages (from torch==2.5.1->-r ./craft/requirements.txt (line 6)) (12.4.127)\n",
            "Requirement already satisfied: triton==3.1.0 in /usr/local/lib/python3.11/dist-packages (from torch==2.5.1->-r ./craft/requirements.txt (line 6)) (3.1.0)\n",
            "Requirement already satisfied: sympy==1.13.1 in /usr/local/lib/python3.11/dist-packages (from torch==2.5.1->-r ./craft/requirements.txt (line 6)) (1.13.1)\n",
            "Requirement already satisfied: click!=8.0.0,>=7.1 in /usr/local/lib/python3.11/dist-packages (from wandb==0.19.11->-r ./craft/requirements.txt (line 8)) (8.2.1)\n",
            "Requirement already satisfied: docker-pycreds>=0.4.0 in /usr/local/lib/python3.11/dist-packages (from wandb==0.19.11->-r ./craft/requirements.txt (line 8)) (0.4.0)\n",
            "Requirement already satisfied: gitpython!=3.1.29,>=1.0.0 in /usr/local/lib/python3.11/dist-packages (from wandb==0.19.11->-r ./craft/requirements.txt (line 8)) (3.1.44)\n",
            "Requirement already satisfied: platformdirs in /usr/local/lib/python3.11/dist-packages (from wandb==0.19.11->-r ./craft/requirements.txt (line 8)) (4.3.8)\n",
            "Requirement already satisfied: protobuf!=4.21.0,!=5.28.0,<7,>=3.19.0 in /usr/local/lib/python3.11/dist-packages (from wandb==0.19.11->-r ./craft/requirements.txt (line 8)) (4.25.8)\n",
            "Requirement already satisfied: psutil>=5.0.0 in /usr/local/lib/python3.11/dist-packages (from wandb==0.19.11->-r ./craft/requirements.txt (line 8)) (5.9.5)\n",
            "Requirement already satisfied: pydantic<3 in /usr/local/lib/python3.11/dist-packages (from wandb==0.19.11->-r ./craft/requirements.txt (line 8)) (2.11.4)\n",
            "Requirement already satisfied: requests<3,>=2.0.0 in /usr/local/lib/python3.11/dist-packages (from wandb==0.19.11->-r ./craft/requirements.txt (line 8)) (2.32.3)\n",
            "Requirement already satisfied: sentry-sdk>=2.0.0 in /usr/local/lib/python3.11/dist-packages (from wandb==0.19.11->-r ./craft/requirements.txt (line 8)) (2.29.1)\n",
            "Requirement already satisfied: setproctitle in /usr/local/lib/python3.11/dist-packages (from wandb==0.19.11->-r ./craft/requirements.txt (line 8)) (1.3.6)\n",
            "Requirement already satisfied: setuptools in /usr/local/lib/python3.11/dist-packages (from wandb==0.19.11->-r ./craft/requirements.txt (line 8)) (75.2.0)\n",
            "Requirement already satisfied: mpmath<1.4,>=1.1.0 in /usr/local/lib/python3.11/dist-packages (from sympy==1.13.1->torch==2.5.1->-r ./craft/requirements.txt (line 6)) (1.3.0)\n",
            "Requirement already satisfied: six>=1.4.0 in /usr/local/lib/python3.11/dist-packages (from docker-pycreds>=0.4.0->wandb==0.19.11->-r ./craft/requirements.txt (line 8)) (1.17.0)\n",
            "Requirement already satisfied: gitdb<5,>=4.0.1 in /usr/local/lib/python3.11/dist-packages (from gitpython!=3.1.29,>=1.0.0->wandb==0.19.11->-r ./craft/requirements.txt (line 8)) (4.0.12)\n",
            "Requirement already satisfied: annotated-types>=0.6.0 in /usr/local/lib/python3.11/dist-packages (from pydantic<3->wandb==0.19.11->-r ./craft/requirements.txt (line 8)) (0.7.0)\n",
            "Requirement already satisfied: pydantic-core==2.33.2 in /usr/local/lib/python3.11/dist-packages (from pydantic<3->wandb==0.19.11->-r ./craft/requirements.txt (line 8)) (2.33.2)\n",
            "Requirement already satisfied: typing-inspection>=0.4.0 in /usr/local/lib/python3.11/dist-packages (from pydantic<3->wandb==0.19.11->-r ./craft/requirements.txt (line 8)) (0.4.1)\n",
            "Requirement already satisfied: charset-normalizer<4,>=2 in /usr/local/lib/python3.11/dist-packages (from requests<3,>=2.0.0->wandb==0.19.11->-r ./craft/requirements.txt (line 8)) (3.4.2)\n",
            "Requirement already satisfied: idna<4,>=2.5 in /usr/local/lib/python3.11/dist-packages (from requests<3,>=2.0.0->wandb==0.19.11->-r ./craft/requirements.txt (line 8)) (3.10)\n",
            "Requirement already satisfied: urllib3<3,>=1.21.1 in /usr/local/lib/python3.11/dist-packages (from requests<3,>=2.0.0->wandb==0.19.11->-r ./craft/requirements.txt (line 8)) (2.4.0)\n",
            "Requirement already satisfied: certifi>=2017.4.17 in /usr/local/lib/python3.11/dist-packages (from requests<3,>=2.0.0->wandb==0.19.11->-r ./craft/requirements.txt (line 8)) (2025.4.26)\n",
            "Requirement already satisfied: MarkupSafe>=2.0 in /usr/local/lib/python3.11/dist-packages (from jinja2->torch==2.5.1->-r ./craft/requirements.txt (line 6)) (3.0.2)\n",
            "Requirement already satisfied: smmap<6,>=3.0.1 in /usr/local/lib/python3.11/dist-packages (from gitdb<5,>=4.0.1->gitpython!=3.1.29,>=1.0.0->wandb==0.19.11->-r ./craft/requirements.txt (line 8)) (5.0.2)\n",
            "Requirement already satisfied: torch==2.5.1 in /usr/local/lib/python3.11/dist-packages (from -r ./crnn/requirements.txt (line 1)) (2.5.1)\n",
            "Requirement already satisfied: torchvision==0.20.1 in /usr/local/lib/python3.11/dist-packages (from -r ./crnn/requirements.txt (line 2)) (0.20.1)\n",
            "Requirement already satisfied: pillow==11.2.1 in /usr/local/lib/python3.11/dist-packages (from -r ./crnn/requirements.txt (line 3)) (11.2.1)\n",
            "Requirement already satisfied: tqdm in /usr/local/lib/python3.11/dist-packages (from -r ./crnn/requirements.txt (line 4)) (4.67.1)\n",
            "Requirement already satisfied: lmdb in /usr/local/lib/python3.11/dist-packages (from -r ./crnn/requirements.txt (line 5)) (1.6.2)\n",
            "Requirement already satisfied: opencv-python-headless in /usr/local/lib/python3.11/dist-packages (from -r ./crnn/requirements.txt (line 6)) (4.11.0.86)\n",
            "Requirement already satisfied: huggingface-hub in /usr/local/lib/python3.11/dist-packages (from -r ./crnn/requirements.txt (line 7)) (0.31.4)\n",
            "Requirement already satisfied: editdistance in /usr/local/lib/python3.11/dist-packages (from -r ./crnn/requirements.txt (line 8)) (0.8.1)\n",
            "Requirement already satisfied: numpy==1.26.4 in /usr/local/lib/python3.11/dist-packages (from -r ./crnn/requirements.txt (line 9)) (1.26.4)\n",
            "Requirement already satisfied: filelock in /usr/local/lib/python3.11/dist-packages (from torch==2.5.1->-r ./crnn/requirements.txt (line 1)) (3.18.0)\n",
            "Requirement already satisfied: typing-extensions>=4.8.0 in /usr/local/lib/python3.11/dist-packages (from torch==2.5.1->-r ./crnn/requirements.txt (line 1)) (4.13.2)\n",
            "Requirement already satisfied: networkx in /usr/local/lib/python3.11/dist-packages (from torch==2.5.1->-r ./crnn/requirements.txt (line 1)) (3.4.2)\n",
            "Requirement already satisfied: jinja2 in /usr/local/lib/python3.11/dist-packages (from torch==2.5.1->-r ./crnn/requirements.txt (line 1)) (3.1.6)\n",
            "Requirement already satisfied: fsspec in /usr/local/lib/python3.11/dist-packages (from torch==2.5.1->-r ./crnn/requirements.txt (line 1)) (2025.3.2)\n",
            "Requirement already satisfied: nvidia-cuda-nvrtc-cu12==12.4.127 in /usr/local/lib/python3.11/dist-packages (from torch==2.5.1->-r ./crnn/requirements.txt (line 1)) (12.4.127)\n",
            "Requirement already satisfied: nvidia-cuda-runtime-cu12==12.4.127 in /usr/local/lib/python3.11/dist-packages (from torch==2.5.1->-r ./crnn/requirements.txt (line 1)) (12.4.127)\n",
            "Requirement already satisfied: nvidia-cuda-cupti-cu12==12.4.127 in /usr/local/lib/python3.11/dist-packages (from torch==2.5.1->-r ./crnn/requirements.txt (line 1)) (12.4.127)\n",
            "Requirement already satisfied: nvidia-cudnn-cu12==9.1.0.70 in /usr/local/lib/python3.11/dist-packages (from torch==2.5.1->-r ./crnn/requirements.txt (line 1)) (9.1.0.70)\n",
            "Requirement already satisfied: nvidia-cublas-cu12==12.4.5.8 in /usr/local/lib/python3.11/dist-packages (from torch==2.5.1->-r ./crnn/requirements.txt (line 1)) (12.4.5.8)\n",
            "Requirement already satisfied: nvidia-cufft-cu12==11.2.1.3 in /usr/local/lib/python3.11/dist-packages (from torch==2.5.1->-r ./crnn/requirements.txt (line 1)) (11.2.1.3)\n",
            "Requirement already satisfied: nvidia-curand-cu12==10.3.5.147 in /usr/local/lib/python3.11/dist-packages (from torch==2.5.1->-r ./crnn/requirements.txt (line 1)) (10.3.5.147)\n",
            "Requirement already satisfied: nvidia-cusolver-cu12==11.6.1.9 in /usr/local/lib/python3.11/dist-packages (from torch==2.5.1->-r ./crnn/requirements.txt (line 1)) (11.6.1.9)\n",
            "Requirement already satisfied: nvidia-cusparse-cu12==12.3.1.170 in /usr/local/lib/python3.11/dist-packages (from torch==2.5.1->-r ./crnn/requirements.txt (line 1)) (12.3.1.170)\n",
            "Requirement already satisfied: nvidia-nccl-cu12==2.21.5 in /usr/local/lib/python3.11/dist-packages (from torch==2.5.1->-r ./crnn/requirements.txt (line 1)) (2.21.5)\n",
            "Requirement already satisfied: nvidia-nvtx-cu12==12.4.127 in /usr/local/lib/python3.11/dist-packages (from torch==2.5.1->-r ./crnn/requirements.txt (line 1)) (12.4.127)\n",
            "Requirement already satisfied: nvidia-nvjitlink-cu12==12.4.127 in /usr/local/lib/python3.11/dist-packages (from torch==2.5.1->-r ./crnn/requirements.txt (line 1)) (12.4.127)\n",
            "Requirement already satisfied: triton==3.1.0 in /usr/local/lib/python3.11/dist-packages (from torch==2.5.1->-r ./crnn/requirements.txt (line 1)) (3.1.0)\n",
            "Requirement already satisfied: sympy==1.13.1 in /usr/local/lib/python3.11/dist-packages (from torch==2.5.1->-r ./crnn/requirements.txt (line 1)) (1.13.1)\n",
            "Requirement already satisfied: mpmath<1.4,>=1.1.0 in /usr/local/lib/python3.11/dist-packages (from sympy==1.13.1->torch==2.5.1->-r ./crnn/requirements.txt (line 1)) (1.3.0)\n",
            "Requirement already satisfied: packaging>=20.9 in /usr/local/lib/python3.11/dist-packages (from huggingface-hub->-r ./crnn/requirements.txt (line 7)) (23.2)\n",
            "Requirement already satisfied: pyyaml>=5.1 in /usr/local/lib/python3.11/dist-packages (from huggingface-hub->-r ./crnn/requirements.txt (line 7)) (6.0.2)\n",
            "Requirement already satisfied: requests in /usr/local/lib/python3.11/dist-packages (from huggingface-hub->-r ./crnn/requirements.txt (line 7)) (2.32.3)\n",
            "Requirement already satisfied: MarkupSafe>=2.0 in /usr/local/lib/python3.11/dist-packages (from jinja2->torch==2.5.1->-r ./crnn/requirements.txt (line 1)) (3.0.2)\n",
            "Requirement already satisfied: charset-normalizer<4,>=2 in /usr/local/lib/python3.11/dist-packages (from requests->huggingface-hub->-r ./crnn/requirements.txt (line 7)) (3.4.2)\n",
            "Requirement already satisfied: idna<4,>=2.5 in /usr/local/lib/python3.11/dist-packages (from requests->huggingface-hub->-r ./crnn/requirements.txt (line 7)) (3.10)\n",
            "Requirement already satisfied: urllib3<3,>=1.21.1 in /usr/local/lib/python3.11/dist-packages (from requests->huggingface-hub->-r ./crnn/requirements.txt (line 7)) (2.4.0)\n",
            "Requirement already satisfied: certifi>=2017.4.17 in /usr/local/lib/python3.11/dist-packages (from requests->huggingface-hub->-r ./crnn/requirements.txt (line 7)) (2025.4.26)\n",
            "Requirement already satisfied: tensorflow==2.17.0 in /usr/local/lib/python3.11/dist-packages (from tensorflow[and-cuda]==2.17.0->-r ./jord/requirements.txt (line 1)) (2.17.0)\n",
            "Requirement already satisfied: matplotlib in /usr/local/lib/python3.11/dist-packages (from -r ./jord/requirements.txt (line 2)) (3.10.0)\n",
            "Requirement already satisfied: numpy==1.26.4 in /usr/local/lib/python3.11/dist-packages (from -r ./jord/requirements.txt (line 3)) (1.26.4)\n",
            "Requirement already satisfied: pillow==11.2.1 in /usr/local/lib/python3.11/dist-packages (from -r ./jord/requirements.txt (line 4)) (11.2.1)\n",
            "Requirement already satisfied: jiwer in /usr/local/lib/python3.11/dist-packages (from -r ./jord/requirements.txt (line 5)) (3.1.0)\n",
            "Requirement already satisfied: tf-keras==2.17.0 in /usr/local/lib/python3.11/dist-packages (from -r ./jord/requirements.txt (line 6)) (2.17.0)\n",
            "Requirement already satisfied: tensorflow-text==2.17.0 in /usr/local/lib/python3.11/dist-packages (from -r ./jord/requirements.txt (line 7)) (2.17.0)\n",
            "Requirement already satisfied: absl-py>=1.0.0 in /usr/local/lib/python3.11/dist-packages (from tensorflow==2.17.0->tensorflow[and-cuda]==2.17.0->-r ./jord/requirements.txt (line 1)) (1.4.0)\n",
            "Requirement already satisfied: astunparse>=1.6.0 in /usr/local/lib/python3.11/dist-packages (from tensorflow==2.17.0->tensorflow[and-cuda]==2.17.0->-r ./jord/requirements.txt (line 1)) (1.6.3)\n",
            "Requirement already satisfied: flatbuffers>=24.3.25 in /usr/local/lib/python3.11/dist-packages (from tensorflow==2.17.0->tensorflow[and-cuda]==2.17.0->-r ./jord/requirements.txt (line 1)) (25.2.10)\n",
            "Requirement already satisfied: gast!=0.5.0,!=0.5.1,!=0.5.2,>=0.2.1 in /usr/local/lib/python3.11/dist-packages (from tensorflow==2.17.0->tensorflow[and-cuda]==2.17.0->-r ./jord/requirements.txt (line 1)) (0.6.0)\n",
            "Requirement already satisfied: google-pasta>=0.1.1 in /usr/local/lib/python3.11/dist-packages (from tensorflow==2.17.0->tensorflow[and-cuda]==2.17.0->-r ./jord/requirements.txt (line 1)) (0.2.0)\n",
            "Requirement already satisfied: h5py>=3.10.0 in /usr/local/lib/python3.11/dist-packages (from tensorflow==2.17.0->tensorflow[and-cuda]==2.17.0->-r ./jord/requirements.txt (line 1)) (3.13.0)\n",
            "Requirement already satisfied: libclang>=13.0.0 in /usr/local/lib/python3.11/dist-packages (from tensorflow==2.17.0->tensorflow[and-cuda]==2.17.0->-r ./jord/requirements.txt (line 1)) (18.1.1)\n",
            "Requirement already satisfied: ml-dtypes<0.5.0,>=0.3.1 in /usr/local/lib/python3.11/dist-packages (from tensorflow==2.17.0->tensorflow[and-cuda]==2.17.0->-r ./jord/requirements.txt (line 1)) (0.4.1)\n",
            "Requirement already satisfied: opt-einsum>=2.3.2 in /usr/local/lib/python3.11/dist-packages (from tensorflow==2.17.0->tensorflow[and-cuda]==2.17.0->-r ./jord/requirements.txt (line 1)) (3.4.0)\n",
            "Requirement already satisfied: packaging in /usr/local/lib/python3.11/dist-packages (from tensorflow==2.17.0->tensorflow[and-cuda]==2.17.0->-r ./jord/requirements.txt (line 1)) (23.2)\n",
            "Requirement already satisfied: protobuf!=4.21.0,!=4.21.1,!=4.21.2,!=4.21.3,!=4.21.4,!=4.21.5,<5.0.0dev,>=3.20.3 in /usr/local/lib/python3.11/dist-packages (from tensorflow==2.17.0->tensorflow[and-cuda]==2.17.0->-r ./jord/requirements.txt (line 1)) (4.25.8)\n",
            "Requirement already satisfied: requests<3,>=2.21.0 in /usr/local/lib/python3.11/dist-packages (from tensorflow==2.17.0->tensorflow[and-cuda]==2.17.0->-r ./jord/requirements.txt (line 1)) (2.32.3)\n",
            "Requirement already satisfied: setuptools in /usr/local/lib/python3.11/dist-packages (from tensorflow==2.17.0->tensorflow[and-cuda]==2.17.0->-r ./jord/requirements.txt (line 1)) (75.2.0)\n",
            "Requirement already satisfied: six>=1.12.0 in /usr/local/lib/python3.11/dist-packages (from tensorflow==2.17.0->tensorflow[and-cuda]==2.17.0->-r ./jord/requirements.txt (line 1)) (1.17.0)\n",
            "Requirement already satisfied: termcolor>=1.1.0 in /usr/local/lib/python3.11/dist-packages (from tensorflow==2.17.0->tensorflow[and-cuda]==2.17.0->-r ./jord/requirements.txt (line 1)) (3.1.0)\n",
            "Requirement already satisfied: typing-extensions>=3.6.6 in /usr/local/lib/python3.11/dist-packages (from tensorflow==2.17.0->tensorflow[and-cuda]==2.17.0->-r ./jord/requirements.txt (line 1)) (4.13.2)\n",
            "Requirement already satisfied: wrapt>=1.11.0 in /usr/local/lib/python3.11/dist-packages (from tensorflow==2.17.0->tensorflow[and-cuda]==2.17.0->-r ./jord/requirements.txt (line 1)) (1.17.2)\n",
            "Requirement already satisfied: grpcio<2.0,>=1.24.3 in /usr/local/lib/python3.11/dist-packages (from tensorflow==2.17.0->tensorflow[and-cuda]==2.17.0->-r ./jord/requirements.txt (line 1)) (1.71.0)\n",
            "Requirement already satisfied: tensorboard<2.18,>=2.17 in /usr/local/lib/python3.11/dist-packages (from tensorflow==2.17.0->tensorflow[and-cuda]==2.17.0->-r ./jord/requirements.txt (line 1)) (2.17.1)\n",
            "Requirement already satisfied: keras>=3.2.0 in /usr/local/lib/python3.11/dist-packages (from tensorflow==2.17.0->tensorflow[and-cuda]==2.17.0->-r ./jord/requirements.txt (line 1)) (3.8.0)\n",
            "Requirement already satisfied: tensorflow-io-gcs-filesystem>=0.23.1 in /usr/local/lib/python3.11/dist-packages (from tensorflow==2.17.0->tensorflow[and-cuda]==2.17.0->-r ./jord/requirements.txt (line 1)) (0.37.1)\n",
            "Collecting nvidia-cublas-cu12==12.3.4.1 (from tensorflow[and-cuda]==2.17.0->-r ./jord/requirements.txt (line 1))\n",
            "  Using cached nvidia_cublas_cu12-12.3.4.1-py3-none-manylinux1_x86_64.whl.metadata (1.5 kB)\n",
            "Collecting nvidia-cuda-cupti-cu12==12.3.101 (from tensorflow[and-cuda]==2.17.0->-r ./jord/requirements.txt (line 1))\n",
            "  Using cached nvidia_cuda_cupti_cu12-12.3.101-py3-none-manylinux1_x86_64.whl.metadata (1.6 kB)\n",
            "Requirement already satisfied: nvidia-cuda-nvcc-cu12==12.3.107 in /usr/local/lib/python3.11/dist-packages (from tensorflow[and-cuda]==2.17.0->-r ./jord/requirements.txt (line 1)) (12.3.107)\n",
            "Collecting nvidia-cuda-nvrtc-cu12==12.3.107 (from tensorflow[and-cuda]==2.17.0->-r ./jord/requirements.txt (line 1))\n",
            "  Using cached nvidia_cuda_nvrtc_cu12-12.3.107-py3-none-manylinux1_x86_64.whl.metadata (1.5 kB)\n",
            "Collecting nvidia-cuda-runtime-cu12==12.3.101 (from tensorflow[and-cuda]==2.17.0->-r ./jord/requirements.txt (line 1))\n",
            "  Using cached nvidia_cuda_runtime_cu12-12.3.101-py3-none-manylinux1_x86_64.whl.metadata (1.5 kB)\n",
            "Collecting nvidia-cudnn-cu12==8.9.7.29 (from tensorflow[and-cuda]==2.17.0->-r ./jord/requirements.txt (line 1))\n",
            "  Using cached nvidia_cudnn_cu12-8.9.7.29-py3-none-manylinux1_x86_64.whl.metadata (1.6 kB)\n",
            "Collecting nvidia-cufft-cu12==11.0.12.1 (from tensorflow[and-cuda]==2.17.0->-r ./jord/requirements.txt (line 1))\n",
            "  Using cached nvidia_cufft_cu12-11.0.12.1-py3-none-manylinux1_x86_64.whl.metadata (1.5 kB)\n",
            "Collecting nvidia-curand-cu12==10.3.4.107 (from tensorflow[and-cuda]==2.17.0->-r ./jord/requirements.txt (line 1))\n",
            "  Using cached nvidia_curand_cu12-10.3.4.107-py3-none-manylinux1_x86_64.whl.metadata (1.5 kB)\n",
            "Collecting nvidia-cusolver-cu12==11.5.4.101 (from tensorflow[and-cuda]==2.17.0->-r ./jord/requirements.txt (line 1))\n",
            "  Using cached nvidia_cusolver_cu12-11.5.4.101-py3-none-manylinux1_x86_64.whl.metadata (1.6 kB)\n",
            "Collecting nvidia-cusparse-cu12==12.2.0.103 (from tensorflow[and-cuda]==2.17.0->-r ./jord/requirements.txt (line 1))\n",
            "  Using cached nvidia_cusparse_cu12-12.2.0.103-py3-none-manylinux1_x86_64.whl.metadata (1.6 kB)\n",
            "Collecting nvidia-nccl-cu12==2.19.3 (from tensorflow[and-cuda]==2.17.0->-r ./jord/requirements.txt (line 1))\n",
            "  Using cached nvidia_nccl_cu12-2.19.3-py3-none-manylinux1_x86_64.whl.metadata (1.8 kB)\n",
            "Collecting nvidia-nvjitlink-cu12==12.3.101 (from tensorflow[and-cuda]==2.17.0->-r ./jord/requirements.txt (line 1))\n",
            "  Using cached nvidia_nvjitlink_cu12-12.3.101-py3-none-manylinux1_x86_64.whl.metadata (1.5 kB)\n",
            "Requirement already satisfied: contourpy>=1.0.1 in /usr/local/lib/python3.11/dist-packages (from matplotlib->-r ./jord/requirements.txt (line 2)) (1.3.2)\n",
            "Requirement already satisfied: cycler>=0.10 in /usr/local/lib/python3.11/dist-packages (from matplotlib->-r ./jord/requirements.txt (line 2)) (0.12.1)\n",
            "Requirement already satisfied: fonttools>=4.22.0 in /usr/local/lib/python3.11/dist-packages (from matplotlib->-r ./jord/requirements.txt (line 2)) (4.58.0)\n",
            "Requirement already satisfied: kiwisolver>=1.3.1 in /usr/local/lib/python3.11/dist-packages (from matplotlib->-r ./jord/requirements.txt (line 2)) (1.4.8)\n",
            "Requirement already satisfied: pyparsing>=2.3.1 in /usr/local/lib/python3.11/dist-packages (from matplotlib->-r ./jord/requirements.txt (line 2)) (3.2.3)\n",
            "Requirement already satisfied: python-dateutil>=2.7 in /usr/local/lib/python3.11/dist-packages (from matplotlib->-r ./jord/requirements.txt (line 2)) (2.9.0.post0)\n",
            "Requirement already satisfied: click>=8.1.8 in /usr/local/lib/python3.11/dist-packages (from jiwer->-r ./jord/requirements.txt (line 5)) (8.2.1)\n",
            "Requirement already satisfied: rapidfuzz>=3.9.7 in /usr/local/lib/python3.11/dist-packages (from jiwer->-r ./jord/requirements.txt (line 5)) (3.13.0)\n",
            "Requirement already satisfied: wheel<1.0,>=0.23.0 in /usr/local/lib/python3.11/dist-packages (from astunparse>=1.6.0->tensorflow==2.17.0->tensorflow[and-cuda]==2.17.0->-r ./jord/requirements.txt (line 1)) (0.45.1)\n",
            "Requirement already satisfied: rich in /usr/local/lib/python3.11/dist-packages (from keras>=3.2.0->tensorflow==2.17.0->tensorflow[and-cuda]==2.17.0->-r ./jord/requirements.txt (line 1)) (13.9.4)\n",
            "Requirement already satisfied: namex in /usr/local/lib/python3.11/dist-packages (from keras>=3.2.0->tensorflow==2.17.0->tensorflow[and-cuda]==2.17.0->-r ./jord/requirements.txt (line 1)) (0.0.9)\n",
            "Requirement already satisfied: optree in /usr/local/lib/python3.11/dist-packages (from keras>=3.2.0->tensorflow==2.17.0->tensorflow[and-cuda]==2.17.0->-r ./jord/requirements.txt (line 1)) (0.15.0)\n",
            "Requirement already satisfied: charset-normalizer<4,>=2 in /usr/local/lib/python3.11/dist-packages (from requests<3,>=2.21.0->tensorflow==2.17.0->tensorflow[and-cuda]==2.17.0->-r ./jord/requirements.txt (line 1)) (3.4.2)\n",
            "Requirement already satisfied: idna<4,>=2.5 in /usr/local/lib/python3.11/dist-packages (from requests<3,>=2.21.0->tensorflow==2.17.0->tensorflow[and-cuda]==2.17.0->-r ./jord/requirements.txt (line 1)) (3.10)\n",
            "Requirement already satisfied: urllib3<3,>=1.21.1 in /usr/local/lib/python3.11/dist-packages (from requests<3,>=2.21.0->tensorflow==2.17.0->tensorflow[and-cuda]==2.17.0->-r ./jord/requirements.txt (line 1)) (2.4.0)\n",
            "Requirement already satisfied: certifi>=2017.4.17 in /usr/local/lib/python3.11/dist-packages (from requests<3,>=2.21.0->tensorflow==2.17.0->tensorflow[and-cuda]==2.17.0->-r ./jord/requirements.txt (line 1)) (2025.4.26)\n",
            "Requirement already satisfied: markdown>=2.6.8 in /usr/local/lib/python3.11/dist-packages (from tensorboard<2.18,>=2.17->tensorflow==2.17.0->tensorflow[and-cuda]==2.17.0->-r ./jord/requirements.txt (line 1)) (3.8)\n",
            "Requirement already satisfied: tensorboard-data-server<0.8.0,>=0.7.0 in /usr/local/lib/python3.11/dist-packages (from tensorboard<2.18,>=2.17->tensorflow==2.17.0->tensorflow[and-cuda]==2.17.0->-r ./jord/requirements.txt (line 1)) (0.7.2)\n",
            "Requirement already satisfied: werkzeug>=1.0.1 in /usr/local/lib/python3.11/dist-packages (from tensorboard<2.18,>=2.17->tensorflow==2.17.0->tensorflow[and-cuda]==2.17.0->-r ./jord/requirements.txt (line 1)) (3.1.3)\n",
            "Requirement already satisfied: MarkupSafe>=2.1.1 in /usr/local/lib/python3.11/dist-packages (from werkzeug>=1.0.1->tensorboard<2.18,>=2.17->tensorflow==2.17.0->tensorflow[and-cuda]==2.17.0->-r ./jord/requirements.txt (line 1)) (3.0.2)\n",
            "Requirement already satisfied: markdown-it-py>=2.2.0 in /usr/local/lib/python3.11/dist-packages (from rich->keras>=3.2.0->tensorflow==2.17.0->tensorflow[and-cuda]==2.17.0->-r ./jord/requirements.txt (line 1)) (3.0.0)\n",
            "Requirement already satisfied: pygments<3.0.0,>=2.13.0 in /usr/local/lib/python3.11/dist-packages (from rich->keras>=3.2.0->tensorflow==2.17.0->tensorflow[and-cuda]==2.17.0->-r ./jord/requirements.txt (line 1)) (2.19.1)\n",
            "Requirement already satisfied: mdurl~=0.1 in /usr/local/lib/python3.11/dist-packages (from markdown-it-py>=2.2.0->rich->keras>=3.2.0->tensorflow==2.17.0->tensorflow[and-cuda]==2.17.0->-r ./jord/requirements.txt (line 1)) (0.1.2)\n",
            "Using cached nvidia_cublas_cu12-12.3.4.1-py3-none-manylinux1_x86_64.whl (412.6 MB)\n",
            "Using cached nvidia_cuda_cupti_cu12-12.3.101-py3-none-manylinux1_x86_64.whl (14.0 MB)\n",
            "Using cached nvidia_cuda_nvrtc_cu12-12.3.107-py3-none-manylinux1_x86_64.whl (24.9 MB)\n",
            "Using cached nvidia_cuda_runtime_cu12-12.3.101-py3-none-manylinux1_x86_64.whl (867 kB)\n",
            "Using cached nvidia_cudnn_cu12-8.9.7.29-py3-none-manylinux1_x86_64.whl (704.7 MB)\n",
            "Using cached nvidia_cufft_cu12-11.0.12.1-py3-none-manylinux1_x86_64.whl (98.8 MB)\n",
            "Using cached nvidia_curand_cu12-10.3.4.107-py3-none-manylinux1_x86_64.whl (56.3 MB)\n",
            "Using cached nvidia_cusolver_cu12-11.5.4.101-py3-none-manylinux1_x86_64.whl (125.2 MB)\n",
            "Using cached nvidia_cusparse_cu12-12.2.0.103-py3-none-manylinux1_x86_64.whl (197.5 MB)\n",
            "Using cached nvidia_nccl_cu12-2.19.3-py3-none-manylinux1_x86_64.whl (166.0 MB)\n",
            "Using cached nvidia_nvjitlink_cu12-12.3.101-py3-none-manylinux1_x86_64.whl (20.5 MB)\n",
            "Installing collected packages: nvidia-nvjitlink-cu12, nvidia-nccl-cu12, nvidia-curand-cu12, nvidia-cufft-cu12, nvidia-cuda-runtime-cu12, nvidia-cuda-nvrtc-cu12, nvidia-cuda-cupti-cu12, nvidia-cublas-cu12, nvidia-cusparse-cu12, nvidia-cudnn-cu12, nvidia-cusolver-cu12\n",
            "  Attempting uninstall: nvidia-nvjitlink-cu12\n",
            "    Found existing installation: nvidia-nvjitlink-cu12 12.4.127\n",
            "    Uninstalling nvidia-nvjitlink-cu12-12.4.127:\n",
            "      Successfully uninstalled nvidia-nvjitlink-cu12-12.4.127\n",
            "  Attempting uninstall: nvidia-nccl-cu12\n",
            "    Found existing installation: nvidia-nccl-cu12 2.21.5\n",
            "    Uninstalling nvidia-nccl-cu12-2.21.5:\n",
            "      Successfully uninstalled nvidia-nccl-cu12-2.21.5\n",
            "  Attempting uninstall: nvidia-curand-cu12\n",
            "    Found existing installation: nvidia-curand-cu12 10.3.5.147\n",
            "    Uninstalling nvidia-curand-cu12-10.3.5.147:\n",
            "      Successfully uninstalled nvidia-curand-cu12-10.3.5.147\n",
            "  Attempting uninstall: nvidia-cufft-cu12\n",
            "    Found existing installation: nvidia-cufft-cu12 11.2.1.3\n",
            "    Uninstalling nvidia-cufft-cu12-11.2.1.3:\n",
            "      Successfully uninstalled nvidia-cufft-cu12-11.2.1.3\n",
            "  Attempting uninstall: nvidia-cuda-runtime-cu12\n",
            "    Found existing installation: nvidia-cuda-runtime-cu12 12.4.127\n",
            "    Uninstalling nvidia-cuda-runtime-cu12-12.4.127:\n",
            "      Successfully uninstalled nvidia-cuda-runtime-cu12-12.4.127\n",
            "  Attempting uninstall: nvidia-cuda-nvrtc-cu12\n",
            "    Found existing installation: nvidia-cuda-nvrtc-cu12 12.4.127\n",
            "    Uninstalling nvidia-cuda-nvrtc-cu12-12.4.127:\n",
            "      Successfully uninstalled nvidia-cuda-nvrtc-cu12-12.4.127\n",
            "  Attempting uninstall: nvidia-cuda-cupti-cu12\n",
            "    Found existing installation: nvidia-cuda-cupti-cu12 12.4.127\n",
            "    Uninstalling nvidia-cuda-cupti-cu12-12.4.127:\n",
            "      Successfully uninstalled nvidia-cuda-cupti-cu12-12.4.127\n",
            "  Attempting uninstall: nvidia-cublas-cu12\n",
            "    Found existing installation: nvidia-cublas-cu12 12.4.5.8\n",
            "    Uninstalling nvidia-cublas-cu12-12.4.5.8:\n",
            "      Successfully uninstalled nvidia-cublas-cu12-12.4.5.8\n",
            "  Attempting uninstall: nvidia-cusparse-cu12\n",
            "    Found existing installation: nvidia-cusparse-cu12 12.3.1.170\n",
            "    Uninstalling nvidia-cusparse-cu12-12.3.1.170:\n",
            "      Successfully uninstalled nvidia-cusparse-cu12-12.3.1.170\n",
            "  Attempting uninstall: nvidia-cudnn-cu12\n",
            "    Found existing installation: nvidia-cudnn-cu12 9.1.0.70\n",
            "    Uninstalling nvidia-cudnn-cu12-9.1.0.70:\n",
            "      Successfully uninstalled nvidia-cudnn-cu12-9.1.0.70\n",
            "  Attempting uninstall: nvidia-cusolver-cu12\n",
            "    Found existing installation: nvidia-cusolver-cu12 11.6.1.9\n",
            "    Uninstalling nvidia-cusolver-cu12-11.6.1.9:\n",
            "      Successfully uninstalled nvidia-cusolver-cu12-11.6.1.9\n",
            "\u001b[31mERROR: pip's dependency resolver does not currently take into account all the packages that are installed. This behaviour is the source of the following dependency conflicts.\n",
            "torch 2.5.1 requires nvidia-cublas-cu12==12.4.5.8; platform_system == \"Linux\" and platform_machine == \"x86_64\", but you have nvidia-cublas-cu12 12.3.4.1 which is incompatible.\n",
            "torch 2.5.1 requires nvidia-cuda-cupti-cu12==12.4.127; platform_system == \"Linux\" and platform_machine == \"x86_64\", but you have nvidia-cuda-cupti-cu12 12.3.101 which is incompatible.\n",
            "torch 2.5.1 requires nvidia-cuda-nvrtc-cu12==12.4.127; platform_system == \"Linux\" and platform_machine == \"x86_64\", but you have nvidia-cuda-nvrtc-cu12 12.3.107 which is incompatible.\n",
            "torch 2.5.1 requires nvidia-cuda-runtime-cu12==12.4.127; platform_system == \"Linux\" and platform_machine == \"x86_64\", but you have nvidia-cuda-runtime-cu12 12.3.101 which is incompatible.\n",
            "torch 2.5.1 requires nvidia-cudnn-cu12==9.1.0.70; platform_system == \"Linux\" and platform_machine == \"x86_64\", but you have nvidia-cudnn-cu12 8.9.7.29 which is incompatible.\n",
            "torch 2.5.1 requires nvidia-cufft-cu12==11.2.1.3; platform_system == \"Linux\" and platform_machine == \"x86_64\", but you have nvidia-cufft-cu12 11.0.12.1 which is incompatible.\n",
            "torch 2.5.1 requires nvidia-curand-cu12==10.3.5.147; platform_system == \"Linux\" and platform_machine == \"x86_64\", but you have nvidia-curand-cu12 10.3.4.107 which is incompatible.\n",
            "torch 2.5.1 requires nvidia-cusolver-cu12==11.6.1.9; platform_system == \"Linux\" and platform_machine == \"x86_64\", but you have nvidia-cusolver-cu12 11.5.4.101 which is incompatible.\n",
            "torch 2.5.1 requires nvidia-cusparse-cu12==12.3.1.170; platform_system == \"Linux\" and platform_machine == \"x86_64\", but you have nvidia-cusparse-cu12 12.2.0.103 which is incompatible.\n",
            "torch 2.5.1 requires nvidia-nccl-cu12==2.21.5; platform_system == \"Linux\" and platform_machine == \"x86_64\", but you have nvidia-nccl-cu12 2.19.3 which is incompatible.\n",
            "torch 2.5.1 requires nvidia-nvjitlink-cu12==12.4.127; platform_system == \"Linux\" and platform_machine == \"x86_64\", but you have nvidia-nvjitlink-cu12 12.3.101 which is incompatible.\n",
            "torchaudio 2.6.0+cu124 requires torch==2.6.0, but you have torch 2.5.1 which is incompatible.\u001b[0m\u001b[31m\n",
            "\u001b[0mSuccessfully installed nvidia-cublas-cu12-12.3.4.1 nvidia-cuda-cupti-cu12-12.3.101 nvidia-cuda-nvrtc-cu12-12.3.107 nvidia-cuda-runtime-cu12-12.3.101 nvidia-cudnn-cu12-8.9.7.29 nvidia-cufft-cu12-11.0.12.1 nvidia-curand-cu12-10.3.4.107 nvidia-cusolver-cu12-11.5.4.101 nvidia-cusparse-cu12-12.2.0.103 nvidia-nccl-cu12-2.19.3 nvidia-nvjitlink-cu12-12.3.101\n"
          ]
        }
      ]
    },
    {
      "cell_type": "code",
      "source": [
        "import os\n",
        "%cd /content/jawiOCR/crnn/\n",
        "\n",
        "# Create a folder to unzip into\n",
        "os.makedirs(\"outputs\", exist_ok=True)\n",
        "\n",
        "# Download\n",
        "!wget -O checkpoints.zip https://huggingface.co/datasets/mirzasyhm/checkpoint_jawi/resolve/main/checkpoints_color.zip\n",
        "\n",
        "# Unzip into that folder\n",
        "!unzip -q checkpoints.zip -d checkpoints\n",
        "\n",
        "# Clean up\n",
        "!rm checkpoints.zip\n",
        "\n",
        "%cd .."
      ],
      "metadata": {
        "colab": {
          "base_uri": "https://localhost:8080/"
        },
        "id": "BjoJ4mcuula8",
        "outputId": "97337d44-8bcc-4037-fe5a-3bea2ee8128d"
      },
      "execution_count": null,
      "outputs": [
        {
          "output_type": "stream",
          "name": "stdout",
          "text": [
            "/content/jawiOCR/crnn\n",
            "--2025-06-01 18:31:20--  https://huggingface.co/datasets/mirzasyhm/checkpoint_jawi/resolve/main/checkpoints_color.zip\n",
            "Resolving huggingface.co (huggingface.co)... 13.35.202.40, 13.35.202.97, 13.35.202.34, ...\n",
            "Connecting to huggingface.co (huggingface.co)|13.35.202.40|:443... connected.\n",
            "HTTP request sent, awaiting response... 302 Found\n",
            "Location: https://cdn-lfs-us-1.hf.co/repos/a4/0e/a40edb5fee9aa56b081d76cebeb85749da8b1935a5194f415623e5924b1f8594/acabb8c59097af417044adf88e4f832aebb6a05f62c98f55a444db282d387cd4?response-content-disposition=inline%3B+filename*%3DUTF-8%27%27checkpoints_color.zip%3B+filename%3D%22checkpoints_color.zip%22%3B&response-content-type=application%2Fzip&Expires=1748806281&Policy=eyJTdGF0ZW1lbnQiOlt7IkNvbmRpdGlvbiI6eyJEYXRlTGVzc1RoYW4iOnsiQVdTOkVwb2NoVGltZSI6MTc0ODgwNjI4MX19LCJSZXNvdXJjZSI6Imh0dHBzOi8vY2RuLWxmcy11cy0xLmhmLmNvL3JlcG9zL2E0LzBlL2E0MGVkYjVmZWU5YWE1NmIwODFkNzZjZWJlYjg1NzQ5ZGE4YjE5MzVhNTE5NGY0MTU2MjNlNTkyNGIxZjg1OTQvYWNhYmI4YzU5MDk3YWY0MTcwNDRhZGY4OGU0ZjgzMmFlYmI2YTA1ZjYyYzk4ZjU1YTQ0NGRiMjgyZDM4N2NkND9yZXNwb25zZS1jb250ZW50LWRpc3Bvc2l0aW9uPSomcmVzcG9uc2UtY29udGVudC10eXBlPSoifV19&Signature=rQHiGFO9v7FbSPz2uHjQV2d2Ot4DMixV995DxydBr6EduCxQqDTPxw1y9HEqC1xQlp01i62n0YUhpx1zGaVDWscyhFWIQ7srWkt7riUB9-sTYgO%7E4IUQoDSJClTIIiHIj51ROosiSlmXnSmCt7uU7Ot8qrMklYWSm2Rne%7EaRM6-Ssp647rOUIDjYUhpXuMyvKH%7EFKYRSDuOn-BcGjBmdYlPDMFSUPQnPuUoa1Wmv-BtTFBx8MceRM0hIfELRCG5DHXC9pZFkxqGuZSno4Yrbjd8Zf-lwKs%7EQhfWT8WPN8ElJvsqxXEvoioyDUcllnnbCQf5Mk6Vr%7EhyaM%7EbTTur6%7Ew__&Key-Pair-Id=K24J24Z295AEI9 [following]\n",
            "--2025-06-01 18:31:21--  https://cdn-lfs-us-1.hf.co/repos/a4/0e/a40edb5fee9aa56b081d76cebeb85749da8b1935a5194f415623e5924b1f8594/acabb8c59097af417044adf88e4f832aebb6a05f62c98f55a444db282d387cd4?response-content-disposition=inline%3B+filename*%3DUTF-8%27%27checkpoints_color.zip%3B+filename%3D%22checkpoints_color.zip%22%3B&response-content-type=application%2Fzip&Expires=1748806281&Policy=eyJTdGF0ZW1lbnQiOlt7IkNvbmRpdGlvbiI6eyJEYXRlTGVzc1RoYW4iOnsiQVdTOkVwb2NoVGltZSI6MTc0ODgwNjI4MX19LCJSZXNvdXJjZSI6Imh0dHBzOi8vY2RuLWxmcy11cy0xLmhmLmNvL3JlcG9zL2E0LzBlL2E0MGVkYjVmZWU5YWE1NmIwODFkNzZjZWJlYjg1NzQ5ZGE4YjE5MzVhNTE5NGY0MTU2MjNlNTkyNGIxZjg1OTQvYWNhYmI4YzU5MDk3YWY0MTcwNDRhZGY4OGU0ZjgzMmFlYmI2YTA1ZjYyYzk4ZjU1YTQ0NGRiMjgyZDM4N2NkND9yZXNwb25zZS1jb250ZW50LWRpc3Bvc2l0aW9uPSomcmVzcG9uc2UtY29udGVudC10eXBlPSoifV19&Signature=rQHiGFO9v7FbSPz2uHjQV2d2Ot4DMixV995DxydBr6EduCxQqDTPxw1y9HEqC1xQlp01i62n0YUhpx1zGaVDWscyhFWIQ7srWkt7riUB9-sTYgO%7E4IUQoDSJClTIIiHIj51ROosiSlmXnSmCt7uU7Ot8qrMklYWSm2Rne%7EaRM6-Ssp647rOUIDjYUhpXuMyvKH%7EFKYRSDuOn-BcGjBmdYlPDMFSUPQnPuUoa1Wmv-BtTFBx8MceRM0hIfELRCG5DHXC9pZFkxqGuZSno4Yrbjd8Zf-lwKs%7EQhfWT8WPN8ElJvsqxXEvoioyDUcllnnbCQf5Mk6Vr%7EhyaM%7EbTTur6%7Ew__&Key-Pair-Id=K24J24Z295AEI9\n",
            "Resolving cdn-lfs-us-1.hf.co (cdn-lfs-us-1.hf.co)... 3.165.75.112, 3.165.75.19, 3.165.75.33, ...\n",
            "Connecting to cdn-lfs-us-1.hf.co (cdn-lfs-us-1.hf.co)|3.165.75.112|:443... connected.\n",
            "HTTP request sent, awaiting response... 200 OK\n",
            "Length: 30970120 (30M) [application/zip]\n",
            "Saving to: ‘checkpoints.zip’\n",
            "\n",
            "checkpoints.zip     100%[===================>]  29.54M  --.-KB/s    in 0.1s    \n",
            "\n",
            "2025-06-01 18:31:21 (290 MB/s) - ‘checkpoints.zip’ saved [30970120/30970120]\n",
            "\n",
            "/content/jawiOCR\n"
          ]
        }
      ]
    },
    {
      "cell_type": "code",
      "source": [
        "import os\n",
        "%cd /content/jawiOCR/craft/exp/\n",
        "\n",
        "# Download\n",
        "!wget -O CRAFT_clr_amp_12000.pth https://huggingface.co/datasets/mirzasyhm/checkpoint_jawi/resolve/main/CRAFT_clr_amp_12000.pth\n",
        "\n",
        "%cd /content/jawiOCR/"
      ],
      "metadata": {
        "colab": {
          "base_uri": "https://localhost:8080/"
        },
        "id": "i9Y0C1DLus2Y",
        "outputId": "f7702445-8093-473b-9a33-47e153d7d5f5"
      },
      "execution_count": null,
      "outputs": [
        {
          "output_type": "stream",
          "name": "stdout",
          "text": [
            "/content/jawiOCR/craft/exp\n",
            "--2025-06-01 18:31:21--  https://huggingface.co/datasets/mirzasyhm/checkpoint_jawi/resolve/main/CRAFT_clr_amp_12000.pth\n",
            "Resolving huggingface.co (huggingface.co)... 13.35.202.40, 13.35.202.97, 13.35.202.34, ...\n",
            "Connecting to huggingface.co (huggingface.co)|13.35.202.40|:443... connected.\n",
            "HTTP request sent, awaiting response... 302 Found\n",
            "Location: https://cdn-lfs-us-1.hf.co/repos/a4/0e/a40edb5fee9aa56b081d76cebeb85749da8b1935a5194f415623e5924b1f8594/d4a890d8272c45581195e9fe07f9f722b3f4023d1a16bd8b94f780796c2ed067?response-content-disposition=inline%3B+filename*%3DUTF-8%27%27CRAFT_clr_amp_12000.pth%3B+filename%3D%22CRAFT_clr_amp_12000.pth%22%3B&Expires=1748806281&Policy=eyJTdGF0ZW1lbnQiOlt7IkNvbmRpdGlvbiI6eyJEYXRlTGVzc1RoYW4iOnsiQVdTOkVwb2NoVGltZSI6MTc0ODgwNjI4MX19LCJSZXNvdXJjZSI6Imh0dHBzOi8vY2RuLWxmcy11cy0xLmhmLmNvL3JlcG9zL2E0LzBlL2E0MGVkYjVmZWU5YWE1NmIwODFkNzZjZWJlYjg1NzQ5ZGE4YjE5MzVhNTE5NGY0MTU2MjNlNTkyNGIxZjg1OTQvZDRhODkwZDgyNzJjNDU1ODExOTVlOWZlMDdmOWY3MjJiM2Y0MDIzZDFhMTZiZDhiOTRmNzgwNzk2YzJlZDA2Nz9yZXNwb25zZS1jb250ZW50LWRpc3Bvc2l0aW9uPSoifV19&Signature=h9bzxEwNGzm3c5AjXqoouC%7EWTX0uKJuS2UvAKLe87qRm4cF5CqOGfS7PJvmFqC58qG1ed3nPoMyz0pc3HP-PXzbKy7z8s1olQkATsRnDkfMvxCPOW7SHdUo2oiWQ3VwqdsDm%7EgRDFYoLOqPQYr70sNrl1yRMT2ls%7ENO6iYdpr5lMgpx-A-0Aq9skdpBmRtoHSuAKsZ6OuPKOFKgZoNlpSFAodMNtAr2gncyNV04xCzUBBqqai%7EgjDlIob8nJqNpY8KBVCH0PXhadJvWSdKsgMfFUcPltnnU1fV5eKAcINJ9psvkxJ4aRKYth92C-DVOdkVvnck4UJp10JlXqATY99g__&Key-Pair-Id=K24J24Z295AEI9 [following]\n",
            "--2025-06-01 18:31:22--  https://cdn-lfs-us-1.hf.co/repos/a4/0e/a40edb5fee9aa56b081d76cebeb85749da8b1935a5194f415623e5924b1f8594/d4a890d8272c45581195e9fe07f9f722b3f4023d1a16bd8b94f780796c2ed067?response-content-disposition=inline%3B+filename*%3DUTF-8%27%27CRAFT_clr_amp_12000.pth%3B+filename%3D%22CRAFT_clr_amp_12000.pth%22%3B&Expires=1748806281&Policy=eyJTdGF0ZW1lbnQiOlt7IkNvbmRpdGlvbiI6eyJEYXRlTGVzc1RoYW4iOnsiQVdTOkVwb2NoVGltZSI6MTc0ODgwNjI4MX19LCJSZXNvdXJjZSI6Imh0dHBzOi8vY2RuLWxmcy11cy0xLmhmLmNvL3JlcG9zL2E0LzBlL2E0MGVkYjVmZWU5YWE1NmIwODFkNzZjZWJlYjg1NzQ5ZGE4YjE5MzVhNTE5NGY0MTU2MjNlNTkyNGIxZjg1OTQvZDRhODkwZDgyNzJjNDU1ODExOTVlOWZlMDdmOWY3MjJiM2Y0MDIzZDFhMTZiZDhiOTRmNzgwNzk2YzJlZDA2Nz9yZXNwb25zZS1jb250ZW50LWRpc3Bvc2l0aW9uPSoifV19&Signature=h9bzxEwNGzm3c5AjXqoouC%7EWTX0uKJuS2UvAKLe87qRm4cF5CqOGfS7PJvmFqC58qG1ed3nPoMyz0pc3HP-PXzbKy7z8s1olQkATsRnDkfMvxCPOW7SHdUo2oiWQ3VwqdsDm%7EgRDFYoLOqPQYr70sNrl1yRMT2ls%7ENO6iYdpr5lMgpx-A-0Aq9skdpBmRtoHSuAKsZ6OuPKOFKgZoNlpSFAodMNtAr2gncyNV04xCzUBBqqai%7EgjDlIob8nJqNpY8KBVCH0PXhadJvWSdKsgMfFUcPltnnU1fV5eKAcINJ9psvkxJ4aRKYth92C-DVOdkVvnck4UJp10JlXqATY99g__&Key-Pair-Id=K24J24Z295AEI9\n",
            "Resolving cdn-lfs-us-1.hf.co (cdn-lfs-us-1.hf.co)... 3.165.75.112, 3.165.75.19, 3.165.75.33, ...\n",
            "Connecting to cdn-lfs-us-1.hf.co (cdn-lfs-us-1.hf.co)|3.165.75.112|:443... connected.\n",
            "HTTP request sent, awaiting response... 200 OK\n",
            "Length: 249425258 (238M) [binary/octet-stream]\n",
            "Saving to: ‘CRAFT_clr_amp_12000.pth’\n",
            "\n",
            "CRAFT_clr_amp_12000 100%[===================>] 237.87M   452MB/s    in 0.5s    \n",
            "\n",
            "2025-06-01 18:31:22 (452 MB/s) - ‘CRAFT_clr_amp_12000.pth’ saved [249425258/249425258]\n",
            "\n",
            "/content/jawiOCR\n"
          ]
        }
      ]
    },
    {
      "cell_type": "code",
      "source": [
        "!wget \"https://huggingface.co/datasets/mirzasyhm/checkpoint_jawi/resolve/main/best_jawi_orientation_resnet50.keras\""
      ],
      "metadata": {
        "colab": {
          "base_uri": "https://localhost:8080/"
        },
        "id": "XVJ-MyDNu4Q6",
        "outputId": "84f5f9e1-6d45-48ad-c956-26cc7fff0260"
      },
      "execution_count": null,
      "outputs": [
        {
          "output_type": "stream",
          "name": "stdout",
          "text": [
            "--2025-06-01 18:31:22--  https://huggingface.co/datasets/mirzasyhm/checkpoint_jawi/resolve/main/best_jawi_orientation_resnet50.keras\n",
            "Resolving huggingface.co (huggingface.co)... 13.35.202.40, 13.35.202.97, 13.35.202.34, ...\n",
            "Connecting to huggingface.co (huggingface.co)|13.35.202.40|:443... connected.\n",
            "HTTP request sent, awaiting response... 302 Found\n",
            "Location: https://cdn-lfs-us-1.hf.co/repos/a4/0e/a40edb5fee9aa56b081d76cebeb85749da8b1935a5194f415623e5924b1f8594/aff874538ba2a9cd11c53bffc4659ea1b1ade75d231b6f3dea595da0a07dcd44?response-content-disposition=inline%3B+filename*%3DUTF-8%27%27best_jawi_orientation_resnet50.keras%3B+filename%3D%22best_jawi_orientation_resnet50.keras%22%3B&Expires=1748806282&Policy=eyJTdGF0ZW1lbnQiOlt7IkNvbmRpdGlvbiI6eyJEYXRlTGVzc1RoYW4iOnsiQVdTOkVwb2NoVGltZSI6MTc0ODgwNjI4Mn19LCJSZXNvdXJjZSI6Imh0dHBzOi8vY2RuLWxmcy11cy0xLmhmLmNvL3JlcG9zL2E0LzBlL2E0MGVkYjVmZWU5YWE1NmIwODFkNzZjZWJlYjg1NzQ5ZGE4YjE5MzVhNTE5NGY0MTU2MjNlNTkyNGIxZjg1OTQvYWZmODc0NTM4YmEyYTljZDExYzUzYmZmYzQ2NTllYTFiMWFkZTc1ZDIzMWI2ZjNkZWE1OTVkYTBhMDdkY2Q0ND9yZXNwb25zZS1jb250ZW50LWRpc3Bvc2l0aW9uPSoifV19&Signature=SfyhQrtT1dlbaZidUs1YKU138PQMN%7ECsXJwgW6sLDqUZ8ONBMnYGezfVv%7EkP9-%7EaR5JxJwN3jFsVV3hMl3L80wx%7EeNfhvY2tuI4Wz3HZ8IC78MDqcWt0AMAo7nvOmACXn8HkFPXgk4lMC-GZFy6Q1H3S10bb00bewlpOmCqwPc-7mP3RgfwHCNSJJqDA052kAuhPJNS-Ao7aMDHfljku4EbqarBoYsStntbqIAz5lQ9iizL9ejSVKL-1ODONaKvKsIlB0mV4y9GGffOcMvSoukyTcX%7EH-qyNjvVkvRmnE3bN%7ER%7EDorMPLnlj5bYf5Y1RQ8L-WcXq-TmRJfD5EvWe3w__&Key-Pair-Id=K24J24Z295AEI9 [following]\n",
            "--2025-06-01 18:31:22--  https://cdn-lfs-us-1.hf.co/repos/a4/0e/a40edb5fee9aa56b081d76cebeb85749da8b1935a5194f415623e5924b1f8594/aff874538ba2a9cd11c53bffc4659ea1b1ade75d231b6f3dea595da0a07dcd44?response-content-disposition=inline%3B+filename*%3DUTF-8%27%27best_jawi_orientation_resnet50.keras%3B+filename%3D%22best_jawi_orientation_resnet50.keras%22%3B&Expires=1748806282&Policy=eyJTdGF0ZW1lbnQiOlt7IkNvbmRpdGlvbiI6eyJEYXRlTGVzc1RoYW4iOnsiQVdTOkVwb2NoVGltZSI6MTc0ODgwNjI4Mn19LCJSZXNvdXJjZSI6Imh0dHBzOi8vY2RuLWxmcy11cy0xLmhmLmNvL3JlcG9zL2E0LzBlL2E0MGVkYjVmZWU5YWE1NmIwODFkNzZjZWJlYjg1NzQ5ZGE4YjE5MzVhNTE5NGY0MTU2MjNlNTkyNGIxZjg1OTQvYWZmODc0NTM4YmEyYTljZDExYzUzYmZmYzQ2NTllYTFiMWFkZTc1ZDIzMWI2ZjNkZWE1OTVkYTBhMDdkY2Q0ND9yZXNwb25zZS1jb250ZW50LWRpc3Bvc2l0aW9uPSoifV19&Signature=SfyhQrtT1dlbaZidUs1YKU138PQMN%7ECsXJwgW6sLDqUZ8ONBMnYGezfVv%7EkP9-%7EaR5JxJwN3jFsVV3hMl3L80wx%7EeNfhvY2tuI4Wz3HZ8IC78MDqcWt0AMAo7nvOmACXn8HkFPXgk4lMC-GZFy6Q1H3S10bb00bewlpOmCqwPc-7mP3RgfwHCNSJJqDA052kAuhPJNS-Ao7aMDHfljku4EbqarBoYsStntbqIAz5lQ9iizL9ejSVKL-1ODONaKvKsIlB0mV4y9GGffOcMvSoukyTcX%7EH-qyNjvVkvRmnE3bN%7ER%7EDorMPLnlj5bYf5Y1RQ8L-WcXq-TmRJfD5EvWe3w__&Key-Pair-Id=K24J24Z295AEI9\n",
            "Resolving cdn-lfs-us-1.hf.co (cdn-lfs-us-1.hf.co)... 3.165.75.112, 3.165.75.19, 3.165.75.33, ...\n",
            "Connecting to cdn-lfs-us-1.hf.co (cdn-lfs-us-1.hf.co)|3.165.75.112|:443... connected.\n",
            "HTTP request sent, awaiting response... 200 OK\n",
            "Length: 248272187 (237M) [binary/octet-stream]\n",
            "Saving to: ‘best_jawi_orientation_resnet50.keras’\n",
            "\n",
            "best_jawi_orientati 100%[===================>] 236.77M   332MB/s    in 0.7s    \n",
            "\n",
            "2025-06-01 18:31:23 (332 MB/s) - ‘best_jawi_orientation_resnet50.keras’ saved [248272187/248272187]\n",
            "\n"
          ]
        }
      ]
    },
    {
      "cell_type": "code",
      "source": [
        "%cd /content/jawiOCR/crnn/\n",
        "!python download_dataset.py"
      ],
      "metadata": {
        "colab": {
          "base_uri": "https://localhost:8080/"
        },
        "id": "jemwVVI0vcg1",
        "outputId": "5676d678-1876-4f22-ed7d-c9aff92e022d"
      },
      "execution_count": null,
      "outputs": [
        {
          "output_type": "stream",
          "name": "stdout",
          "text": [
            "/content/jawiOCR/crnn\n",
            "Downloading dataset from https://huggingface.co/datasets/mirzasyhm/synthetic_jawi_images/resolve/main/data_jawi_color_2_lmdb.tar...\n",
            "Extracting data_jawi_color_2_lmdb.tar into ./content/ ...\n",
            "Dataset extracted. Expected at: ./content/data_jawi_color_2_lmdb\n"
          ]
        }
      ]
    },
    {
      "cell_type": "code",
      "source": [
        "!python build_alphabet.py\n",
        "%cd .."
      ],
      "metadata": {
        "colab": {
          "base_uri": "https://localhost:8080/"
        },
        "id": "vqc93addxf0j",
        "outputId": "c606628b-ed37-431e-93fa-dcbaca4afe30"
      },
      "execution_count": null,
      "outputs": [
        {
          "output_type": "stream",
          "name": "stdout",
          "text": [
            "--- Building Jawi Character Alphabet ---\n",
            "Building alphabet from LMDB dataset at: content/data_jawi_color_2_lmdb/train\n",
            "Scanning 144000 samples to build alphabet...\n",
            "Scanning labels: 100% 144000/144000 [00:00<00:00, 626889.45it/s]\n",
            "\n",
            "Alphabet built successfully.\n",
            "Found 46 unique Jawi characters.\n",
            "Total number of classes (including CTC blank): 47\n",
            "Alphabet saved to 'alphabet.json'\n",
            "\n",
            "Script finished. The alphabet can now be loaded from 'alphabet.json'.\n",
            "/content/jawiOCR\n"
          ]
        }
      ]
    },
    {
      "cell_type": "code",
      "source": [
        "!wget https://huggingface.co/datasets/mirzasyhm/synthetic_jawi_images/resolve/main/dataset_sentence_test.tar -O jawi.tar\n",
        "\n",
        "!tar -xf jawi.tar"
      ],
      "metadata": {
        "colab": {
          "base_uri": "https://localhost:8080/"
        },
        "id": "B_wTJJ_00_S5",
        "outputId": "6f0b00bc-995d-4deb-f63d-83734ced35dd"
      },
      "execution_count": null,
      "outputs": [
        {
          "output_type": "stream",
          "name": "stdout",
          "text": [
            "--2025-06-01 18:49:39--  https://huggingface.co/datasets/mirzasyhm/synthetic_jawi_images/resolve/main/dataset_sentence_test.tar\n",
            "Resolving huggingface.co (huggingface.co)... 13.35.202.97, 13.35.202.121, 13.35.202.34, ...\n",
            "Connecting to huggingface.co (huggingface.co)|13.35.202.97|:443... connected.\n",
            "HTTP request sent, awaiting response... 302 Found\n",
            "Location: https://cdn-lfs-us-1.hf.co/repos/f9/16/f916668cb9026f1a501d38e183f8b89b65d2f31a4159ab1330ade73ab5a5fc1e/69c625d4c9074dff5f0bed84502b27a284a2229fd0bcf28a3fd750988cd942e2?response-content-disposition=inline%3B+filename*%3DUTF-8%27%27dataset_sentence_test.tar%3B+filename%3D%22dataset_sentence_test.tar%22%3B&response-content-type=application%2Fx-tar&Expires=1748807379&Policy=eyJTdGF0ZW1lbnQiOlt7IkNvbmRpdGlvbiI6eyJEYXRlTGVzc1RoYW4iOnsiQVdTOkVwb2NoVGltZSI6MTc0ODgwNzM3OX19LCJSZXNvdXJjZSI6Imh0dHBzOi8vY2RuLWxmcy11cy0xLmhmLmNvL3JlcG9zL2Y5LzE2L2Y5MTY2NjhjYjkwMjZmMWE1MDFkMzhlMTgzZjhiODliNjVkMmYzMWE0MTU5YWIxMzMwYWRlNzNhYjVhNWZjMWUvNjljNjI1ZDRjOTA3NGRmZjVmMGJlZDg0NTAyYjI3YTI4NGEyMjI5ZmQwYmNmMjhhM2ZkNzUwOTg4Y2Q5NDJlMj9yZXNwb25zZS1jb250ZW50LWRpc3Bvc2l0aW9uPSomcmVzcG9uc2UtY29udGVudC10eXBlPSoifV19&Signature=AsC0VGAbNiUcR2Ls8Z2Z4RSCpEC7kXV6HclgU1R7z1qyq5JyhXrdyRANqPHnxtPhq3F3qr3at098wE1GWMtKTu367LRgBbAr%7El2Bm-Eul-tTLn8dDr0NG5%7Eb1kqAAuj7CMyzfw8OEM327r8-fjZHQmD6385B1-vpfVfxi0z%7EuxvQaV-uLEy2qWuaYLdUCW-gnE50Q4zEamzWZ5EA%7EOOH8xKBH29DdJRVQeOIornrwtBFNWelO6i%7EmaRuK59Y0SLzHiHni2NxQkz2PWVux1KXECrDpfVydphLrzRG78IGrkvQ21yv-3zdF%7Ekyh5xuY6ohG6EV7uRfnfVYHgcmnxYi8Q__&Key-Pair-Id=K24J24Z295AEI9 [following]\n",
            "--2025-06-01 18:49:40--  https://cdn-lfs-us-1.hf.co/repos/f9/16/f916668cb9026f1a501d38e183f8b89b65d2f31a4159ab1330ade73ab5a5fc1e/69c625d4c9074dff5f0bed84502b27a284a2229fd0bcf28a3fd750988cd942e2?response-content-disposition=inline%3B+filename*%3DUTF-8%27%27dataset_sentence_test.tar%3B+filename%3D%22dataset_sentence_test.tar%22%3B&response-content-type=application%2Fx-tar&Expires=1748807379&Policy=eyJTdGF0ZW1lbnQiOlt7IkNvbmRpdGlvbiI6eyJEYXRlTGVzc1RoYW4iOnsiQVdTOkVwb2NoVGltZSI6MTc0ODgwNzM3OX19LCJSZXNvdXJjZSI6Imh0dHBzOi8vY2RuLWxmcy11cy0xLmhmLmNvL3JlcG9zL2Y5LzE2L2Y5MTY2NjhjYjkwMjZmMWE1MDFkMzhlMTgzZjhiODliNjVkMmYzMWE0MTU5YWIxMzMwYWRlNzNhYjVhNWZjMWUvNjljNjI1ZDRjOTA3NGRmZjVmMGJlZDg0NTAyYjI3YTI4NGEyMjI5ZmQwYmNmMjhhM2ZkNzUwOTg4Y2Q5NDJlMj9yZXNwb25zZS1jb250ZW50LWRpc3Bvc2l0aW9uPSomcmVzcG9uc2UtY29udGVudC10eXBlPSoifV19&Signature=AsC0VGAbNiUcR2Ls8Z2Z4RSCpEC7kXV6HclgU1R7z1qyq5JyhXrdyRANqPHnxtPhq3F3qr3at098wE1GWMtKTu367LRgBbAr%7El2Bm-Eul-tTLn8dDr0NG5%7Eb1kqAAuj7CMyzfw8OEM327r8-fjZHQmD6385B1-vpfVfxi0z%7EuxvQaV-uLEy2qWuaYLdUCW-gnE50Q4zEamzWZ5EA%7EOOH8xKBH29DdJRVQeOIornrwtBFNWelO6i%7EmaRuK59Y0SLzHiHni2NxQkz2PWVux1KXECrDpfVydphLrzRG78IGrkvQ21yv-3zdF%7Ekyh5xuY6ohG6EV7uRfnfVYHgcmnxYi8Q__&Key-Pair-Id=K24J24Z295AEI9\n",
            "Resolving cdn-lfs-us-1.hf.co (cdn-lfs-us-1.hf.co)... 13.35.202.18, 13.35.202.113, 13.35.202.117, ...\n",
            "Connecting to cdn-lfs-us-1.hf.co (cdn-lfs-us-1.hf.co)|13.35.202.18|:443... connected.\n",
            "HTTP request sent, awaiting response... 200 OK\n",
            "Length: 777717760 (742M) [application/x-tar]\n",
            "Saving to: ‘jawi.tar’\n",
            "\n",
            "jawi.tar            100%[===================>] 741.69M   301MB/s    in 2.5s    \n",
            "\n",
            "2025-06-01 18:49:42 (301 MB/s) - ‘jawi.tar’ saved [777717760/777717760]\n",
            "\n"
          ]
        }
      ]
    },
    {
      "cell_type": "code",
      "source": [
        "# 1. Mount your Google Drive\n",
        "from google.colab import drive\n",
        "drive.mount('/content/drive')"
      ],
      "metadata": {
        "colab": {
          "base_uri": "https://localhost:8080/"
        },
        "id": "D0rkS5oL1mno",
        "outputId": "58a9d3e8-72bb-4e95-9450-82a262962644"
      },
      "execution_count": null,
      "outputs": [
        {
          "output_type": "stream",
          "name": "stdout",
          "text": [
            "Mounted at /content/drive\n"
          ]
        }
      ]
    },
    {
      "cell_type": "code",
      "source": [
        "!python test_crnn.py \\\n",
        "    --dataset_dir ./dataset_sentence_test/ \\\n",
        "    --craft_model_path ./craft/exp/CRAFT_clr_amp_12000.pth \\\n",
        "    --crnn_model_path ./crnn/checkpoints/best_crnn.pth \\\n",
        "    --results_output_dir  ./test_results/ \\\n",
        "    --alphabet_path ./crnn/alphabet.json \\\n",
        "    --limit_test_to_n_images 0 \\\n",
        "    --custom_orientation_model_path best_jawi_orientation_resnet50.keras \\\n",
        "    --orientation_class_names \"0_degrees,180_degrees,270_degrees,90_degrees\" \\\n",
        "    --orientation_confidence_threshold 50.0 \\\n",
        "    --rerun_180_char_threshold 5"
      ],
      "metadata": {
        "colab": {
          "base_uri": "https://localhost:8080/"
        },
        "id": "-4dMsHEyvD7X",
        "outputId": "a4533b18-e31e-411b-ee97-82c759fad977"
      },
      "execution_count": null,
      "outputs": [
        {
          "output_type": "stream",
          "name": "stdout",
          "text": [
            "2025-06-01 18:55:48.888745: I tensorflow/core/util/port.cc:153] oneDNN custom operations are on. You may see slightly different numerical results due to floating-point round-off errors from different computation orders. To turn them off, set the environment variable `TF_ENABLE_ONEDNN_OPTS=0`.\n",
            "2025-06-01 18:55:48.906114: E external/local_xla/xla/stream_executor/cuda/cuda_fft.cc:485] Unable to register cuFFT factory: Attempting to register factory for plugin cuFFT when one has already been registered\n",
            "2025-06-01 18:55:48.926808: E external/local_xla/xla/stream_executor/cuda/cuda_dnn.cc:8454] Unable to register cuDNN factory: Attempting to register factory for plugin cuDNN when one has already been registered\n",
            "2025-06-01 18:55:48.933045: E external/local_xla/xla/stream_executor/cuda/cuda_blas.cc:1452] Unable to register cuBLAS factory: Attempting to register factory for plugin cuBLAS when one has already been registered\n",
            "2025-06-01 18:55:48.949187: I tensorflow/core/platform/cpu_feature_guard.cc:210] This TensorFlow binary is optimized to use available CPU instructions in performance-critical operations.\n",
            "To enable the following instructions: AVX2 AVX512F AVX512_VNNI FMA, in other operations, rebuild TensorFlow with the appropriate compiler flags.\n",
            "2025-06-01 18:55:50.170923: W tensorflow/compiler/tf2tensorrt/utils/py_utils.cc:38] TF-TRT Warning: Could not find TensorRT\n",
            "TensorFlow version: 2.17.0\n",
            "TensorFlow Found GPUs: [PhysicalDevice(name='/physical_device:GPU:0', device_type='GPU')]\n",
            "Initializing JawiOCREngine with CRNN...\n",
            "JawiOCREngine: Using PyTorch device: cuda\n",
            "Loading CRAFT weights from: ./craft/exp/CRAFT_clr_amp_12000.pth\n",
            "CRAFT model loaded successfully.\n",
            "Loading CRNN model from: ./crnn/checkpoints/best_crnn.pth\n",
            "Loading CRNN model from: ./crnn/checkpoints/best_crnn.pth\n",
            "Loading alphabet from: ./crnn/alphabet.json\n",
            "/content/jawiOCR/test_crnn.py:254: FutureWarning: You are using `torch.load` with `weights_only=False` (the current default value), which uses the default pickle module implicitly. It is possible to construct malicious pickle data which will execute arbitrary code during unpickling (See https://github.com/pytorch/pytorch/blob/main/SECURITY.md#untrusted-models for more details). In a future release, the default value for `weights_only` will be flipped to `True`. This limits the functions that could be executed during unpickling. Arbitrary objects will no longer be allowed to be loaded via this mode unless they are explicitly allowlisted by the user via `torch.serialization.add_safe_globals`. We recommend you start setting `weights_only=True` for any use case where you don't have full control of the loaded file. Please open an issue on GitHub for any issues related to this experimental feature.\n",
            "  state_dict = torch.load(model_path, map_location=device)\n",
            "CRNN model and alphabet loaded successfully.\n",
            "Loading Keras orientation model from best_jawi_orientation_resnet50.keras...\n",
            "2025-06-01 18:55:54.372545: W tensorflow/core/common_runtime/gpu/gpu_bfc_allocator.cc:47] Overriding orig_value setting because the TF_FORCE_GPU_ALLOW_GROWTH environment variable is set. Original config value was 0.\n",
            "2025-06-01 18:55:54.372706: I tensorflow/core/common_runtime/gpu/gpu_device.cc:2021] Created device /job:localhost/replica:0/task:0/device:GPU:0 with 20589 MB memory:  -> device: 0, name: NVIDIA L4, pci bus id: 0000:00:03.0, compute capability: 8.9\n",
            "/usr/local/lib/python3.11/dist-packages/keras/src/saving/saving_lib.py:757: UserWarning: Skipping variable loading for optimizer 'adam', because it has 38 variables whereas the saved optimizer has 42 variables. \n",
            "  saveable.load_own_variables(weights_store.get(inner_path))\n",
            "Keras model loaded.\n",
            "JawiOCREngine with CRNN initialized.\n",
            "\n",
            "Processing 12000 images from ./dataset_sentence_test/...\n",
            "Evaluating Images:   0% 0/12000 [00:00<?, ?it/s]WARNING: All log messages before absl::InitializeLog() is called are written to STDERR\n",
            "I0000 00:00:1748804159.009716   15471 service.cc:146] XLA service 0x78cf40002630 initialized for platform CUDA (this does not guarantee that XLA will be used). Devices:\n",
            "I0000 00:00:1748804159.009751   15471 service.cc:154]   StreamExecutor device (0): NVIDIA L4, Compute Capability 8.9\n",
            "2025-06-01 18:55:59.101998: I tensorflow/compiler/mlir/tensorflow/utils/dump_mlir_util.cc:268] disabling MLIR crash reproducer, set env var `MLIR_CRASH_REPRODUCER_DIRECTORY` to enable.\n",
            "2025-06-01 18:55:59.654875: I external/local_xla/xla/stream_executor/cuda/cuda_dnn.cc:531] Loaded cuDNN version 8907\n",
            "I0000 00:00:1748804161.873166   15471 device_compiler.h:188] Compiled cluster using XLA!  This line is logged at most once for the lifetime of the process.\n",
            "Evaluating Images: 100% 12000/12000 [37:33<00:00,  5.32it/s]\n",
            "\n",
            "--- Evaluation Results ---\n",
            "Sentence Recognition Accuracy: 0.00% (0/12000)\n",
            "Word Error Rate (WER): 99.44%\n",
            "Character Error Rate (CER): 56.01%\n",
            "Word Recognition Accuracy (100 - WER): 0.56%\n",
            "\n",
            "--- First 10 Predictions vs Ground Truths ---\n",
            "Image 1 (img_1.jpg):\n",
            "  GT  : 'ڤمبنترس کونتول بليݢو ڤݢاري ڤرلاونن ترتيب لوتيک۔'\n",
            "  Pred: 'فدتري کولوال ڽلسچاڠݢو سݢاري ۏرلاون فرهچب لوکوا٢'\n",
            "--------------------\n",
            "Image 2 (img_2.jpg):\n",
            "  GT  : 'ڤمبنترس کونتول بليݢو ڤݢاري ڤرلاونن ترتيب لوتيک۔'\n",
            "  Pred: 'ڤمنڤراس فولفول ڽل-ڽڠݢو ڤاݢاري ڤرلاونڽ قرڠڽب لوق-لام'\n",
            "--------------------\n",
            "Image 3 (img_3.jpg):\n",
            "  GT  : 'ڤمبنترس کونتول بليݢو ڤݢاري ڤرلاونن ترتيب لوتيک۔'\n",
            "  Pred: 'ڤهنتر‌س ولتول ملچڽاݢو ڤاݢاري مرلاون ڤرڽس إلوا'\n",
            "--------------------\n",
            "Image 4 (img_4.jpg):\n",
            "  GT  : 'ڤمبنترس کونتول بليݢو ڤݢاري ڤرلاونن ترتيب لوتيک۔'\n",
            "  Pred: 'ڤمهمقم-روءا لولقول ڽلڽ-ڽو ڤاݢاري ڤرلاونڽ ڤرڤڽچم لوق-هلاد'\n",
            "--------------------\n",
            "Image 5 (img_5.jpg):\n",
            "  GT  : 'ڤمبنترس کونتول بليݢو ڤݢاري ڤرلاونن ترتيب لوتيک۔'\n",
            "  Pred: 'ددمڤري کونتوال ڽلڽاݢو فاݢاري ۏررلاون فرقڽب للا'\n",
            "--------------------\n",
            "Image 6 (img_6.jpg):\n",
            "  GT  : 'ڤمبنترس کونتول بليݢو ڤݢاري ڤرلاونن ترتيب لوتيک۔'\n",
            "  Pred: 'ڤمنچڤرسا تونلتوال ڽللڽاݢو ڤاݢاري ڤرلاولن ڤرلق-ڽم لويهاء'\n",
            "--------------------\n",
            "Image 7 (img_7.jpg):\n",
            "  GT  : 'ڤمبنترس کونتول بليݢو ڤݢاري ڤرلاونن ترتيب لوتيک۔'\n",
            "  Pred: 'ڤهملرتا يولولا ڽلݢو ڤڤاري فلاون مرڽڽا يلولا'\n",
            "--------------------\n",
            "Image 8 (img_8.jpg):\n",
            "  GT  : 'ڤمبنترس کونتول بليݢو ڤݢاري ڤرلاونن ترتيب لوتيک۔'\n",
            "  Pred: 'ڤهمتلرتلا ڽولت-يولا ڽلسلسو ڤلݢداري ڤراوانڽ سرال-ڽا ڽو-چڽهاد'\n",
            "--------------------\n",
            "Image 9 (img_9.jpg):\n",
            "  GT  : 'ڤمبنترس کونتول بليݢو ڤݢاري ڤرلاونن ترتيب لوتيک۔'\n",
            "  Pred: 'ڤلال-لالا نول-ولا ڽل-لکسو ملݢاري للرلالا ڤرالڽلب يلولال'\n",
            "--------------------\n",
            "Image 10 (img_10.jpg):\n",
            "  GT  : 'ڤمبنترس کونتول بليݢو ڤݢاري ڤرلاونن ترتيب لوتيک۔'\n",
            "  Pred: 'ڤلملتلراسلا کوالوالا ڽلݢلو ڤلݢاري ڤالاوالڽ ڤارلتڽلف لولڠڽتم'\n",
            "--------------------\n",
            "\n",
            "Detailed results saved to: ./test_results/e2e_crnn_test_results.csv\n",
            "Summary saved to: ./test_results/e2e_crnn_test_summary.txt\n"
          ]
        }
      ]
    },
    {
      "cell_type": "code",
      "source": [
        "from google.colab import drive\n",
        "local_path = './test_results/e2e_crnn_test_summary.txt'               # path to the file in Colab VM\n",
        "drive_path = '/content/drive/MyDrive/'  # target path in your Drive\n",
        "\n",
        "# 3. Copy the file into Drive\n",
        "import shutil\n",
        "shutil.copy(local_path, drive_path)\n",
        "\n",
        "print(f\"Saved {local_path} to {drive_path}\")"
      ],
      "metadata": {
        "colab": {
          "base_uri": "https://localhost:8080/"
        },
        "id": "6aVq8cb42ATk",
        "outputId": "b965ab79-71d1-46e4-eb0b-0f81f6282635"
      },
      "execution_count": null,
      "outputs": [
        {
          "output_type": "stream",
          "name": "stdout",
          "text": [
            "Saved ./test_results/e2e_crnn_test_summary.txt to /content/drive/MyDrive/\n"
          ]
        }
      ]
    },
    {
      "cell_type": "code",
      "source": [
        "from google.colab import files\n",
        "files.download('./test_results/e2e_crnn_test_summary.txt')"
      ],
      "metadata": {
        "colab": {
          "base_uri": "https://localhost:8080/",
          "height": 17
        },
        "id": "5XqARSoj2BWg",
        "outputId": "0ac76f22-f910-4151-c0cb-74f8fe49935b"
      },
      "execution_count": null,
      "outputs": [
        {
          "output_type": "display_data",
          "data": {
            "text/plain": [
              "<IPython.core.display.Javascript object>"
            ],
            "application/javascript": [
              "\n",
              "    async function download(id, filename, size) {\n",
              "      if (!google.colab.kernel.accessAllowed) {\n",
              "        return;\n",
              "      }\n",
              "      const div = document.createElement('div');\n",
              "      const label = document.createElement('label');\n",
              "      label.textContent = `Downloading \"${filename}\": `;\n",
              "      div.appendChild(label);\n",
              "      const progress = document.createElement('progress');\n",
              "      progress.max = size;\n",
              "      div.appendChild(progress);\n",
              "      document.body.appendChild(div);\n",
              "\n",
              "      const buffers = [];\n",
              "      let downloaded = 0;\n",
              "\n",
              "      const channel = await google.colab.kernel.comms.open(id);\n",
              "      // Send a message to notify the kernel that we're ready.\n",
              "      channel.send({})\n",
              "\n",
              "      for await (const message of channel.messages) {\n",
              "        // Send a message to notify the kernel that we're ready.\n",
              "        channel.send({})\n",
              "        if (message.buffers) {\n",
              "          for (const buffer of message.buffers) {\n",
              "            buffers.push(buffer);\n",
              "            downloaded += buffer.byteLength;\n",
              "            progress.value = downloaded;\n",
              "          }\n",
              "        }\n",
              "      }\n",
              "      const blob = new Blob(buffers, {type: 'application/binary'});\n",
              "      const a = document.createElement('a');\n",
              "      a.href = window.URL.createObjectURL(blob);\n",
              "      a.download = filename;\n",
              "      div.appendChild(a);\n",
              "      a.click();\n",
              "      div.remove();\n",
              "    }\n",
              "  "
            ]
          },
          "metadata": {}
        },
        {
          "output_type": "display_data",
          "data": {
            "text/plain": [
              "<IPython.core.display.Javascript object>"
            ],
            "application/javascript": [
              "download(\"download_9cf2b821-b915-44a6-8f33-70174df09ac2\", \"e2e_crnn_test_summary.txt\", 162)"
            ]
          },
          "metadata": {}
        }
      ]
    },
    {
      "cell_type": "code",
      "source": [
        "!git pull"
      ],
      "metadata": {
        "colab": {
          "base_uri": "https://localhost:8080/"
        },
        "id": "8d89yOFHv6Bx",
        "outputId": "e37537fa-5dfe-4d8d-8347-55a23c423c0b"
      },
      "execution_count": null,
      "outputs": [
        {
          "output_type": "stream",
          "name": "stdout",
          "text": [
            "remote: Enumerating objects: 5, done.\u001b[K\n",
            "remote: Counting objects:  20% (1/5)\u001b[K\rremote: Counting objects:  40% (2/5)\u001b[K\rremote: Counting objects:  60% (3/5)\u001b[K\rremote: Counting objects:  80% (4/5)\u001b[K\rremote: Counting objects: 100% (5/5)\u001b[K\rremote: Counting objects: 100% (5/5), done.\u001b[K\n",
            "remote: Compressing objects: 100% (1/1)\u001b[K\rremote: Compressing objects: 100% (1/1), done.\u001b[K\n",
            "remote: Total 3 (delta 2), reused 3 (delta 2), pack-reused 0 (from 0)\u001b[K\n",
            "Unpacking objects:  33% (1/3)\rUnpacking objects:  66% (2/3)\rUnpacking objects: 100% (3/3)\rUnpacking objects: 100% (3/3), 288 bytes | 144.00 KiB/s, done.\n",
            "From https://github.com/mirzasyhm/jawiOCR\n",
            "   ffc3720..ea86bbc  main       -> origin/main\n",
            "Updating ffc3720..ea86bbc\n",
            "Fast-forward\n",
            " test_crnn.py | 2 \u001b[32m+\u001b[m\u001b[31m-\u001b[m\n",
            " 1 file changed, 1 insertion(+), 1 deletion(-)\n"
          ]
        }
      ]
    }
  ]
}